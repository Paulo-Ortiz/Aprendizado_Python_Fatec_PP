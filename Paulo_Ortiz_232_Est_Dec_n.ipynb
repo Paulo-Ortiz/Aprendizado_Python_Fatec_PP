{
  "nbformat": 4,
  "nbformat_minor": 0,
  "metadata": {
    "colab": {
      "provenance": [],
      "include_colab_link": true
    },
    "kernelspec": {
      "name": "python3",
      "display_name": "Python 3"
    }
  },
  "cells": [
    {
      "cell_type": "markdown",
      "metadata": {
        "id": "view-in-github",
        "colab_type": "text"
      },
      "source": [
        "<a href=\"https://colab.research.google.com/github/Paulo-Ortiz/Aprendizado_Python_Fatec_PP/blob/main/Paulo_Ortiz_232_Est_Dec_n.ipynb\" target=\"_parent\"><img src=\"https://colab.research.google.com/assets/colab-badge.svg\" alt=\"Open In Colab\"/></a>"
      ]
    },
    {
      "cell_type": "markdown",
      "metadata": {
        "id": "I3ayCEJnHhtv"
      },
      "source": [
        "#Lista de exercícios de ESTRUTURA de DECISÃO (estrutura condicional)\n",
        "#Fazer do 1 ao 20, o restante fica para estudos"
      ]
    },
    {
      "cell_type": "markdown",
      "metadata": {
        "id": "E64RcqHIMXAS"
      },
      "source": [
        "### 1.a) Faça um algoritmo que calcule e exiba o salário reajustado de um funcionário de acordo com a seguinte regra: Salário até 500, reajuste de 50%."
      ]
    },
    {
      "cell_type": "code",
      "metadata": {
        "id": "iepDUOyzHFPt",
        "colab": {
          "base_uri": "https://localhost:8080/"
        },
        "outputId": "9466e6c9-4e6c-41f0-ec4f-5dc3027678f5"
      },
      "source": [
        "# entrada\n",
        "salario = float(input('Digite o salário: '))\n",
        "# processamento\n",
        "if salario <= 500:\n",
        "    reajuste = salario + (salario * 50 / 100)\n",
        "    # saida\n",
        "    print(f'Salário reajustado R$ {reajuste:.2f}')\n"
      ],
      "execution_count": null,
      "outputs": [
        {
          "output_type": "stream",
          "name": "stdout",
          "text": [
            "Digite o salário: 500\n",
            "Salário reajustado R$ 750.00\n"
          ]
        }
      ]
    },
    {
      "cell_type": "markdown",
      "metadata": {
        "id": "OYoL34dGG0XC"
      },
      "source": [
        "###1.b) Faça um algoritmo que calcule e exiba o salário reajustado de um funcionário de acordo com a seguinte regra: Salário até 500, reajuste de 50%; Salários maiores que 500, reajuste de 30%."
      ]
    },
    {
      "cell_type": "code",
      "metadata": {
        "id": "uLE2w6-aMadI",
        "colab": {
          "base_uri": "https://localhost:8080/"
        },
        "outputId": "a98dfa7d-dc50-4c9c-e4e6-c1402d863838"
      },
      "source": [
        "# entrada\n",
        "salario = float(input('Digite o salário: '))\n",
        "# processamento\n",
        "if salario <= 500:\n",
        "    reajuste = salario + (salario * 50 / 100)\n",
        "    # saida\n",
        "    print(f'Salário reajustado R$ {reajuste:.2f}')\n",
        "else: # >\n",
        "    reajuste = salario + (salario * 30 / 100)\n",
        "    # saida\n",
        "    print(f'Salário reajustado R$ {reajuste:.2f}')\n",
        "\n"
      ],
      "execution_count": null,
      "outputs": [
        {
          "output_type": "stream",
          "name": "stdout",
          "text": [
            "Digite o salário: 1000\n",
            "Salário reajustado R$ 1300.00\n"
          ]
        }
      ]
    },
    {
      "cell_type": "markdown",
      "source": [
        "###1.c) Faça um algoritmo que calcule e exiba o salário reajustado de um funcionário de acordo com a seguinte regra: Salário até 500, reajuste de 50%; Salários maiores que 500 e até 1000, reajuste de 30%; Salários acima de 1000, reajuste de 10%."
      ],
      "metadata": {
        "id": "FP7AFG4hidmr"
      }
    },
    {
      "cell_type": "code",
      "source": [
        "# entrada\n",
        "salario = float(input('Digite o salário: '))\n",
        "# processamento\n",
        "if salario <= 500:\n",
        "    reajuste = salario + (salario * 50 / 100)\n",
        "    print(f'Salário reajustado R$ {reajuste:.2f}')\n",
        "    # Salários maiores que 500 e até 1000\n",
        "elif salario > 500 and salario <= 1000:\n",
        "    reajuste = salario + (salario * 30 / 100)\n",
        "    print(f'Salário reajustado R$ {reajuste:.2f}')\n",
        "else:\n",
        "    reajuste = salario + (salario * 10 / 100)\n",
        "    print(f'Salário reajustado R$ {reajuste:.2f}')\n",
        "\n"
      ],
      "metadata": {
        "id": "JslC5_aniusE",
        "colab": {
          "base_uri": "https://localhost:8080/"
        },
        "outputId": "15b7fbaf-dcd8-4d7a-868f-d033cdbb6916"
      },
      "execution_count": null,
      "outputs": [
        {
          "output_type": "stream",
          "name": "stdout",
          "text": [
            "Digite o salário: 501\n",
            "Salário reajustado R$ 651.30\n"
          ]
        }
      ]
    },
    {
      "cell_type": "markdown",
      "metadata": {
        "id": "inPGbmBaMe3R"
      },
      "source": [
        "###2. Faça um algoritmo que leia o nome e a idade de uma pessoa, verifique se a idade de uma pessoa é menor ou maior de idade. Considera-se maior de idade uma pessoa com 18 anos ou mais. Como saída o algoritmo deve informar o nome e a idade da pessoa e depois uma mensagem se ela é ou não maior de idade.\n"
      ]
    },
    {
      "cell_type": "code",
      "metadata": {
        "id": "XxrUc9yWND8a",
        "colab": {
          "base_uri": "https://localhost:8080/"
        },
        "outputId": "a7e3450a-c6e2-45fc-df8b-137c69f47cf6"
      },
      "source": [
        "# entrada\n",
        "nome = input('Digite o nome: ')\n",
        "idade = int(input('Digite a idade: '))\n",
        "# processamento\n",
        "if idade >= 18:\n",
        "    # saída\n",
        "    print(nome, '-', idade, 'anos e é maior de idade')\n",
        "else: # <\n",
        "    # saída\n",
        "    print(nome, '-', idade, 'anos e é menor de idade')\n",
        "\n",
        "\n"
      ],
      "execution_count": null,
      "outputs": [
        {
          "output_type": "stream",
          "name": "stdout",
          "text": [
            "Digite o nome: Paulo\n",
            "Digite a idade: 10\n",
            "Paulo - 10 anos e é menor de idade\n"
          ]
        }
      ]
    },
    {
      "cell_type": "markdown",
      "source": [
        "###3.a) Faça um algoritmo que leia duas notas de um aluno, calcule a média e verifique, apresentando, se está aprovado ou reprovado."
      ],
      "metadata": {
        "id": "m6_s-6CeXRgm"
      }
    },
    {
      "cell_type": "code",
      "source": [
        "p1 = float(input('digite a p1: '))\n",
        "p2 = float(input('digite a p2: '))\n",
        "media = (p1 + p2) / 2\n",
        "if media >= 6:\n",
        "    print('Média: ',media,'Aluno aprovado')\n",
        "else:\n",
        "    print('Média: ',media,'Aluno reprovado')"
      ],
      "metadata": {
        "id": "zHYYE1H3X1Ug",
        "colab": {
          "base_uri": "https://localhost:8080/"
        },
        "outputId": "cc640af1-492d-429a-ddf7-0dfdb679f275"
      },
      "execution_count": null,
      "outputs": [
        {
          "output_type": "stream",
          "name": "stdout",
          "text": [
            "digite a p1: 10\n",
            "digite a p2: 9\n",
            "Média:  9.5 Aluno aprovado\n"
          ]
        }
      ]
    },
    {
      "cell_type": "markdown",
      "source": [
        "###3.b) Faça um algoritmo que calcule e apresente o que foi requerido no exercício 3.a) e também avalie a condição de aprovar/reprovar, apenas quando o aluno tem frequencia acima de 75%, este valor deve ser lido."
      ],
      "metadata": {
        "id": "FDxDc_2RX7vf"
      }
    },
    {
      "cell_type": "code",
      "source": [
        "p1 = float(input('digite a p1: '))\n",
        "p2 = float(input('digite a p2: '))\n",
        "frequencia = float(input('Digite a frequência: '))\n",
        "media = (p1 + p2) / 2\n",
        "if media >= 6:\n",
        "    print('Média: ',media,'Aluno aprovado por nota')\n",
        "else:\n",
        "    print('Média: ',media,'Aluno reprovado por nota')\n",
        "\n",
        "if frequencia >= 75:\n",
        "    print('Aluno aprovado por frequência')\n",
        "else:\n",
        "    print('Aluno reprovado por frequência')"
      ],
      "metadata": {
        "id": "IUOPeeExYide",
        "colab": {
          "base_uri": "https://localhost:8080/"
        },
        "outputId": "09d4d2c6-70c5-47f2-c0ba-058de7b61622"
      },
      "execution_count": null,
      "outputs": [
        {
          "output_type": "stream",
          "name": "stdout",
          "text": [
            "digite a p1: 5\n",
            "digite a p2: 5\n",
            "Digite a frequência: 60\n",
            "Média:  5.0 Aluno reprovado por nota\n",
            "Aluno reprovado por frequência\n"
          ]
        }
      ]
    },
    {
      "cell_type": "code",
      "source": [
        "p1 = float(input('digite a p1: '))\n",
        "p2 = float(input('digite a p2: '))\n",
        "frequencia = float(input('Digite a frequência: '))\n",
        "media = (p1 + p2) / 2\n",
        "if media >= 6 and frequencia >= 75:\n",
        "    print('Média: ',media,'Aluno aprovado por nota e frequência')\n",
        "elif media >= 6 and frequencia < 75:\n",
        "    print('Média: ',media,'Aluno aprovado por nota e reprovado por frequência')\n",
        "elif media < 6 and frequencia >= 75:\n",
        "    print('Média: ',media,'Aluno reprovado por nota e aprovado por frequência')\n",
        "else:\n",
        "    print('Média: ',media,'Aluno reprovado por nota e reprovado por frequência')"
      ],
      "metadata": {
        "colab": {
          "base_uri": "https://localhost:8080/"
        },
        "id": "rZSAK8uvZQ4r",
        "outputId": "1abba9fd-f65c-4d96-a47a-48d9b39f56c0"
      },
      "execution_count": null,
      "outputs": [
        {
          "output_type": "stream",
          "name": "stdout",
          "text": [
            "digite a p1: 4\n",
            "digite a p2: 4\n",
            "Digite a frequência: 50\n",
            "Média:  4.0 Aluno reprovado por nota e reprovado por frequência\n"
          ]
        }
      ]
    },
    {
      "cell_type": "markdown",
      "source": [
        "###4. Faça um algoritmo que leia o gênero de uma pessoa. Se for digitado M ou F, apresentar 'Gênero válido!'. Caso contrário, 'Gênero inválido!'."
      ],
      "metadata": {
        "id": "zi3sycu6Y8hH"
      }
    },
    {
      "cell_type": "code",
      "source": [
        "genero = str(input('informe o gênero M ou F: '))\n",
        "if genero == 'M' or genero == 'F':\n",
        "    print('Gênero válido!')\n",
        "else:\n",
        "    print('Gênero inválido!')"
      ],
      "metadata": {
        "id": "Aa7k7IoAY89K",
        "colab": {
          "base_uri": "https://localhost:8080/"
        },
        "outputId": "a3297766-6404-41bb-b39c-ff6557aa78de"
      },
      "execution_count": null,
      "outputs": [
        {
          "output_type": "stream",
          "name": "stdout",
          "text": [
            "informe o gênero M ou F: M\n",
            "Gênero válido!\n"
          ]
        }
      ]
    },
    {
      "cell_type": "markdown",
      "metadata": {
        "id": "mWl0IWlJNEtA"
      },
      "source": [
        "###5. Tendo como dados de entrada a altura e o gênero (M/F) de uma pessoa (M-masculino ou F-feminino), construa um algoritmo que calcule seu peso ideal, utilizando as seguintes fórmulas:\n",
        "masculino: (72.7 * altura) - 58;\n",
        "\n",
        "feminino: (62.1 * altura) - 44.7\n",
        "\n"
      ]
    },
    {
      "cell_type": "code",
      "source": [
        "genero = input('Informe o gênero: ')\n",
        "altura = float(input('Informe a altura: '))\n",
        "if genero == 'M' or genero == 'm':\n",
        "    peso_ideal = (72.7 * altura) - 58\n",
        "    print(f'Seu peso ideal é: {peso_ideal:.2f} kg')\n",
        "elif genero == 'F' or genero == 'f':\n",
        "    peso_ideal = (62.1 * altura) - 44.7\n",
        "    print(f'Seu peso ideal é: {peso_ideal:.2f} kg')\n",
        "else:\n",
        "    print('Gênero inválido, tente novamente!')"
      ],
      "metadata": {
        "id": "iEeypQ0n7f_S",
        "colab": {
          "base_uri": "https://localhost:8080/"
        },
        "outputId": "312370b2-71ee-4b31-c770-a67b68e9c41b"
      },
      "execution_count": null,
      "outputs": [
        {
          "output_type": "stream",
          "name": "stdout",
          "text": [
            "Informe o gênero: 1\n",
            "Informe a altura: 1\n",
            "Gênero inválido, tente novamente!\n"
          ]
        }
      ]
    },
    {
      "cell_type": "markdown",
      "source": [
        "###6. Faça um algoritmo que leia dois números inteiros e mostre o resultado da **diferença** do maior valor pelo menor."
      ],
      "metadata": {
        "id": "7QnlOyxxaAZc"
      }
    },
    {
      "cell_type": "code",
      "source": [
        "n1 = int(input('Informe o primeiro número: '))\n",
        "n2 = int(input('Informe o segundo número: '))\n",
        "if n1 > n2:\n",
        "    diferenca1 = n1 - n2\n",
        "    print('A diferença do primeiro número em relação ao segundo número é de:', diferenca1)\n",
        "elif n2 > n1:\n",
        "    diferenca2 = n2 - n1\n",
        "    print('A diferença do segundo número em relação ao primeiro número é de:', diferenca2)\n",
        "else:\n",
        "    print('Não existe diferença entre os números informados.')\n",
        "\n",
        "\n"
      ],
      "metadata": {
        "id": "8Eu5pLm5Z-Y7",
        "colab": {
          "base_uri": "https://localhost:8080/"
        },
        "outputId": "750d37d6-4e42-49ae-c98d-1fd6c96728e3"
      },
      "execution_count": null,
      "outputs": [
        {
          "output_type": "stream",
          "name": "stdout",
          "text": [
            "Informe o primeiro número: 5\n",
            "Informe o segundo número: 6\n",
            "A diferença do segundo número em relação ao primeiro número é de: 1\n"
          ]
        }
      ]
    },
    {
      "cell_type": "markdown",
      "source": [
        "###7. Uma faculdade faz o pagamento de seus professores por hora/aula. Faça um algoritmo que receba o nível e a quantidade de hora/aula, calcule e exiba o salário de um professor e a frase a seguira tabela abaixo:\n",
        "Professor Nível 1 - 11,00 reais por hora/aula, salário: ...\n",
        "\n",
        "Professor Nível 2 - 15,00 reais por hora/aula, salário: ...\n",
        "\n",
        "Professor Nível 3 - 19,00 reais por hora/aula, salário: ..."
      ],
      "metadata": {
        "id": "VupgaQwwagfI"
      }
    },
    {
      "cell_type": "code",
      "metadata": {
        "id": "Q8ZKZyGLNxFf",
        "colab": {
          "base_uri": "https://localhost:8080/"
        },
        "outputId": "52f93e7a-31eb-478c-a387-6476b0066e8f"
      },
      "source": [
        "nivel = str(input('Informe qual o seu nível de professor, Ex: Nível 1, Nível 2 ou Nível 3: '))\n",
        "horas = int(input('Informe a quantidade de hora/aula: '))\n",
        "if nivel == 'Nível 1':\n",
        "    salario = horas * 11\n",
        "    print('O salário recebido é de: R$', salario,)\n",
        "elif nivel == 'Nível 2':\n",
        "    salario = horas * 15\n",
        "    print('O salário recebido é de: R$', salario,)\n",
        "else:\n",
        "    salario = horas * 19\n",
        "    print('O salário recebido é de: R$', salario,)\n"
      ],
      "execution_count": null,
      "outputs": [
        {
          "output_type": "stream",
          "name": "stdout",
          "text": [
            "Informe qual o seu nível de professor, Ex: Nível 1, Nível 2 ou Nível 3: Nível 3\n",
            "Informe a quantidade de hora/aula: 200\n",
            "O salário recebido é de: R$ 3800\n"
          ]
        }
      ]
    },
    {
      "cell_type": "markdown",
      "metadata": {
        "id": "ZG-AZwwLN4Vf"
      },
      "source": [
        "###8. Faça um algoritmo que leia um número inteiro e mostre uma mensagem indicando se este número é par ou ímpar e se é positivo ou negativo.\n"
      ]
    },
    {
      "cell_type": "code",
      "metadata": {
        "id": "t4jNff-_N9xR",
        "colab": {
          "base_uri": "https://localhost:8080/"
        },
        "outputId": "64aa3394-f6c2-4548-e8a0-fb25e0e718ab"
      },
      "source": [
        "numero = int(input('Informe um número inteiro: '))\n",
        "if numero % 2 == 0 and  numero > 0:\n",
        "    print('Este é um número par e positivo')\n",
        "elif numero % 2 == 0 and  numero < 0:\n",
        "    print('Este é um número par e negativo')\n",
        "elif numero % 2 != 0 and numero > 0:\n",
        "    print('Este é um número ímpar e positivo')\n",
        "elif numero % 2 != 0 and numero < 0:\n",
        "    print('Este é um número ímpar e negativo')\n",
        "\n"
      ],
      "execution_count": null,
      "outputs": [
        {
          "output_type": "stream",
          "name": "stdout",
          "text": [
            "Informe um número inteiro: 11\n",
            "Este é um número ímpar e positivo\n"
          ]
        }
      ]
    },
    {
      "cell_type": "markdown",
      "source": [
        "###9. Num determinado Estado, para transferências de veículos, o DETRAN cobra uma taxa de 1% para carros fabricados antes de 1990 e uma taxa de 1.5% para os fabricados de 1990 em diante, taxa esta incidindo sobre o valor de tabela do carro. Faça um algoritmo que leia o ano e o preço do carro, calcule e apresente o imposto a ser pago."
      ],
      "metadata": {
        "id": "4CVm6Oa5eNTp"
      }
    },
    {
      "cell_type": "code",
      "source": [
        "# Digite seu código aqui\n",
        "ano = int(input('Informe o ano do veículo: '))\n",
        "preço = float(input('Informe o valor do veículo: '))\n",
        "if ano < 1990:\n",
        "    ano_imposto = preço * 0.01\n",
        "    print('O valor do imposto a ser pago é: R$', ano_imposto)\n",
        "else:\n",
        "    ano_imposto = preço * 0.0150\n",
        "    print('O valor do imposto a ser pago é: R$', ano_imposto)"
      ],
      "metadata": {
        "id": "ys1x7SuegHK1",
        "colab": {
          "base_uri": "https://localhost:8080/"
        },
        "outputId": "3553b7a2-e59d-4999-f7f9-0d6df0bbc68e"
      },
      "execution_count": null,
      "outputs": [
        {
          "output_type": "stream",
          "name": "stdout",
          "text": [
            "Informe o ano do veículo: 2000\n",
            "Informe o valor do veículo: 3000\n",
            "O valor do imposto a ser pago é: R$ 45.0\n"
          ]
        }
      ]
    },
    {
      "cell_type": "markdown",
      "metadata": {
        "id": "tFR9qp3gN999"
      },
      "source": [
        "###10. Elabore um algoritmo que informando a idade de um nadador o mesmo terá condições de classificar em uma das seguintes categorias:\n",
        "infantil = 5 - 10 anos;\n",
        "\n",
        "juvenil = 11-17 anos;\n",
        "\n",
        "adulto = maiores de 18 anos.\n",
        "\n"
      ]
    },
    {
      "cell_type": "code",
      "metadata": {
        "id": "ECh55bXTOUN3",
        "colab": {
          "base_uri": "https://localhost:8080/"
        },
        "outputId": "cf975c3c-8f91-453a-a41d-1a7be55ad643"
      },
      "source": [
        "idade = int(input('Informe a idade: '))\n",
        "if idade >= 5 and idade <= 10:\n",
        "    print('Infantil')\n",
        "elif idade >= 11 and idade <= 17:\n",
        "    print('Juvenil')\n",
        "else:\n",
        "    print('Adulto')\n"
      ],
      "execution_count": null,
      "outputs": [
        {
          "output_type": "stream",
          "name": "stdout",
          "text": [
            "Informe a idade: 16\n",
            "Juvenil\n"
          ]
        }
      ]
    },
    {
      "cell_type": "code",
      "source": [
        "idade = int(input('Informe a idade: '))\n",
        "if idade >= 5 and idade <= 10:\n",
        "    print('Infantil')\n",
        "elif idade >= 11 and idade <= 17:\n",
        "    print('Juvenil')\n",
        "elif idade >= 18:\n",
        "    print('Adulto')\n",
        "else:\n",
        "    print('Idade não permitida na natação!')\n"
      ],
      "metadata": {
        "colab": {
          "base_uri": "https://localhost:8080/"
        },
        "id": "QGwCxEKjV-_d",
        "outputId": "c5adac93-9300-4846-f4aa-268071fbf74f"
      },
      "execution_count": null,
      "outputs": [
        {
          "output_type": "stream",
          "name": "stdout",
          "text": [
            "Informe a idade: 4\n",
            "Idade não permitida na natação!\n"
          ]
        }
      ]
    },
    {
      "cell_type": "markdown",
      "metadata": {
        "id": "pWT4E1FfOUkH"
      },
      "source": [
        "###11. Um banco concederá um crédito especial aos seus clientes, variável com o saldo médio no último ano. Faça um algoritmo que leia o saldo médio de um cliente e calcule o valor do crédito de acordo com a tabela a seguir. Mostre uma mensagem informando o saldo médio e o valor do crédito.\n",
        "        Saldo médio\n",
        "        * de 0 a 200 nenhum crédito\n",
        "        * de 201 a  400 20% do valor do saldo médio\n",
        "        * de 401 a  600 30% do valor do saldo médio\n",
        "        * acima de 601 40% do valor do saldo médio\n"
      ]
    },
    {
      "cell_type": "code",
      "metadata": {
        "id": "bjndIJmMP2--",
        "colab": {
          "base_uri": "https://localhost:8080/"
        },
        "outputId": "612bcece-cad7-4c7f-9b09-6003b2980a57"
      },
      "source": [
        "saldo = float(input(\"Informe o saldo do último ano: \"))\n",
        "if saldo >= 0 and saldo <= 200:\n",
        "    print('nenhum crédito')\n",
        "elif saldo >= 201 and saldo <= 400:\n",
        "    credito = saldo * 0.20\n",
        "    print('O saldo médio é de R$:', saldo, 'e o valor do crédito é de R$:', credito)\n",
        "elif saldo >= 401 and saldo <= 600:\n",
        "    credito = saldo * 0.30\n",
        "    print('O saldo médio é de R$:', saldo, 'e o valor do crédito é de R$:', credito)\n",
        "else:\n",
        "    credito = saldo * 0.40\n",
        "    print('O saldo médio é de R$:', saldo, 'e o valor do crédito é de R$:', credito)"
      ],
      "execution_count": null,
      "outputs": [
        {
          "output_type": "stream",
          "name": "stdout",
          "text": [
            "Informe o saldo do último ano: 601\n",
            "O saldo médio é de R$: 601.0 e o valor do crédito é de R$: 240.4\n"
          ]
        }
      ]
    },
    {
      "cell_type": "markdown",
      "metadata": {
        "id": "4NQ1BgrnQCJ4"
      },
      "source": [
        "###12. A Organização Mundial de Saúde usa a seguinte tabela para determinar a condição de um adulto, para isso desenvolva um algoritmo para calcular o Índice de Massa Corporal (IMC) e apresenta-lo, dado pela fórmula:\n",
        "    IMC = peso / (altura)2   (o número 2 significa, elevado ao quadrado)\n",
        "\n",
        "CONDIÇÃO |  IMC em adultos |\n",
        " ---|---\n",
        "Abaixo do peso  |\tAbaixo de 18.5  |\n",
        "No peso normal\t|\tEntre 18.5 e 25|\n",
        "Acima do peso\t|\tEntre 25.1 e 30|\n",
        "Obeso\t\t    |\tAcima de 30|"
      ]
    },
    {
      "cell_type": "code",
      "metadata": {
        "id": "s7C4mls6TT90",
        "colab": {
          "base_uri": "https://localhost:8080/"
        },
        "outputId": "ee0c0c9e-8541-4e1d-dda6-73b535b395b4"
      },
      "source": [
        "peso = float(input('Informe o seu peso: '))\n",
        "altura = float(input('Informe a sua altura: '))\n",
        "imc = peso / altura ** 2\n",
        "if imc <= 18.5:\n",
        "    print('Abaixo do peso e seu IMC é:', imc)\n",
        "elif imc > 18.5 and imc <= 25:\n",
        "    print('No peso normal e seu IMC é:', imc)\n",
        "elif imc >= 25.1 and imc <= 30:\n",
        "    print('Acima do peso e seu IMC é:', imc)\n",
        "else:\n",
        "    print('Obeso e seu IMC é:', imc)\n"
      ],
      "execution_count": null,
      "outputs": [
        {
          "output_type": "stream",
          "name": "stdout",
          "text": [
            "Informe o seu peso: 85\n",
            "Informe a sua altura: 1.72\n",
            "Acima do peso e seu IMC é: 28.73174689021093\n"
          ]
        }
      ]
    },
    {
      "cell_type": "markdown",
      "metadata": {
        "id": "-Lj_vtkDwhfJ"
      },
      "source": [
        "###13. A nota final de um estudante é calculada a partir de três notas atribuídas, respectivamente, a um trabalho de laboratório, a uma avaliação semestral e a um exame final. A média das três notas mencionadas obedece aos pesos a seguir:\n",
        "\n",
        " NOTA |  PESO |\n",
        " ---|---\n",
        "Trabalho de laboratório  |   2   |\n",
        "Avaliação semestral      |   3   |\n",
        "Exame final              |   5   |\n",
        "\n",
        "### Faça um programa que receba as três notas, calcule e mostre a média ponderada e o conceito que segue a tabela\n",
        "\n",
        "MÉDIA PONDERADA    | CONCEITO|\n",
        "---|---\n",
        "8,0 <= média <= 10  |    A\n",
        "7,0 <= média < 8,0  |    B\n",
        "6,0 <= média < 7,0  |    C\n",
        "5,0 <= média < 6,0  |    D\n",
        " 0,0 <= média < 5,0  |    E\n",
        "       \n",
        "media_ponderada = (nota_traballho * 2 + avaliacao_semestral * 3 + exame_final * 5) / 10\n",
        "\n"
      ]
    },
    {
      "cell_type": "code",
      "metadata": {
        "id": "fhlh7OxNwDhl",
        "colab": {
          "base_uri": "https://localhost:8080/"
        },
        "outputId": "163bbf00-4638-42f7-a221-5725ece0977f"
      },
      "source": [
        "# Digite seu código aqui\n",
        "nota_trabalho = float(input('Informe a nota do trabalho de laboratório: '))\n",
        "nota_avaliacao_semestral = float(input('Informe a nota da avaliação semestral: '))\n",
        "nota_exame_final = float(input('Informe a nota do exame final: '))\n",
        "media_ponderada = ((nota_trabalho * 2) + (nota_avaliacao_semestral * 3) + (nota_exame_final * 5)) / 10\n",
        "if media_ponderada >= 8 and media_ponderada <= 10:\n",
        "    print('A média do aluno é: ', media_ponderada, '- Conceito A')\n",
        "elif media_ponderada >= 7 and media_ponderada < 8:\n",
        "    print('A média do aluno é: ', media_ponderada, '- Conceito B')\n",
        "elif media_ponderada >= 6 and media_ponderada < 7:\n",
        "    print('A média do aluno é: ', media_ponderada, '- Conceito C')\n",
        "elif media_ponderada >= 5 and media_ponderada < 6:\n",
        "    print('A média do aluno é: ', media_ponderada, '- Conceito D')\n",
        "else:\n",
        "    print('A média do aluno é: ', media_ponderada, '- Conceito E')\n",
        "\n",
        "\n"
      ],
      "execution_count": null,
      "outputs": [
        {
          "output_type": "stream",
          "name": "stdout",
          "text": [
            "Informe a nota do trabalho de laboratório: 4\n",
            "Informe a nota da avaliação semestral: 4\n",
            "Informe a nota do exame final: 4\n",
            "A média do aluno é:  4.0 - Conceito E\n"
          ]
        }
      ]
    },
    {
      "cell_type": "markdown",
      "metadata": {
        "id": "PAaDySD4wkK_"
      },
      "source": [
        "### 14. Faça um programa que receba três notas de um aluno, calcule e mostre a média aritmética e a mensagem constante na tabela a seguir. Aos alunos que ficaram para exame, calcule e mostre a nota que deverão tirar para serem aprovados, considerando que a média exigida é 6,0.\n",
        "\n",
        "**Observação**: Esta condição de reprovado e exame, não representa a realidade da faculdade.\n",
        "\n",
        "MÉDIA ARITMÉTICA | MENSAGEM\n",
        "    ---|---\n",
        "    0 <= média < 3 |Reprovado\n",
        "    3 <= média < 6|Exame\n",
        "    6 <= média <= 10|Aprovado\n",
        "\n",
        "```\n",
        "SE media >= 3 E media < 6\n",
        "    ESCREVA “Exame”\n",
        "    nota_exame = 12 - media\n",
        "    ESCREVA “Você deve tirar a nota”, nota_exame, “para ser aprovado.”\n"
      ]
    },
    {
      "cell_type": "code",
      "metadata": {
        "id": "y1Wfq8tzwm06",
        "colab": {
          "base_uri": "https://localhost:8080/"
        },
        "outputId": "e26d77a1-d610-4873-f80a-5e6c3e8d0c63"
      },
      "source": [
        "# Digite seu código aqui\n",
        "nota1 = float(input('Informe a primeira nota do aluno: '))\n",
        "nota2 = float(input('Informe a segunda nota do aluno: '))\n",
        "nota3 = float(input('Informe a terceira nota do aluno: '))\n",
        "media = (nota1 + nota2 + nota3) / 3\n",
        "if media >= 6 and media <= 10:\n",
        "    print('|Aprovado| Sua média foi:',media)\n",
        "elif media >= 3 and media < 6:\n",
        "    nota_exame = 12 - media\n",
        "    print('|Exame| Sua média foi:',media, '| Você deve tirar a nota de:',nota_exame, 'no exame para ser Aprovado')\n",
        "else:\n",
        "    print('|Reprovado| Sua média foi:',media)"
      ],
      "execution_count": null,
      "outputs": [
        {
          "output_type": "stream",
          "name": "stdout",
          "text": [
            "Informe a primeira nota do aluno: 3\n",
            "Informe a segunda nota do aluno: 3\n",
            "Informe a terceira nota do aluno: 3\n",
            "|Exame| Sua média foi: 3.0 | Você deve tirar a nota de: 9.0 no exame para ser Aprovado\n"
          ]
        }
      ]
    },
    {
      "cell_type": "markdown",
      "metadata": {
        "id": "7O0Mqmidwm-j"
      },
      "source": [
        "### 15. Faça um programa que receba dois números e mostre o maior.\n"
      ]
    },
    {
      "cell_type": "code",
      "metadata": {
        "id": "HcTiyc7GwpKM",
        "colab": {
          "base_uri": "https://localhost:8080/"
        },
        "outputId": "9284f1f7-f815-4383-d016-6dc8a3dad38c"
      },
      "source": [
        "#Digite seu código aqui\n",
        "numero1 = int(input('Informe o primeiro número: '))\n",
        "numero2 = int(input('Informe o segundo número: '))\n",
        "if numero1 > numero2:\n",
        "    print('O número', numero1, 'é maior que o número', numero2)\n",
        "elif numero1 < numero2:\n",
        "    print('O número', numero2, 'é maior que o número', numero1)\n",
        "else:\n",
        "    print('O número', numero1, 'é igual ao número',numero2,'e portanto não existe número maior ou menor nessa comparação')"
      ],
      "execution_count": null,
      "outputs": [
        {
          "output_type": "stream",
          "name": "stdout",
          "text": [
            "Informe o primeiro número: 1\n",
            "Informe o segundo número: 5\n",
            "O número 5 é maior que o número 1\n"
          ]
        }
      ]
    },
    {
      "cell_type": "markdown",
      "metadata": {
        "id": "2_NBZeVXwpTd"
      },
      "source": [
        "### 16. Faça um programa que receba três números e mostre-os em ordem crescente. Suponha que o usuário digitará três números diferentes.\n",
        "\n",
        "```\n",
        "SE numero1 < numero2 E numero1 < numero3\n",
        "    SE numero2 < numero3\n",
        "        ESCREVA “A ordem crescente é: “,numero1,“-”,numero2,“-”,numero3\n",
        "    SENÃO\n",
        "        ESCREVA “A ordem crescente é: “,numero1,“-”,numero3,“-”,numero2\n",
        "SE numero2 < numero1 E numero2 < numero3\n",
        "    SE numero1 < numero3\n",
        "        ESCREVA “A ordem crescente é: “,numero2,“-”,numero1,“-”,numero3\n",
        "    SENÃO\n",
        "        ESCREVA “A ordem crescente é: “,numero2,“-”,numero3,“-”,numero1\n",
        "SE numero3 < numero1 E numero3 < num2\n",
        "    SE numero1 < numero2\n",
        "        ESCREVA “A ordem crescente é: “,numero3,“-”,numero1,“-”,numero2\n",
        "    SENÃO\n",
        "        ESCREVA “A ordem crescente é: “,numero3,“-”,numero2,“-”,numero1\n",
        "  ```"
      ]
    },
    {
      "cell_type": "code",
      "metadata": {
        "id": "Ek3oVh59wsJJ",
        "colab": {
          "base_uri": "https://localhost:8080/"
        },
        "outputId": "f223656a-9fcd-40bf-8524-f846c19bee52"
      },
      "source": [
        "#Digite seu código aqui\n",
        "numero1 = int(input('Digite o primeiro número: '))\n",
        "numero2 = int(input('Digite o segundo número: '))\n",
        "numero3 = int(input('Digite o terceiro número: '))\n",
        "if numero1 < numero2 and numero1 < numero3:\n",
        "    if numero2 < numero3:\n",
        "        print('A ordem crescente é:', numero1, '-', numero2, '-', numero3)\n",
        "    else:\n",
        "        print('A ordem crescente é:', numero1, '-', numero3, '-', numero2)\n",
        "if numero2 < numero1 and numero2 < numero3:\n",
        "    if numero1 < numero3:\n",
        "        print('A ordem crescente é:', numero2, '-', numero1, '-', numero3)\n",
        "    else:\n",
        "        print('A ordem crescente é:', numero2, '-', numero3, '-', numero1)\n",
        "if numero3 < numero1 and numero3 < numero2:\n",
        "    if numero1 < numero2:\n",
        "        print('A ordem crescente é:', numero3, '-', numero1, '-', numero2)\n",
        "    else:\n",
        "        print('A ordem crescente é:', numero3, '-', numero2, '-', numero1)\n"
      ],
      "execution_count": null,
      "outputs": [
        {
          "output_type": "stream",
          "name": "stdout",
          "text": [
            "Digite o primeiro número: 1\n",
            "Digite o segundo número: 3\n",
            "Digite o terceiro número: 2\n",
            "A ordem crescente é: 1 - 2 - 3\n"
          ]
        }
      ]
    },
    {
      "cell_type": "markdown",
      "metadata": {
        "id": "ZhHFeeuKwsS_"
      },
      "source": [
        "### 17. Faça um programa que receba três números obrigatoriamente em ordem crescente e um quarto número que não siga essa regra. Mostre, em seguida, os quatro números em ordem decrescente. Suponha que o usuário digitará quatro números diferentes.\n",
        "\n",
        "```code\n",
        "SE numero4 > numero3\n",
        "    ESCREVA “A ordem decrescente é: “,numero4,“-”,numero3,“-”,numero2,“-”,numero1\n",
        "SENÃO SE numero4 > numero2 E numero4 < numero3\n",
        "    ESCREVA “A ordem decrescente é: “,numero3,“-”,numero4,“-”,numero2,“-”,numero1\n",
        "SENÃO SE numero4 > numero1 E numero4 < numero2\n",
        "    ESCREVA “A ordem decrescente é: “,numero3,“-”,numero2,“-”,numero4, “-”,numero1\n",
        "SENÃO SE numero4 < numero1\n",
        "    ESCREVA “A ordem decrescente é: “,numero3,“-”,numero2,“-”,numero1,“-”,numero4\n",
        "```"
      ]
    },
    {
      "cell_type": "code",
      "metadata": {
        "id": "MXb2lDpTwukn",
        "colab": {
          "base_uri": "https://localhost:8080/"
        },
        "outputId": "49dca890-d964-4040-8d24-c6e3d37566bb"
      },
      "source": [
        "# Digite seu código aqui\n",
        "numero1 = int(input('Digite o primeiro número: '))\n",
        "numero2 = int(input('Digite o segundo número: '))\n",
        "numero3 = int(input('Digite o terceiro número: '))\n",
        "numero4 = int(input('Digite o quarto número: '))\n",
        "if numero4 > numero3:\n",
        "    print('A ordem decrescente é:',numero4,'-',numero3,'-',numero2, '-',numero1)\n",
        "elif numero4 > numero2 and numero4 < numero3:\n",
        "    print('A ordem decrescente é:', numero3, '-', numero4, '-', numero2, '-', numero1)\n",
        "elif numero4 > numero1 and numero4 < numero2:\n",
        "    print('A ordem decrescente e:', numero3, '-', numero,'-', numero4, '-', numero1)\n",
        "elif numero4 < numero1:\n",
        "    print('A ordem decrescente é:', numero3, '-', numero2, '-', numero1, '-', numero4)"
      ],
      "execution_count": null,
      "outputs": [
        {
          "output_type": "stream",
          "name": "stdout",
          "text": [
            "Digite o primeiro número: 10\n",
            "Digite o segundo número: 20\n",
            "Digite o terceiro número: 30\n",
            "Digite o quarto número: 22\n",
            "A ordem decrescente é: 30 - 22 - 20 - 10\n"
          ]
        }
      ]
    },
    {
      "cell_type": "markdown",
      "metadata": {
        "id": "U6uFBqEEwxTU"
      },
      "source": [
        "### 18. Faça um programa que receba quatro valores: I, A, B e C. Desses valores, I é inteiro e positivo, A, B e C são reais. Escreva os números A, B e C obedecendo à tabela a seguir.\n",
        "\n",
        "*Suponha que o valor digitado para I seja sempre um valor válido, ou seja, 1, 2 ou 3, e que os números digitados sejam diferentes um do outro.*\n",
        "\n",
        "  |VALOR DE I | FORMA A ESCREVER|\n",
        "  |---|---|\n",
        "  |1                  |A, B e C em ordem crescente.|\n",
        "  |2                  |A, B e C em ordem decrescente|\n",
        "  |3                  |O maior fica entre os outros dois números.|\n",
        "\n",
        "  ```code\n",
        "SE I == 1\n",
        "    SE A<B E A<C\n",
        "        SE B<C\n",
        "            ESCREVA “A ordem crescente dos números é:”,A,” -”,B,”-”,C\n",
        "        SENÃO\n",
        "            ESCREVA “A ordem crescente dos números é:”,A,” -”,C,”-”,B\n",
        "    SE B<A E B<C\n",
        "        SE A<C\n",
        "            ESCREVA “A ordem crescente dos números é:”,B,”-”,A,”-”,C\n",
        "        SENÃO\n",
        "            ESCREVA “A ordem crescente dos números é: “,B,”-”,C,”-”,A\n",
        "    SE C<A E C<B\n",
        "        SE A<B\n",
        "            ESCREVA “A ordem crescente dos números é: “,C,”-”,A,”-”,B\n",
        "        SENÃO\n",
        "            ESCREVA “A ordem crescente dos números é: “,C,”-”,B,”-”,A\n",
        "SE I == 2\n",
        "    SE A>B E A>C\n",
        "        SE B>C\n",
        "            ESCREVA “A ordem decrescente dos números é: “,A,” -”,B,”-”,C\n",
        "        SENÃO\n",
        "            ESCREVA “A ordem decrescente dos números é: “,A,” -”,C,”-”,B\n",
        "    SE B>A E B>C\n",
        "        SE A>C\n",
        "            ESCREVA “A ordem decrescente dos números é: “,B,” -”,A,”-”,C\n",
        "        SENÃO\n",
        "            ESCREVA “A ordem decrescente dos números é: “,B,” -”,C,”-”,A\n",
        "    SE C>A E C>B\n",
        "        SE A>B\n",
        "            ESCREVA “A ordem decrescente dos números é: “,C,” -”,A,”-”,B\n",
        "        SENÃO\n",
        "            ESCREVA “A ordem decrescente dos números é: “,C,” -”,B,”-”,A\n",
        "SE I == 3\n",
        "    SE A>B E A>C\n",
        "        ESCREVA “A ordem desejada é: “,B,”-”,A,”-”,C\n",
        "    SE B>A E B>C\n",
        "        ESCREVA “A ordem desejada é: “,A,”-”,B,”-”,C\n",
        "    SE C>A E C>B\n",
        "        ESCREVA “A ordem desejada é: “,A,”-”,C,”-”,B\n",
        "```"
      ]
    },
    {
      "cell_type": "code",
      "metadata": {
        "id": "xComTuz4w2uW",
        "colab": {
          "base_uri": "https://localhost:8080/"
        },
        "outputId": "387d450a-73fc-40a6-94db-987ac42ee380"
      },
      "source": [
        "# Digite seu código aqui\n",
        "valor_I = int(input('Informe o valor de 1, 2 ou 3: '))\n",
        "valor_A = float(input('Informe o valor de A: '))\n",
        "valor_B = float(input('Informe o valor de B: '))\n",
        "valor_C = float(input('Informe o valor de C: '))\n",
        "if valor_I == 1:\n",
        "    if valor_A < valor_B and valor_A < valor_C:\n",
        "        if valor_B < valor_C:\n",
        "            print('A ordem crescente dos números é: ', valor_A,'-', valor_B,'-', valor_C)\n",
        "        else:\n",
        "            print('A ordem crescente dos números é: ', valor_A,'-', valor_C,'-', valor_B)\n",
        "    if valor_B < valor_A and valor_B < valor_C:\n",
        "        if valor_A < valor_C:\n",
        "            print('A ordem crescente dos números é: ', valor_B,'-', valor_A,'-', valor_C)\n",
        "        else:\n",
        "            print('A ordem crescente dos números é: ', valor_B, '-', valor_C,'-', valor_A)\n",
        "    if valor_C < valor_A and valor_C < valor_B:\n",
        "        if valor_A < valor_B:\n",
        "            print('A ordem crescente dos números é: ', valor_C,'-', valor_A,'-', valor_B)\n",
        "        else:\n",
        "            print('A ordem crescente dos números é: ', valor_C,'-', valor_B,'-', valor_A)\n",
        "if valor_I == 2:\n",
        "    if valor_A > valor_B and valor_A > valor_C:\n",
        "        if valor_B > valor_C:\n",
        "            print('A ordem decrescente dos números é: ', valor_A,'-', valor_B,'-', valor_C)\n",
        "        else:\n",
        "            print('A ordem decrescente dos números é: ', valor_A,'-', valor_C,'-', valor_B)\n",
        "    if valor_B > valor_A and valor_B > valor_C:\n",
        "        if valor_A > valor_C:\n",
        "            print('A ordem decrescente dos números é: ', valor_B,'-', valor_A,'-', valor_C)\n",
        "        else:\n",
        "            print('A ordem decrescente dos números é: ', valor_B,'-', valor_C,'-', valor_A)\n",
        "    if valor_C > valor_A and valor_C > valor_B:\n",
        "        if valor_A > valor_B:\n",
        "            print('A ordem decrescente dos números é: ', valor_C,'-', valor_A,'-', valor_B)\n",
        "        else:\n",
        "            print('A ordem decrescente dos númeors é: ', valor_C,'-', valor_B,'-', valor_A)\n",
        "if valor_I == 3:\n",
        "    if valor_A > valor_B and valor_A > valor_C:\n",
        "        print('A ordem desejada é: ', valor_B,'-', valor_A,'-', valor_C)\n",
        "    if valor_B > valor_A and valor_B > valor_C:\n",
        "        print('A ordem desejada é: ', valor_A,'-', valor_B,'-', valor_C)\n",
        "    if valor_C > valor_A and valor_C > valor_B:\n",
        "        print('A ordem desejada é: ', valor_A,'-', valor_C,'-', valor_B)"
      ],
      "execution_count": null,
      "outputs": [
        {
          "output_type": "stream",
          "name": "stdout",
          "text": [
            "Informe o valor de 1, 2 ou 3: 3\n",
            "Informe o valor de A: 2\n",
            "Informe o valor de B: 1\n",
            "Informe o valor de C: 3\n",
            "A ordem desejada é:  2.0 - 3.0 - 1.0\n"
          ]
        }
      ]
    },
    {
      "cell_type": "markdown",
      "metadata": {
        "id": "uN4h6-qFw22p"
      },
      "source": [
        "### 19. Faça um programa que mostre o menu de opções a seguir, receba a opção do usuário, número 1 para a escolha da soma, ou número 2 para a raiz quadrada, também receba os dados necessários para executar cada operação.\n",
        "\n",
        "    Menu de opções:\n",
        "    1. Somar dois números.\n",
        "    2. Raiz quadrada de um número.\n",
        "\n",
        "Observação: raiz = numero ** (1/2), ou\n",
        "import math\n",
        "raiz = math.sqrt(numero), assim como foi programado no exercício 18, da lista anterior.\n",
        "      "
      ]
    },
    {
      "cell_type": "code",
      "metadata": {
        "id": "8otY1f_ow5Sy",
        "colab": {
          "base_uri": "https://localhost:8080/"
        },
        "outputId": "637886c1-e4b1-4952-d90e-ad96b095a42f"
      },
      "source": [
        "# Digite seu código aqui\n",
        "print('Menu de opções:')\n",
        "print('1. Somar dois números.')\n",
        "print('2. Raiz quadrada de um número.')\n",
        "escolha = int(input('Digite |1| ou |2| para escolher uma das opções acima: '))\n",
        "if escolha == 1:\n",
        "    numero1 = float(input('Digite o primeiro número: '))\n",
        "    numero2 = float(input('Digite o segundo número: '))\n",
        "    calculo = numero1 + numero2\n",
        "    print('A soma dos números informados são:',calculo)\n",
        "elif escolha == 2:\n",
        "    numero1 = float(input('Digite o número a ser calculado a raiz quadrada: '))\n",
        "    calculo = numero1 ** (1/2)\n",
        "    print('A raiz quadrada do número informado é: ',calculo)\n"
      ],
      "execution_count": null,
      "outputs": [
        {
          "output_type": "stream",
          "name": "stdout",
          "text": [
            "Menu de opções:\n",
            "1. Somar dois números.\n",
            "2. Raiz quadrada de um número.\n",
            "Digite |1| ou |2| para escolher uma das opções acima: 2\n",
            "Digite o número a ser calculado a raiz quadrada: 1.5\n",
            "A raiz quadrada do número informado é:  1.224744871391589\n"
          ]
        }
      ]
    },
    {
      "cell_type": "markdown",
      "metadata": {
        "id": "xVYTUU1Qw5b0"
      },
      "source": [
        "### 20. Faça um programa que mostre a data e a hora do sistema nos seguintes formatos: **dia/mês/ano – mês por extenso e hora:minuto**.\n",
        "\n",
        "**Observação: ***from*** carrega um módulo/biblioteca da linguagem Python e o ***import*** é usado para informar qual objeto desta biblioteca queremos importar/carregar no nosso programa. Se colocar apenas import será carregado tudo que tem dentro da biblioteca.**\n",
        "\n",
        "    from datetime import datetime\n",
        "    #Este comando obtem a data e hora de hoje de algum país onde esta o servidor que executa nosso programa feito no Collab, em Python.\n",
        "    #Quando eu testei, o servidor era do fuso horário de Dakar-Senegal\n",
        "    hoje = datetime.now()\n",
        "    print ('Ano atual.:',hoje.year)\n",
        "    print ('Mês.......:',hoje.month)\n",
        "    print ('Dia.......:',hoje.day)\n",
        "    print ('Hora......:',hoje.hour)\n",
        "    print ('Minuto....:',hoje.minute)\n",
        "    print ('Segundos..:',hoje.second)"
      ]
    },
    {
      "cell_type": "code",
      "source": [
        "#exercício correto - funcionamento com tudo que foi pedido no exercício\n",
        "from datetime import datetime, timezone, timedelta\n",
        "hoje = datetime.now()\n",
        "fuso_horario = timezone(timedelta(hours=-3))\n",
        "hora_SP = hoje.astimezone(fuso_horario)\n",
        "dia_SP_edit = hora_SP.strftime('%d')\n",
        "mes_SP_edit = hora_SP.strftime('%m')\n",
        "ano_SP_edit = hora_SP.strftime('%Y')\n",
        "hora_SP_edit = hora_SP.strftime('%H:%M')\n",
        "total_SP_edit = hora_SP.strftime('%d/%m/%Y %H:%M')\n",
        "\n",
        "print(dia_SP_edit)\n",
        "print(mes_SP_edit)\n",
        "print(ano_SP_edit)\n",
        "print(hora_SP_edit)\n",
        "print(total_SP_edit)\n",
        "\n",
        "if mes_SP_edit == '01':\n",
        "    print(dia_SP_edit,'/Janeiro/',ano_SP_edit, '|', hora_SP_edit)\n",
        "elif mes_SP_edit == '02':\n",
        "    print(dia_SP_edit,'/Fevereiro/',ano_SP_edit, '|', hora_SP_edit)\n",
        "elif mes_SP_edit == '03':\n",
        "    print(dia_SP_edit,'/Março/',ano_SP_edit, '|', hora_SP_edit)\n",
        "elif mes_SP_edit == '04':\n",
        "    print(dia_SP_edit,'/Abril/',ano_SP_edit, '|', hora_SP_edit)\n",
        "elif mes_SP_edit == '05':\n",
        "    print(dia_SP_edit,'/Maio/',ano_SP_edit, '|', hora_SP_edit)\n",
        "elif mes_SP_edit == '06':\n",
        "    print(dia_SP_edit,'/Junho/',ano_SP_edit, '|', hora_SP_edit)\n",
        "elif mes_SP_edit == '07':\n",
        "    print(dia_SP_edit,'/Julho/',ano_SP_edit, '|', hora_SP_edit)\n",
        "elif mes_SP_edit == '08':\n",
        "    print(dia_SP_edit,'/Agosto/',ano_SP_edit, '|', hora_SP_edit)\n",
        "elif mes_SP_edit == '09':\n",
        "    print(dia_SP_edit,'/Setembro/',ano_SP_edit, '|', hora_SP_edit)\n",
        "elif mes_SP_edit == '10':\n",
        "    print(dia_SP_edit,'/Outubro/',ano_SP_edit, '|', hora_SP_edit)\n",
        "elif mes_SP_edit == '11':\n",
        "    print(dia_SP_edit,'/Novembro/',ano_SP_edit, '|', hora_SP_edit)\n",
        "elif mes_SP_edit == '12':\n",
        "    print(dia_SP_edit,'/Dezembro/',ano_SP_edit, '|', hora_SP_edit)"
      ],
      "metadata": {
        "colab": {
          "base_uri": "https://localhost:8080/"
        },
        "id": "LDi0mIrV0KiW",
        "outputId": "6c680c23-7e6a-4a30-c1d6-bf093a8f31a2"
      },
      "execution_count": null,
      "outputs": [
        {
          "output_type": "stream",
          "name": "stdout",
          "text": [
            "14\n",
            "04\n",
            "2024\n",
            "00:10\n",
            "14/04/2024 00:10\n",
            "14 /Abril/ 2024 | 00:10\n"
          ]
        }
      ]
    },
    {
      "cell_type": "code",
      "metadata": {
        "id": "e-wpYfvew8A2",
        "colab": {
          "base_uri": "https://localhost:8080/"
        },
        "outputId": "a554eeca-25ac-45bb-e530-595e989f62f7"
      },
      "source": [
        "#exercício base deixado pela professora com reestruturação devido ao fuso horário do servidor de conexão\n",
        "from datetime import datetime, timezone, timedelta\n",
        "hoje = datetime.now()\n",
        "fuso_horario = timezone(timedelta(hours=-3))\n",
        "hora_SP = hoje.astimezone(fuso_horario)\n",
        "print ('Ano atual.:',hora_SP.year)\n",
        "print ('Mês.......:',hora_SP.month)\n",
        "print ('Dia.......:',hora_SP.day)\n",
        "print ('Hora......:',hora_SP.hour)\n",
        "print ('Minuto....:',hora_SP.minute)\n",
        "print ('Segundos..:',hora_SP.second)\n",
        "\n",
        "if hora_SP.month == 1:\n",
        "    print(hora_SP.day,'/Janeiro/',hora_SP.year, '|',hora_SP.hour,':',hora_SP.minute)\n",
        "elif hora_SP.month == 2:\n",
        "    print(hora_SP.day,'/Fevereiro/',hora_SP.year, '|',hora_SP.hour,':',hora_SP.minute)\n",
        "elif hora_SP.month == 3:\n",
        "    print(hora_SP.day,'/Março/',hora_SP.year, '|',hora_SP.hour,':',hora_SP.minute)\n",
        "elif hora_SP.month == 4:\n",
        "    print(hora_SP.day,'/Abril/',hora_SP.year, '|',hora_SP.hour,':',hora_SP.minute)\n",
        "elif hora_SP.month == 5:\n",
        "    print(hora_SP.day,'/Maio/',hora_SP.year, '|',hora_SP.hour,':',hora_SP.minute)\n",
        "elif hora_SP.month == 6:\n",
        "    print(hora_SP.day,'/Junho/',hora_SP.year, '|',hora_SP.hour,':',hora_SP.minute)\n",
        "elif hora_SP.month == 7:\n",
        "    print(hora_SP.day,'/Julho/',hora_SP.year, '|',hora_SP.hour,':',hora_SP.minute)\n",
        "elif hora_SP.month == 8:\n",
        "    print(hora_SP.day,'/Agosto/',hora_SP.year, '|',hora_SP.hour,':',hora_SP.minute)\n",
        "elif hora_SP.month == 9:\n",
        "    print(hora_SP.day,'/Setembro/',hora_SP.year, '|',hora_SP.hour,':',hora_SP.minute)\n",
        "elif hora_SP.month == 10:\n",
        "    print(hora_SP.day,'/Outubro/',hora_SP.year, '|',hora_SP.hour,':',hora_SP.minute)\n",
        "elif hora_SP.month == 11:\n",
        "    print(hora_SP.day,'/Novembro/',hora_SP.year, '|',hora_SP.hour,':',hora_SP.minute)\n",
        "elif hora_SP.month == 12:\n",
        "    print(hora_SP.day,'/Dezembro/',hora_SP.year, '|',hora_SP.hour,':',hora_SP.minute)"
      ],
      "execution_count": null,
      "outputs": [
        {
          "output_type": "stream",
          "name": "stdout",
          "text": [
            "Ano atual.: 2024\n",
            "Mês.......: 4\n",
            "Dia.......: 14\n",
            "Hora......: 0\n",
            "Minuto....: 10\n",
            "Segundos..: 56\n",
            "14 /Abril/ 2024 | 0 : 10\n"
          ]
        }
      ]
    },
    {
      "cell_type": "code",
      "source": [
        "# DICA-curiosidade, o trecho de código a\n",
        "# seguir, mostra como trocar o fuso\n",
        "# horário para o país que deseja, no caso Brasil\n",
        "###################################################\n",
        "# datetime nome do arquivo onde contém as\n",
        "# classes/funções (datetime, timezone, timedelta)\n",
        "# que eu desejo usar, neste exemplo\n",
        "# datetime, timezone, timedelta\n",
        "###################################################\n",
        "from datetime import datetime, timezone, timedelta\n",
        "\n",
        "data_e_hora_atuais = datetime.now()\n",
        "print(data_e_hora_atuais)\n",
        "fuso_horario = timezone(timedelta(hours=-3))\n",
        "print(fuso_horario)\n",
        "print('UTC - Tempo Universal Coordenado:', fuso_horario)\n",
        "data_e_hora_SP = data_e_hora_atuais.astimezone(fuso_horario)\n",
        "data_e_hora_SP_em_texto = data_e_hora_SP.strftime('%d/%m/%Y %H:%M')\n",
        "print('Data e horário de São Paulo:',data_e_hora_SP_em_texto)\n",
        "\n"
      ],
      "metadata": {
        "colab": {
          "base_uri": "https://localhost:8080/"
        },
        "id": "9PTdyMfvO_tI",
        "outputId": "13e5022b-c0f5-45d3-f5ab-958c08f14ad5"
      },
      "execution_count": null,
      "outputs": [
        {
          "output_type": "stream",
          "name": "stdout",
          "text": [
            "2024-04-14 00:30:40.608087\n",
            "UTC-03:00\n",
            "UTC - Tempo Universal Coordenado: UTC-03:00\n",
            "Data e horário de São Paulo: 13/04/2024 21:30\n"
          ]
        }
      ]
    },
    {
      "cell_type": "markdown",
      "metadata": {
        "id": "BwvSTMttw8KJ"
      },
      "source": [
        "### 21. Faça um programa que determine a data cronologicamente maior entre duas datas fornecidas pelo usuário. Cada data deve ser composta por três valores inteiros, em que o primeiro representa o dia, o segundo, o mês e o terceiro, o ano.\n",
        "\n",
        "  ```code\n",
        "  SE ano1 > ano2\n",
        "      ESCREVA “A maior data é: “,dia1,”-”,mes1,”-”,ano1\n",
        "  SENÃO SE ano2>ano1\n",
        "      ESCREVA “A maior data é: “,dia2,”-”,mes2,”-”,ano2\n",
        "  SENÃO SE mes1>mes2\n",
        "      ESCREVA “A maior data é: “,dia1,”-”,mes1,”-”,ano1\n",
        "  SENÃO SE mes2>mes1\n",
        "      ESCREVA “A maior data é: “,dia2, “-”,mes2,”-”,ano2\n",
        "  SENÃO SE dia1>dia2\n",
        "      ESCREVA “A maior data é: “-”,dia1,”-”,mia1,” -”,ano1\n",
        "  SENÃO SE dia2>dia1\n",
        "      ESCREVA “A maior data é: “,dia2,” -”,mes2,”-”,ano2\n",
        "  SENÃO\n",
        "      ESCREVA “As datas são iguais!”\n",
        "  ```"
      ]
    },
    {
      "cell_type": "code",
      "metadata": {
        "id": "Ayf2tlS1w-e7"
      },
      "source": [
        "# Digite seu código aqui"
      ],
      "execution_count": null,
      "outputs": []
    },
    {
      "cell_type": "markdown",
      "metadata": {
        "id": "cWnawYSbw-o9"
      },
      "source": [
        "### 22. Faça um programa que receba a hora do início de um jogo e a hora do término (cada hora é composta por duas variáveis inteiras: hora e minuto). Calcule e mostre a duração do jogo (horas e minutos), sabendo que o tempo máximo de duração do jogo é de 24 horas e que ele pode começar em um dia e terminar no dia seguinte.\n",
        "    SE min_inicial > min_f\n",
        "        min_final = min_final + 60\n",
        "        hora_final = hora_final – 1\n",
        "    SE hora_inicial > hora_final\n",
        "        hora_final = hora_final + 24\n",
        "    minuto_duracao = min_final - min_inicial\n",
        "    hora_duracao = hora_final - hora_inicial"
      ]
    },
    {
      "cell_type": "code",
      "metadata": {
        "id": "-Eq9yPDyxAvk"
      },
      "source": [
        "# Digite seu código aqui"
      ],
      "execution_count": null,
      "outputs": []
    },
    {
      "cell_type": "markdown",
      "metadata": {
        "id": "eT4oGEI9xA42"
      },
      "source": [
        "### 23. Faça um programa que receba o código correspondente ao cargo de um funcionário e seu salário atual e mostre o cargo, o valor do aumento e seu novo salário. Os cargos estão na tabela a seguir.\n",
        "\n",
        "  |CÓDIGO|CARGO|PERCENTUAL|\n",
        "  |---|---|---|\n",
        "  |1|Escriturário|50%|\n",
        "  |2|Secretário|35%|\n",
        "  |3|Caixa|20%|\n",
        "  |4|Gerente|10%|\n",
        "  |5|Diretor|Não tem aumento|\n",
        "\n",
        "```code\n",
        "SE cargo == 1\n",
        "    ESCREVA “O cargo é Escriturário”\n",
        "    aumento = salario * 50 / 100\n",
        "    ESCREVA “O valor do aumento é: “, aumento\n",
        "    novo_sal = salario + aumento\n",
        "    ESCREVA “O novo salário é: “, novo_sal\n",
        "SENÃO SE cargo == 2\n",
        "    ESCREVA “O cargo é Secretário”\n",
        "    aumento = salario * 35 / 100\n",
        "    ESCREVA “O valor do aumento é: “, aumento\n",
        "    novo_sal = salario + aumento\n",
        "    ESCREVA “O novo salário é: “, novo_sal]\n",
        "SENÃO SE cargo == 3\n",
        "    ESCREVA “O cargo é Caixa”\n",
        "    aumento = salario * 20 / 100\n",
        "    ESCREVA “O valor do aumento é: “, aumento\n",
        "    novo_sal = salario + aumento\n",
        "    ESCREVA “O novo salário é: “,novo_sal\n",
        "SENÃO SE cargo == 4\n",
        "    ESCREVA “O cargo é Gerente”\n",
        "    aumento = salario * 10 / 100\n",
        "    ESCREVA “O valor do aumento é: “, aumento\n",
        "    novo_sal = salario + aumento\n",
        "    ESCREVA “O novo salário é: “, novo_sal\n",
        "SENÃO SE cargo == 5\n",
        "    ESCREVA “O cargo é Diretor”\n",
        "    aumento = salario * 0 / 100\n",
        "    ESCREVA “O valor do aumento é: “, aumento\n",
        "    novo_sal = salario + aumento\n",
        "    ESCREVA “O novo salário é: “, novo_sal\n",
        "```"
      ]
    },
    {
      "cell_type": "code",
      "metadata": {
        "id": "Akw301nvxDG0"
      },
      "source": [
        "# Digite seu código aqui"
      ],
      "execution_count": null,
      "outputs": []
    },
    {
      "cell_type": "markdown",
      "metadata": {
        "id": "wKORNMrWxDQs"
      },
      "source": [
        "### 24. Faça um programa que apresente o menu a seguir, permita ao usuário escolher a opção desejada, receba os dados necessários para executar a operação e mostre o resultado. Verifique a possibilidade de opção inválida e não se preocupe com restrições, como salário negativo.\n",
        "\n",
        "    Menu de opções\n",
        "    1. Imposto\n",
        "    2. Novo salário\n",
        "    3. Classificação\n",
        "    Digite a opção desejada:\n",
        "\n",
        "*Na opção 1: receber o salário de um funcionário, calcular e mostrar o valor do imposto usando as regras a seguir.*\n",
        "\n",
        "  |SALÁRIO|PERCENTUAL DO IMPOSTO|\n",
        "  |---|---|\n",
        "  |Menor que  500,00|5%|\n",
        "  |De  500,00 (inclusive) a  850,00 (inclusive)|10%|\n",
        "  |Acima de  850,00|15%|\n",
        "\n",
        "*Na opção 2: receber o salário de um funcionário, calcular e mostrar o valor do novo salário, usando as regras a seguir.*\n",
        "\n",
        "  |SALÁRIO|AUMENTO|\n",
        "  |---|---|\n",
        "  |Maior que  1.500,00| 25,00|\n",
        "  |De  750,01 a  1.500,00 (inclusive)| 50,00|\n",
        "  |De  450,00 (inclusive) a  750,00| 75,00|\n",
        "  |Menor que  450,00| 100,00|\n",
        "\n",
        "*Na opção 3: receber o salário de um funcionário e mostrar sua classificação usando a tabela a seguir.*\n",
        "\n",
        "|SALÁRIO|CLASSIFICAÇÃO|\n",
        "|---|---|\n",
        "|Até  700,00 (inclusive)|Mal remunerado|\n",
        "|Maiores que  700,00|Bem remunerado|\n"
      ]
    },
    {
      "cell_type": "code",
      "metadata": {
        "id": "LsX6cPFdxFxe"
      },
      "source": [
        "# Digite seu código aqui"
      ],
      "execution_count": null,
      "outputs": []
    },
    {
      "cell_type": "markdown",
      "metadata": {
        "id": "pNlvJKW5xF6H"
      },
      "source": [
        "###25. Faça um programa que receba o salário inicial de um funcionário, calcule e mostre o novo salário, acrescido de bonificação e de auxílio escola.\n",
        "\n",
        "|SALÁRIO|BONIFICAÇÃO|\n",
        "|---|---|\n",
        "|Até  500,00|5% do salário|\n",
        "|Entre  500,01 e 1.200,00|12% do salário|\n",
        "|Acima de  1.200,00|Sem bonificação|\n",
        ">\n",
        "|SALÁRIO|AUXÍLIO ESCOLA|\n",
        "|---|---|\n",
        "|Até  600,00| 150,00|\n",
        "|Acima de  600,00| 100,00|\n",
        "\n",
        "novo_salario = salario + bonificacao + auxílio escola"
      ]
    },
    {
      "cell_type": "code",
      "metadata": {
        "id": "m2EJlS2IxIrf"
      },
      "source": [
        "# Digite seu código aqui"
      ],
      "execution_count": null,
      "outputs": []
    },
    {
      "cell_type": "markdown",
      "metadata": {
        "id": "fA_TpNq4xI0h"
      },
      "source": [
        "### 26. Faça um programa que receba o valor do salário mínimo, o número de horas trabalhadas, o número de dependentes do funcionário e a quantidade de horas extras trabalhadas. Calcule e mostre o salário a receber do funcionário de acordo com as regras a seguir:\n",
        "\n",
        "  * O valor da hora trabalhada é igual a 1/5 do salário mínimo.\n",
        "  * O salário do mês é igual ao número de horas trabalhadas multiplicado pelo valor da hora trabalhada.\n",
        "  * Para cada dependente, acrescentar  32,00.\n",
        "  * Para cada hora extra trabalhada, calcular o valor da hora * trabalhada acrescida de 50%.\n",
        "  * O salário bruto é igual ao salário do mês mais o valor dos dependentes mais o valor das horas extras.\n",
        "  * Calcular o valor do impostoosto de renda retido na fonte de acordo com a tabela a seguir:\n",
        "\n",
        "|IRFF|SALÁRIO BRUTO|\n",
        "|---|---|\n",
        "|Isento|Inferior a  200,00|\n",
        "|10%|De  200,00 até 500,00|\n",
        "|20%|Superior a  500,00|\n",
        "\n",
        "  * O salário líquido é igual ao salário bruto menos IRRF.\n",
        "  * A gratificação é de acordo com a tabela a seguir:\n",
        "\n",
        "|SALÁRIO LÍQUIDO|GRATIFICAÇÃO|\n",
        "|---|---|\n",
        "|Até 350,00| 100,00|\n",
        "|Superior a  350| 50,00|\n",
        "\n",
        "  * O salário a receber do funcionário é igual ao salário líquido mais a gratificação.\n",
        "\n",
        "  ```code\n",
        "  LEIA salario_minimo, numero_horas_trabalhadas, numero_dependentes, numero_horas_extras\n",
        "  \n",
        "  valor_hora = 1/5 * salario_minimo\n",
        "  salario_mes = numero_horas_trabalhadas * valor_hora\n",
        "  valor_dependentes = 32 * numero_dependentes\n",
        "  valor_hora_extra = numero_horas_extras * (valor_hora + (valor_hora * 50/100))\n",
        "  salario_bruto =salario_mes + valor_dependentes + valor_hora_extra\n",
        "  \n",
        "  SE salario_bruto < 200\n",
        "        imposto = 0\n",
        "  SENÃO SE salario_bruto >= 200 E salario_bruto <= 500\n",
        "        imposto = salario_bruto * 10/100\n",
        "  SENÃO SE salario_bruto > 500\n",
        "        imposto = salario_bruto * 20/100\n",
        "  salario_liquido = salario_bruto – imposto\n",
        "  SE salario_liquido <= 350\n",
        "        gratificacao = 100\n",
        "  SENÃO\n",
        "        gratificacao = 50\n",
        "  salario_a_receber = salario_liquido + gratificacao\n",
        "  \n",
        "  ESCREVA salario_a_receber\n",
        "  ```"
      ]
    },
    {
      "cell_type": "code",
      "metadata": {
        "id": "3eECKlHfxLK5"
      },
      "source": [
        "# Digite seu código aqui"
      ],
      "execution_count": null,
      "outputs": []
    },
    {
      "cell_type": "markdown",
      "metadata": {
        "id": "MuKRkPA9xLVE"
      },
      "source": [
        "### 27 Um supermercado deseja reajustar os preços de seus produtos usando o seguinte critério: o produto poderá ter seu preço aumentado ou diminuído. Para o preço ser alterado, o produto deve preencher pelo menos um dos requisitos a seguir:\n",
        "\n",
        "|VENDA MÉDIA MENSAL|PREÇO ATUAL|% DE AUMENTO|% DE DIMINUIÇÃO|\n",
        "|---|--|---|---|\n",
        "|< 500|<  30000|10|-|\n",
        "|\\>= 500 e <1200|\\>=  30.00 e <  80.00|15|-|\n",
        "|\\>= 1200|\\>=  80.00|-|20|\n",
        "\n",
        "* Faça um programa que receba o preço atual e a venda média mensal do produto, calcule e mostre o novo preço.\n",
        "\n",
        "```code\n",
        "LEIA preco_atual, media_mensal_vendas\n",
        "\n",
        "SE media_mensal_vendas < 500 OU preco_atual < 30\n",
        "    novo_preco = preco_atual + 10/100 * preco_atual\n",
        "SENÃO SE media_mensal_vendas >= 500 E media_mensal_vendas < 1200 OU preco_atual >= 30 E preco_atual<80\n",
        "    novo_preco = preco_atual + 15 / 100 * preco_atual\n",
        "SENÃO SE venda >= 1200 OU preco_atual >= 80\n",
        "    novo_preco = preco_atual – 20 / 100 * preco_atual\n",
        "      \n",
        "ESCREVA novo_preco\n",
        "```"
      ]
    },
    {
      "cell_type": "code",
      "metadata": {
        "id": "yzIzUTc7xNmr"
      },
      "source": [
        "# Digite seu código aqui"
      ],
      "execution_count": null,
      "outputs": []
    },
    {
      "cell_type": "markdown",
      "metadata": {
        "id": "X-eT0SRdxNwk"
      },
      "source": [
        "### 28. Faça um programa para resolver equações do 2 o grau.\n",
        "\n",
        "**ax² + bx + c = 0**\n",
        "\n",
        "A variável *a* deve ser diferente de zero*\n",
        "\n",
        "  * delta = b ** 2 - 4 * a * c\n",
        "  * delta < 0.  **Não existe raiz real**\n",
        "  * delta = 0. **Existe uma raiz real**\n",
        "    * x = (-b) / (2 * a)\n",
        "  * delta > 0. **Existem duas raízes reais**\n",
        "    * x1 = -b + raiz(delta)/ (2 * a)\n",
        "    * x2 = -b  - raiz(delta)/ (2 * a)\n",
        "\n",
        "```code\n",
        "LEIA a, b, c\n",
        "SE a = 0\n",
        "    ESCREVA “Estes valores não formam uma equação de segundo grau”\n",
        "SENÃO\n",
        "    delta = (b * b) – ( 4 * a * c)\n",
        "    SE delta < 0\n",
        "        ESCREVA “Não existe raiz real”\n",
        "    SE delta = 0\n",
        "        ESCREVA “Existe uma raiz real”\n",
        "        x1 = (– b) / (2 * a)\n",
        "        ESCREVA x1\n",
        "    SE delta > 0\n",
        "        ESCREVA “Existem duas raízes reais”\n",
        "        x1 = (– b) + raiz(delta) / (2 * a)\n",
        "        x2 = (– b) - raiz(delta) / (2 * a)\n",
        "        ESCREVA(x1, x2)\n",
        "```"
      ]
    },
    {
      "cell_type": "code",
      "metadata": {
        "id": "DAhDbbkaxTAS"
      },
      "source": [
        "# Digite seu código aqui"
      ],
      "execution_count": null,
      "outputs": []
    },
    {
      "cell_type": "markdown",
      "metadata": {
        "id": "PrDtckwwxTK6"
      },
      "source": [
        "### 29. Dados três valores X, Y e Z, verifique se eles podem ser os comprimentos dos lados de um triângulo e, se forem, verifique se é um triângulo equilátero, isósceles ou escaleno. Se eles não formarem um triângulo, escreva uma mensagem.\n",
        "Considere que:\n",
        "* o comprimento de cada lado de um triângulo é menor que a soma dos outros dois lados;\n",
        "* chama-se equilátero o triângulo que tem três lados iguais;\n",
        "* denomina-se isósceles o triângulo que tem o comprimento de dois lados iguais;\n",
        "* recebe o nome de escaleno o triângulo que tem os três lados diferentes.\n",
        "\n",
        "```code\n",
        "LEIA x, y, z\n",
        "SE x < y + z E y < x + z E z < x + y\n",
        "    SE x = y E y = z\n",
        "        ESCREVA “Triângulo Equilátero”\n",
        "    SENÃO SE x = y OU x = z OU y = z\n",
        "        ESCREVA “Triângulo Isósceles”\n",
        "    SENÃO SE x ≠ y E x ≠ z E y ≠ z\n",
        "        ESCREVA “Triângulo Escaleno”\n",
        "SENÃO\n",
        "    ESCREVA “Essas medidas não formam um triângulo”\n",
        "```"
      ]
    },
    {
      "cell_type": "code",
      "metadata": {
        "id": "72Ljhi6lxyco"
      },
      "source": [
        "# Digite seu código aqui"
      ],
      "execution_count": null,
      "outputs": []
    },
    {
      "cell_type": "markdown",
      "metadata": {
        "id": "mCpnRwCvxymh"
      },
      "source": [
        "### 30. Faça um programa que receba a altura e peso de uma pessoa. De acordo com a tabela a seguir, verifique e mostre a classificação dessa pessoa.\n",
        "\n",
        "|ALTURA|ATÉ 60|ENTRE 60 E 90 (INCLUSIVE)|ACIMA DE 90|\n",
        "|---|---|---|---|\n",
        "|Menores que 1,20|A|D|G|\n",
        "|De 1,20 a 1,70|B|E|H|\n",
        "|Maiores que 1,70|C|F|I|\n",
        "\n",
        "```code\n",
        "LEIA altura, peso\n",
        "SE altura < 1.20\n",
        "    SE peso <= 60\n",
        "        ESCREVA “A”\n",
        "    SENÃO SE peso > 60 E peso <= 90\n",
        "        ESCREVA “D”\n",
        "    SENÃO SE peso > 90\n",
        "        ESCREVA “G”\n",
        "SENÃO SE altura >= 1.20 E altura <= 1.70\n",
        "    SE peso <= 60\n",
        "        ESCREVA “B”\n",
        "    SENÃO SE peso > 60 E peso <= 90\n",
        "        ESCREVA “E”\n",
        "    SENÃO SE peso > 90\n",
        "        ESCREVA “H”\n",
        "SENÃO SE altura > 1.70\n",
        "    SE peso <= 60\n",
        "        ESCREVA “C”\n",
        "    SENÃO SE peso > 60 E peso <= 90\n",
        "        EESCREVA “F”\n",
        "    SENÃO SE peso > 90\n",
        "        ESCREVA “I”\n",
        "```"
      ]
    },
    {
      "cell_type": "code",
      "metadata": {
        "id": "SXLzbTf6x4pi"
      },
      "source": [
        "# Digite seu código aqui"
      ],
      "execution_count": null,
      "outputs": []
    },
    {
      "cell_type": "markdown",
      "metadata": {
        "id": "ydBS_HyAx40L"
      },
      "source": [
        "### 31. Faça um programa que receba:\n",
        "\n",
        "* O código de um produto comprado, supondo que a digitação do código do produto seja sempre válida, isto é, um número * inteiro entre 1 e 10.\n",
        "* O peso do produto em quilos.\n",
        "* O código do país de origem, supondo que a digitação do  código seja sempre válida, isto é, um número inteiro entre 1 e 3.\n",
        "\n",
        "|CÓDIGO DO PAÍS DE ORIGEM|IMPOSTO|\n",
        "|---|---|\n",
        "|1|0%|\n",
        "|2|15%|\n",
        "|3|25%|\n",
        "\n",
        "|CÓDIGO DO PAÍS DO PRODUTO|PREÇO POR GRAMA|\n",
        "|---|---|\n",
        "|1 a 4|10|\n",
        "|5 a 7|25|\n",
        "|8 a 10|35|\n",
        "\n",
        "Calcule e mostre:\n",
        "* o peso do produto convertido em gramas;\n",
        "* o preço total do produto comprado;\n",
        "* valor do imposto, sabendo que ele é cobrado sobre o * preço total do produto comprado e dependendo país de origem;\n",
        "* o valor total, preço total do produto mais imposto.\n",
        "\n",
        "```code\n",
        "LEIA codigo_produto, peso_quilos, codigo_pais\n",
        "peso_em_gramas = peso_quilos * 1000\n",
        "ESCREVA peso_em_gramas\n",
        "SE codigo_produto >= 1 E codigo_produto <= 4\n",
        "   preco_por_grama = 10\n",
        "SENÃO SE codigo_produto >= 5 E codigo_produto <= 7\n",
        "   preco_por_grama = 25\n",
        "SENÃO SE codigo_produto >= 8 E codigo_produto <= 10\n",
        "   preco_por_grama = 35    \n",
        "preco_total = peso_em_gramas *preco_por_grama\n",
        "ESCREVA preco_total\n",
        "SE codigo_pais = 1\n",
        "    imposto = 0\n",
        "SENÃO SE codigo_pais = 2\n",
        "    imposto = preco_total * 15/100\n",
        "SENÃO SE codigo_pais = 3\n",
        "    imposto = preco_total * 25/100    \n",
        "ESCREVA imposto\n",
        "valor_total = preco_total + imposto\n",
        "ESCREVA valor_total\n",
        "```"
      ]
    },
    {
      "cell_type": "code",
      "metadata": {
        "id": "hZvxJNadx7dp"
      },
      "source": [
        "# Digite seu código aqui"
      ],
      "execution_count": null,
      "outputs": []
    },
    {
      "cell_type": "markdown",
      "metadata": {
        "id": "XyWancSmx7l5"
      },
      "source": [
        "### 32. Faça um programa que receba:\n",
        "* o código do estado de origem da carga de um caminhão, supondo que a digitação do código do estado seja sempre válida, isto é, um número inteiro entre 1 e 5;\n",
        "* o peso da carga do caminhão em toneladas;\n",
        "* o código da carga, supondo que a digitação do código seja sempre válida, isto é, um número inteiro entre 10 e 40.\n",
        "\n",
        "| CÓDIGO DO ESTADO| IMPOSTO|\n",
        "|---|---|\n",
        "|1|35%|\n",
        "|2|25%|\n",
        "|3|15%|\n",
        "|4|5%|\n",
        "|5|Isento|\n",
        ">\n",
        "CÓDIGO DA CARGA|PREÇO POR QUILO\n",
        "---|---\n",
        "10 a 20|100\n",
        "21 a 30|250\n",
        "31 a 40|400\n",
        "\n",
        "Calcule e mostre:\n",
        "* o peso da carga do caminhão convertido em quilos;\n",
        "* o preço da carga do caminhão;\n",
        "* o valor do imposto, sabendo que o imposto é cobrado sobre o preço da carga do caminhão e depende do estado de origem;\n",
        "* o valor total transportado pelo caminhão, preço da carga mais imposto.\n",
        "\n",
        "```\n",
        "LEIA codigo_estado, peso_em_toneladas, codigo_carga\n",
        "peso_em_quilos = peso_em_toneladas * 1000\n",
        "ESCREVA peso_em_quilos\n",
        "SE codigo_carga >= 10 E codigo_carga <= 20\n",
        "    preco_da_carga = 100 * peso_em_quilos\n",
        "SENÃO SE codigo_carga >= 21 E codigo_carga <= 30\n",
        "    preco_da_carga = 250 * peso_em_quilos\n",
        "SENÃO SE codigo_carga >= 31 E codigo_carga <= 40\n",
        "    preco_da_carga = 340 * peso_em_quilos   \n",
        "ESCREVA preco_da_carga\n",
        "SE codigo_estado = 1\n",
        "    imposto = 35/100 * preco_da_carga\n",
        "SENÃO SE codigo_estado = 2\n",
        "    imposto = 25/100 * preco_da_carga\n",
        "SENÃO SE codigo_estado = 3\n",
        "    imposto = 15/100 * preco_ds_carga\n",
        "SENÃO SE codigo_estado = 4\n",
        "    imposto = 5/100 * preco_da_carga\n",
        "SENÃO SE codigo_estado = 5\n",
        "    imposto = 0\n",
        "ESCREVA imposto\n",
        "valor_total = preco_da_carga + imposto\n",
        "ESCREVA valor_total\n",
        "```"
      ]
    },
    {
      "cell_type": "code",
      "metadata": {
        "id": "JCjrCJ9Gx8X3"
      },
      "source": [
        "# Digite seu código aqui"
      ],
      "execution_count": null,
      "outputs": []
    },
    {
      "cell_type": "markdown",
      "metadata": {
        "id": "bBmw7JBQx8iH"
      },
      "source": [
        "### 33. Faça um programa que receba o salário base e o tempo de serviço de um funcionário. Calcule e mostre:\n",
        "* O imposto, conforme a tabela a seguir.\n",
        "\n",
        "|SALÁRIO BASE|% SOBRE O SALÁRIO BASE|\n",
        "|---|---|\n",
        "|< 200|isento|\n",
        "|>= 250 E <= 450|3%|\n",
        "|>  450 E < 700|8%|\n",
        "|>=  700|12%|\n",
        "\n",
        "* A gratificação, de acordo com a tabela a seguir.\n",
        "\n",
        "SALÁRIO BASE R$|TEMPO DE SERVIÇO|GRATIFICAÇÃO\n",
        "---|---|---\n",
        "Superior a 500,00|Até 3 anos|20\n",
        " | Mais de 3 anos|30\n",
        "  --------------------------|---------|--------------\n",
        "Até 500,00|Até 3 anos|23\n",
        "|Entre 3 e 6 anos|35\n",
        "|Acima de 6 anos|33\n",
        "\n",
        "* O salário líquido, ou seja, salário base menos imposto mais gratificação.\n",
        "* A categoria, que está na tabela a seguir.\n",
        "\n",
        "```\n",
        "LEIA salario_base, tempo\n",
        "\n",
        "SE salario_base < 200\n",
        "    imposto = 0\n",
        "SENÃO SE salario_base <= 450\n",
        "    imposto = 3/100 * salario_base\n",
        "SENÃO SE sal_base < 700\n",
        "    imposto = 8/100 * salario_base\n",
        "SENÃO\n",
        "    imposto = 12/100 * salario_base\n",
        "ESCREVA imposto\n",
        "SE salario_base > 500\n",
        "    SE tempo <= 3\n",
        "         gratificacao = 20\n",
        "    SENÃO\n",
        "        gratificacao = 30\n",
        "SENÃO\n",
        "    SE tempo <= 3\n",
        "        gratificacao = 23\n",
        "    SENÃO SE tempo < 6\n",
        "        gratificacao = 35\n",
        "    SENÃO gratificacao = 33\n",
        "ESCREVA gratificacao\n",
        "salario_liquido = salario_base – imposto + gratificacao\n",
        "ESCREVA salario_liqquido\n",
        "SE salario_liquido <= 350\n",
        "    ESCREVA “Classificação A”\n",
        "SENÃO SE salario_liqquido < 600\n",
        "    ESCREVA “Classificação B”\n",
        "SENÃO\n",
        "    ESCREVA “Classificação C”\n",
        "```"
      ]
    },
    {
      "cell_type": "code",
      "metadata": {
        "id": "xhj04HVix_LL"
      },
      "source": [
        "# Digite seu código aqui"
      ],
      "execution_count": null,
      "outputs": []
    },
    {
      "cell_type": "markdown",
      "metadata": {
        "id": "HdSARhTlx_VV"
      },
      "source": [
        "### 34. Faça um programa que:\n",
        "* receba o valor do salário mínimo,\n",
        "* o turno de trabalho (M — matutino; V — vespertino; ou N — noturno),\n",
        "* a categoria (O — operário; G — gerente)\n",
        "* número de horas trabalhadas no mês de um funcionário.\n",
        "\n",
        "*Suponha a digitação apenas de dados válidos e, quando houver digitação de letras, utilize maiúsculas.*\n",
        "\n",
        "**Calcule e mostre:**\n",
        "\n",
        "* O coeficiente do salário, de acordo com a tabela a seguir.\n",
        "\n",
        "TURNO DE TRABALHO|VALOR DO COEFICIENTE\n",
        "---|---\n",
        "M - Matutino|10% do salário mínimo\n",
        "V - Vespertino|15% do salário mínimo\n",
        "N - Noturno|20% do salário mínimo\n",
        "\n",
        "* O valor do salário bruto, ou seja, o número de horas trabalhadas multiplicado pelo valor do coeficiente do salário.\n",
        "\n",
        "* O imposto, de acordo com a tabela a seguir.\n",
        "\n",
        "CATEGORIA| SALÁRIO BRUTO|IMPOSTO SOBRE O SALÁRIO BRUTO\n",
        "---|---|---\n",
        "O - Operário|>= 300,00|5%\n",
        "O - Operário|< 300,00|3%\n",
        "G - Gerente|>= 300,00|6%\n",
        "G - Gerente|< 300,00|4%\n",
        "\n",
        "* A gratificação, de acordo com as regras a seguir. Se o funcionário preencher todos os requisitos a seguir, sua gratificação será de 50,00; caso contrário, será de 30,00. Os requisitos são:\n",
        " * Turno: Noturno\n",
        "  * Número de horas trabalhadas: Superior a 80 horas\n",
        "  * O auxílio alimentação, de acordo com as seguintes regras.\n",
        "* Auxilio alimentação, um terço do seu salário bruto; caso contrário, será de metade do seu salário bruto. Os requisitos são:\n",
        "  * Se o funcionário preencher algum dos requisitos a seguir, seu auxílio alimentação será de\n",
        "  * Categoria: Operário\n",
        "  * Coeficiente do salário: < = 25\n",
        "* O salário líquido, ou seja, salário bruto menos imposto mais gratificação mais auxílio alimentação.\n",
        "* A classificação, de acordo com a tabela a seguir:\n",
        "\n",
        "SALÁRIO LÍQUIDO|MENSAGEM\n",
        "---|---\n",
        "Menor que 350,00|Mal remunerado\n",
        "Entre 350 e 600,00|Normal\n",
        "Maior que 600,00|Bem remunerado\n",
        "\n",
        "```\n",
        "LEIA salario_minino, turno, categoria, numero_de_horas_trabalhadas\n",
        "SE turno = “M”\n",
        "     coeficiente = 10/100 * salario_minino\n",
        "SENÃO SE turno = “V”\n",
        "     coeficiente = 15/100 * salario_minino\n",
        "SENÃO SE turno = “N”\n",
        "     coeficiente = 12/100 * salario_minino\n",
        "     \n",
        "ESCREVA coeficiente\n",
        "\n",
        "salario_bruto = numero_de_horas_trabalhadas * coeficiente\n",
        "\n",
        "ESCREVA salario_bruto\n",
        "\n",
        "SE categoria = “O”\n",
        "    SE sal_bruto >= 300\n",
        "        imposto = 5/100 * sal_bruto\n",
        "    SENÃO\n",
        "        imposto = 3/100 * sal_bruto\n",
        "SENÃO\n",
        "    SE salario_bruto >= 400\n",
        "        imposto = 6/100 * salario_bruto\n",
        "    SENÃO\n",
        "         imposto = 4/100 * salario_bruto\n",
        "         \n",
        "ESCREVA imposto\n",
        "\n",
        "SE turno = “N” E numero_de_horas_trabalhadas > 80\n",
        "    gratificacao = 50\n",
        "SENÃO\n",
        "    gratificacao = 30\n",
        "    \n",
        "ESCREVA gratificacao\n",
        "\n",
        "SE categoria = “O” OU coeficiente <= 25\n",
        "    auxilio = 1/3 * salario_bruto\n",
        "SENÃO\n",
        "    auxilio = 1/2 * salario_bruto\n",
        "    \n",
        "ESCREVA auxilio\n",
        "\n",
        "salario_liquido = salario_bruto – imposto + gratificacao + auxilio\n",
        "\n",
        "ESCREVA salario_liquido\n",
        "\n",
        "SE salario_liquido < 350\n",
        "     ESCREVA “Mal Remunerado”\n",
        "SENÃO SE salario_liquido >= 350 E salario_liqquido <= 600\n",
        "     ESCREVA “Normal”\n",
        "SENÃO SE salario_liquido > 600\n",
        "     ESCREVA “Bem Remunerado”\n",
        "```"
      ]
    },
    {
      "cell_type": "code",
      "metadata": {
        "id": "RxtqQbAIyC54"
      },
      "source": [
        "# Digite seu código aqui"
      ],
      "execution_count": null,
      "outputs": []
    },
    {
      "cell_type": "markdown",
      "metadata": {
        "id": "c2dARliMyDDG"
      },
      "source": [
        "### 35. Faça um programa que receba de um produto:\n",
        "* o preço\n",
        "* o tipo (A — alimentação; L — limpeza; e V — vestuário)\n",
        "* a refrigeração (S — produto que necessita de refrigeração; e N — produto que não necessita de refrigeração) .\n",
        "\n",
        "**Suponha que haverá apenas a digitação de dados válidos e, quando houver digitação de letras, utilize maiúsculas. Calcule e mostre:**\n",
        "\n",
        "* O valor adicional, de acordo com a tabela a seguir:\n",
        "\n",
        "REFRIGERAÇÃO|TIPO|PREÇO|VALOR ADICIONAL\n",
        "---|---|---|---\n",
        "N|A|<  15,00|2,00|\n",
        " | |>= 15,00|5,00|\n",
        " |---------|--------------|-------------------------------\n",
        " |L|< 10,00|1,50\n",
        " | |>= 10,00|2,50\n",
        "  |---------|--------------|-------------------------------\n",
        " |V|< 30,00|3,00\n",
        " ||>= 30,00|2,50\n",
        "  --------------------------|---------|--------------|-------------------------------\n",
        "S|A||8,00\n",
        "|L||0,00\n",
        "|V||0,00\n",
        "\n",
        "* O valor do imposto, de acordo com a regra a seguir.\n",
        "\n",
        "PREÇO|PERCENTUAL SOBRE O PREÇO\n",
        "---|---\n",
        "< 25,00|5%\n",
        ">= 25,00|8%\n",
        "\n",
        "O preço de custo, ou seja, preço mais imposto.\n",
        "O desconto, de acordo com a regra a seguir.\n",
        "\n",
        "O produto que não preencher nenhum dos requisitos a seguir terá desconto de 3%, caso contrário, 0 (zero). Os requisitos são:\n",
        "* Tipo: A\n",
        "* Refrigeração: S\n",
        "\n",
        "* O novo preço, ou seja, preço de custo mais adicional menos desconto.\n",
        "* A classificação, de acordo com a regra a seguir.\n",
        "\n",
        "NOVO PREÇO|CLASSIFICAÇÃO\n",
        "---|---\n",
        "<= 50,00|Barato\n",
        "Entre 50,01 e 100,00|Normal\n",
        ">= 100,00|Caro\n",
        "\n",
        "\n",
        "```\n",
        "LEIA pre, tipo, refrig\n",
        "SE refrig = “N”\n",
        "    SE tipo = “A”\n",
        "        SE pre < 15\n",
        "           valor_adic = 2\n",
        "        SENÃO\n",
        "           valor_adic = 5\n",
        "    SE tipo = “L”\n",
        "        SE pre < 10\n",
        "           valor_adic = 1.5\n",
        "        SENÃO\n",
        "           valor_adic = 2.5\n",
        "    SE tipo = “V”\n",
        "        SE pre < 30\n",
        "           valor_adic = 3\n",
        "        SENÃO\n",
        "           valor_adic = 2.5\n",
        "SENÃO SE tipo = “A”\n",
        "    valor_adic = 8\n",
        "    SE tipo = “L”\n",
        "        valor_adic = 0\n",
        "    SE tipo = “V”\n",
        "        valor_adic = 0\n",
        "ESCREVA valor_adic\n",
        "SE pre < 25\n",
        "    imposto = 5/100 * pré\n",
        "SENÃO\n",
        "    imposto = 8/100 * pre\n",
        "ESCREVA imposto\n",
        "pre_custo = pre + imposto\n",
        "ESCREVA pre_custo\n",
        "SE tipo != “A” E refrig != “S”\n",
        "  desconto = 3/100 * pre_custo\n",
        "SENÃO\n",
        "  desconto = 0\n",
        "ESCREVA desconto\n",
        "novo_pre = pre_custo + valor_adic – desconto\n",
        "ESCREVA novo_pre\n",
        "SE novo_pre <= 50\n",
        "    ESCREVA “Barato”\n",
        "SENÃO SE novo_pre < 100\n",
        "    ESCREVA “Normal”\n",
        "SENÃO\n",
        "    ESCREVA “Caro”\n"
      ]
    },
    {
      "cell_type": "code",
      "metadata": {
        "id": "2MKheAJMyGc5"
      },
      "source": [
        "# Digite seu código aqui"
      ],
      "execution_count": null,
      "outputs": []
    },
    {
      "cell_type": "markdown",
      "metadata": {
        "id": "L-VOnT4CyGl8"
      },
      "source": [
        "### 36. Faça um programa que receba a medida de um ângulo em graus. Calcule e mostre o quadrante em que se localiza esse ângulo. Considere os quadrantes da trigonometria e, para ângulos maiores que 360° ou menores que −360°, reduzí-los, mostrando também o número de voltas e o sentido da volta (horário ou anti-horário).\n",
        "```\n",
        "SE angulo > 360 OU angulo < -360\n",
        "    voltas = parte inteira(angulo / 360)    \n",
        "    angulo = RESTO(angulo / 360)\n",
        "SENÃO\n",
        "    voltas = 0\n",
        "SE angulo = 0 OU angulo = 90 OU angulo = 180\n",
        "           OU angulo = 270 OU angulo = 360\n",
        "           OU angulo = -90 OU angulo = -180\n",
        "           OU angulo = -270 OU angulo = -360\n",
        "  ESCREVA “Está em cima de algum dos eixos”\n",
        "  SE (angulo > 0 E angulo < 90) OU (angulo < -270 E angulo > -360)\n",
        "    ESCREVA “1o Quadrante”\n",
        "  SENÃO SE (angulo > 90 E angulo < 180) OU (angulo < -180 E angulo > -270)\n",
        "    ESCREVA “2o Quadrante”\n",
        "  SENÃO SE (angulo > 180 E angulo < 270) OU (angulo < -90 E angulo > -180)\n",
        "    ESCREVA “3o Quadrante”\n",
        "  SENÃO SE (angulo > 270 E angulo < 360) OU (angulo < 0 E angulo > -90)\n",
        "    ESCREVA “4o Quadrante”\n",
        "  ESCREVA voltas, “ volta(s) no sentido “\n",
        "SE angulo < 0\n",
        "    ESCREVA “horário”\n",
        "SENÃO\n",
        "    ESCREVA “anti-horário”\n",
        "```"
      ]
    },
    {
      "cell_type": "code",
      "metadata": {
        "id": "GjkV8-vWyJWb"
      },
      "source": [
        "# Digite seu código aqui"
      ],
      "execution_count": null,
      "outputs": []
    }
  ]
}