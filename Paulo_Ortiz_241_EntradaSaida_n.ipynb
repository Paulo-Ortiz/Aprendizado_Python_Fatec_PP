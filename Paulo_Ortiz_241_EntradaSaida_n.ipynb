{
  "cells": [
    {
      "cell_type": "markdown",
      "metadata": {
        "id": "view-in-github",
        "colab_type": "text"
      },
      "source": [
        "<a href=\"https://colab.research.google.com/github/Paulo-Ortiz/Aprendizado_Python_Fatec_PP/blob/main/Paulo_Ortiz_241_EntradaSaida_n.ipynb\" target=\"_parent\"><img src=\"https://colab.research.google.com/assets/colab-badge.svg\" alt=\"Open In Colab\"/></a>"
      ]
    },
    {
      "cell_type": "markdown",
      "metadata": {
        "id": "5gti273fgVUm"
      },
      "source": [
        "# Exercícios para construir programas com ENTRADA, PROCESSAMENTO e SAÍDA"
      ]
    },
    {
      "cell_type": "markdown",
      "metadata": {
        "id": "OhRjsGO5gXft"
      },
      "source": [
        "### 1. Faça um programa que leia um número, multiplique ele por 2 e apresente o resultado.\n",
        "      LEIA numero\n",
        "      resultado = numero * 2\n",
        "      ESCREVA resultado"
      ]
    },
    {
      "cell_type": "code",
      "execution_count": null,
      "metadata": {
        "colab": {
          "base_uri": "https://localhost:8080/"
        },
        "id": "gl_HmcKjgIgH",
        "outputId": "e13a4436-99c9-4805-9646-6e2e0672d5dd"
      },
      "outputs": [
        {
          "output_type": "stream",
          "name": "stdout",
          "text": [
            "Digite um número: 8.3\n",
            "A multiplicação é 16.6\n"
          ]
        }
      ],
      "source": [
        "# Digite aqui seu programa\n",
        "# 1º passo - identificar a(s) entrada(s) - variável número\n",
        "numero = float(input('Digite um número: '))\n",
        "# 2º passo - identificar o processamento/cálculo\n",
        "resultado = numero * 2\n",
        "# 3º passo - apresentar a(s) variáveis que foram calculadas\n",
        "print('A multiplicação é', resultado)"
      ]
    },
    {
      "cell_type": "code",
      "source": [
        "# Faça um programa que leia um número, multiplique ele por outro número e apresente o resultado.\n",
        "# outro número e apresente o resultado.\n",
        "# entrada de dados\n",
        "numero1 = int(input('Digite um número: '))\n",
        "numero2 = float(input('Digite outro número: '))\n",
        "# processamento\n",
        "resultado = numero1 * numero2\n",
        "# saída\n",
        "print('O resultado é R$', resultado)\n",
        "print('o tipo de dados de resultado é', type(resultado))"
      ],
      "metadata": {
        "colab": {
          "base_uri": "https://localhost:8080/"
        },
        "id": "KUcnGQVXWtoZ",
        "outputId": "a3479418-5943-41e8-ab5b-3bc8b56c4a14"
      },
      "execution_count": null,
      "outputs": [
        {
          "output_type": "stream",
          "name": "stdout",
          "text": [
            "Digite um número: 2\n",
            "Digite outro número: 8.5\n",
            "O resultado é R$ 17.0\n",
            "o tipo de dados de resultado é <class 'float'>\n"
          ]
        }
      ]
    },
    {
      "cell_type": "code",
      "source": [
        "a = 3\n",
        "type  (a)\n",
        "b = 7.2\n",
        "type(b)\n",
        "endereco = 'Rua Terezinha, 75'\n",
        "type(endereco)\n",
        "nome_do_aluno = 'Giovana'\n",
        "print('Valor da variável b:',b,nome_do_aluno)\n",
        "nome = input('Digite o nome do aluno ')\n",
        "print(type(nome))\n",
        "print('Nome do aluno', nome)\n",
        "ano_nascimento = int(input('Digite o ano de nascimento: '))\n",
        "print(type(ano_nascimento))\n",
        "idade = 2024 - ano_nascimento\n",
        "print('O aluno', nome, 'tem', idade, 'anos')"
      ],
      "metadata": {
        "colab": {
          "base_uri": "https://localhost:8080/"
        },
        "id": "h-ZomudZV416",
        "outputId": "99c3a3c1-b5b2-4f3c-f899-6de4c0579bbe"
      },
      "execution_count": null,
      "outputs": [
        {
          "output_type": "stream",
          "name": "stdout",
          "text": [
            "Valor da variável b: 7.2 Giovana\n",
            "Digite o nome do aluno Paulo\n",
            "<class 'str'>\n",
            "Nome do aluno Paulo\n",
            "Digite o ano de nascimento: 1992\n",
            "<class 'int'>\n",
            "O aluno Paulo tem 32 anos\n"
          ]
        }
      ]
    },
    {
      "cell_type": "markdown",
      "metadata": {
        "id": "tYDfNkC3geee"
      },
      "source": [
        "### 2. Faça um programa que:\n",
        "* receba três números inteiros\n",
        "* calcule e mostre a soma desses números.\n"
      ]
    },
    {
      "cell_type": "code",
      "execution_count": null,
      "metadata": {
        "id": "KVDopJZngcRf",
        "colab": {
          "base_uri": "https://localhost:8080/"
        },
        "outputId": "1eb5931e-3323-4fa9-b563-4c6ed4d7e302"
      },
      "outputs": [
        {
          "output_type": "stream",
          "name": "stdout",
          "text": [
            "Informe o primeiro número:30\n",
            "Informe o segundo número:50\n",
            "Informe o terceiro número:23\n",
            "O resultado da soma é: 103\n"
          ]
        }
      ],
      "source": [
        "# Digite aqui seu programa\n",
        "# Entrada\n",
        "numero1 = int(input('Informe o primeiro número:'))\n",
        "numero2 = int(input('Informe o segundo número:'))\n",
        "numero3 = int(input('Informe o terceiro número:'))\n",
        "# Processamento/cálculo\n",
        "soma = numero1 + numero2 + numero3\n",
        "# Saída\n",
        "print('O resultado da soma é:', soma)\n"
      ]
    },
    {
      "cell_type": "markdown",
      "metadata": {
        "id": "lMGZBLxfghBl"
      },
      "source": [
        "### 3. Faça um programa que receba três notas, calcule e mostre a média aritmética.     "
      ]
    },
    {
      "cell_type": "code",
      "execution_count": null,
      "metadata": {
        "id": "awkP7ZbHgxRO",
        "colab": {
          "base_uri": "https://localhost:8080/"
        },
        "outputId": "63a30e06-cfbd-418a-8d5a-24cc5280352f"
      },
      "outputs": [
        {
          "output_type": "stream",
          "name": "stdout",
          "text": [
            "Digite a primeira nota:7.89\n",
            "Digite a segunda nota:6.31\n",
            "Digite a terceira nota:9.57\n",
            "A média das notas são: 7.923333333333333\n",
            "Resultado da média com formatação de casas decimais ===> 7.92\n"
          ]
        }
      ],
      "source": [
        "# Digite aqui seu programa\n",
        "# Entrada\n",
        "p1 = float(input('Digite a primeira nota:'))\n",
        "p2 = float(input('Digite a segunda nota:'))\n",
        "p3 = float(input('Digite a terceira nota:'))\n",
        "# Processamento/cálculo\n",
        "media = (p1 + p2 + p3) / 3\n",
        "# Saída\n",
        "print('A média das notas são:', media)\n",
        "print(f'Resultado da média com formatação de casas decimais ===> {media:.2f}')"
      ]
    },
    {
      "cell_type": "markdown",
      "metadata": {
        "id": "wh1Bjz9agxme"
      },
      "source": [
        "### 4. Faça um programa que:\n",
        "* receba o salário de um funcionário\n",
        "* calcule e mostre o novo salário, sabendo-se que este sofreu um aumento de 25%.\n",
        "\n",
        "      LEIA salario\n",
        "      novoSalario = salario + (salario * 25 / 100)\n",
        "      ESCREVA novoSalario"
      ]
    },
    {
      "cell_type": "code",
      "execution_count": null,
      "metadata": {
        "id": "FxXwABFVgygE",
        "colab": {
          "base_uri": "https://localhost:8080/"
        },
        "outputId": "a153f542-68cc-4442-85bb-147be43450dc"
      },
      "outputs": [
        {
          "output_type": "stream",
          "name": "stdout",
          "text": [
            "...PROGRAMA PARA CALCULAR AUMENTO DE 25% NO SALÁRIO ...\n",
            "Digite o salário: 1000\n",
            "O novo salário é: R$ 1250.0\n"
          ]
        }
      ],
      "source": [
        "print('...PROGRAMA PARA CALCULAR AUMENTO DE 25% NO SALÁRIO ...')\n",
        "# entrada de dados - variáveis\n",
        "salario = float(input('Digite o salário: '))\n",
        "# processamento - cálculo\n",
        "novo_salario = salario + (salario * 25 / 100)\n",
        "# saída - apresentação de valores das variáveis\n",
        "print('O novo salário é: R$',novo_salario)"
      ]
    },
    {
      "cell_type": "markdown",
      "metadata": {
        "id": "YQP_f4hzgyrh"
      },
      "source": [
        "### 5. Faça um programa que receba o salário de um funcionário e o percentual de aumento, calcule e mostre o valor do aumento e o novo salário.\n"
      ]
    },
    {
      "cell_type": "code",
      "execution_count": null,
      "metadata": {
        "colab": {
          "base_uri": "https://localhost:8080/"
        },
        "id": "9T2dzNEug1PR",
        "outputId": "b2399669-b7a8-444b-f35e-cb5828e640f5"
      },
      "outputs": [
        {
          "output_type": "stream",
          "name": "stdout",
          "text": [
            "....................................................................................................\n",
            "Programa para aplicar aumento a um salário\n",
            ".................................................................................................... \n",
            "\n",
            "\n",
            "\n",
            "Digite o salário:1000\n",
            "Digite o valor do aumento:25\n",
            "O valor do aumento foi de: R$ 250.0\n",
            "O valor do novo salário é: R$ 1250.0\n"
          ]
        }
      ],
      "source": [
        "print('.'*100)\n",
        "print('Programa para aplicar aumento a um salário')\n",
        "print('.'*100,'\\n\\n\\n')\n",
        "# entrada\n",
        "salario = float(input('Digite o salário:'))\n",
        "percentual = float(input('Digite o valor do aumento:'))\n",
        "#processamento\n",
        "aumento = (percentual / 100) * salario\n",
        "novo = salario + aumento\n",
        "#saída\n",
        "print('O valor do aumento foi de: R$',aumento)\n",
        "print('O valor do novo salário é: R$',novo)\n"
      ]
    },
    {
      "cell_type": "markdown",
      "metadata": {
        "id": "PXXsNWWEg1bu"
      },
      "source": [
        "### 6. Faça um programa que receba o salário base de um funcionário, calcule e mostre o salário a receber, sabendo-se que o funcionário tem gratificação de 5% sobre o salário base e **paga imposto** de 7% também sobre o salário base."
      ]
    },
    {
      "cell_type": "code",
      "execution_count": null,
      "metadata": {
        "colab": {
          "base_uri": "https://localhost:8080/"
        },
        "id": "x7xfAIUgg5qV",
        "outputId": "f3c628cc-54e1-425b-8900-f66e56e5f795"
      },
      "outputs": [
        {
          "output_type": "stream",
          "name": "stdout",
          "text": [
            "Digite o salário: 1000\n",
            "A gratificação é: R$50.00\n",
            "O imposto é: R$70.00\n",
            "O salário a receber é: R$980.00\n"
          ]
        }
      ],
      "source": [
        "# Digite aqui seu programa\n",
        "#entrada de dados\n",
        "salario = float(input('Digite o salário: '))\n",
        "#processamento\n",
        "gratificacao = salario * (5 / 100)\n",
        "imposto = salario * (7 / 100)\n",
        "salario_a_receber = salario + gratificacao - imposto\n",
        "#saída de dados\n",
        "print(f'A gratificação é: R${gratificacao:.2f}')\n",
        "print(f'O imposto é: R${imposto:.2f}')\n",
        "print(f'O salário a receber é: R${salario_a_receber:.2f}')\n"
      ]
    },
    {
      "cell_type": "markdown",
      "metadata": {
        "id": "wSkc33VHg50d"
      },
      "source": [
        "### 7. Faça um programa que receba o salário base de um funcionário, calcule e mostre seu salário a receber, sabendo-se que o funcionário tem gratificação de 50,00 sobre o salário base e **paga** imposto que deve ser lido e é aplicado sobre o salário base.\n",
        "\n",
        "    LEIA salario, perImposto\n",
        "    imposto = salario * perImposto / 100\n",
        "    salario_a_receber = salario + 50 - imposto\n",
        "    ESCREVA salario_a_receber"
      ]
    },
    {
      "cell_type": "code",
      "execution_count": null,
      "metadata": {
        "id": "rEwclxM7g8cj",
        "colab": {
          "base_uri": "https://localhost:8080/"
        },
        "outputId": "88d21bc1-b0c8-48ed-9782-21ae3c9392e2"
      },
      "outputs": [
        {
          "output_type": "stream",
          "name": "stdout",
          "text": [
            "Digite o salário: 5000.21\n",
            "Digite o percentual de imposto: 11.8\n",
            "Valor do imposto é: R$ 590.0247800000001\n",
            "Salário a receber é: R$ 4460.18522\n"
          ]
        }
      ],
      "source": [
        "# entrada de dados\n",
        "salario = float(input('Digite o salário: '))\n",
        "percentual = float(input('Digite o percentual de imposto: '))\n",
        "# processamento - cálculo\n",
        "imposto_desconto = salario * percentual / 100\n",
        "salario_a_receber = salario + 50 - imposto_desconto\n",
        "# saída\n",
        "print('Valor do imposto é: R$', imposto_desconto)\n",
        "print('Salário a receber é: R$', salario_a_receber)"
      ]
    },
    {
      "cell_type": "code",
      "source": [
        "# entrada de dados\n",
        "salario = float(input('Digite o salário: '))\n",
        "percentual = float(input('Digite o percentual de imposto: '))\n",
        "# processamento - cálculo\n",
        "salario_a_receber = salario + 50 - salario * percentual / 100\n",
        "# saída\n",
        "print('Salário a receber é: R$', salario_a_receber)"
      ],
      "metadata": {
        "colab": {
          "base_uri": "https://localhost:8080/"
        },
        "id": "rkWjL5fAQqr4",
        "outputId": "719fc8da-1a5f-4c15-870f-c7c8dbf18638"
      },
      "execution_count": null,
      "outputs": [
        {
          "output_type": "stream",
          "name": "stdout",
          "text": [
            "Digite o salário: 1000\n",
            "Digite o percentual de imposto: 7\n",
            "Salário a receber é: R$ 980.0\n"
          ]
        }
      ]
    },
    {
      "cell_type": "markdown",
      "metadata": {
        "id": "pvZSNjjzg8oq"
      },
      "source": [
        "### 8. Faça um programa que receba o valor de um depósito e o valor da taxa de juros, calcule e mostre o valor do rendimento e o valor total depois do rendimento de um mês.\n",
        "    rendimento = deposito * taxa / 100\n",
        "    total = deposito + rendimento"
      ]
    },
    {
      "cell_type": "code",
      "execution_count": null,
      "metadata": {
        "id": "k0zejQegg9ma",
        "colab": {
          "base_uri": "https://localhost:8080/"
        },
        "outputId": "9bd0545f-c414-4991-8dcd-175668222d9e"
      },
      "outputs": [
        {
          "output_type": "stream",
          "name": "stdout",
          "text": [
            "Informe o valor do depósito: 100\n",
            "Informe o valor da taxa de juros: 10\n",
            "O valor do rendimento após 1 mês é de: R$  10.0\n",
            "O valor do depósito com o rendimento de 1 mês é de: R$ 110.0\n"
          ]
        }
      ],
      "source": [
        "# Digite aqui seu programa\n",
        "#entrada de dados\n",
        "deposito = float(input('Informe o valor do depósito: '))\n",
        "taxa_juros = float(input('Informe o valor da taxa de juros: '))\n",
        "#processamento\n",
        "rendimento = deposito * (taxa_juros / 100)\n",
        "valor_total = deposito + rendimento\n",
        "#saída de dados\n",
        "print('O valor do rendimento após 1 mês é de: R$ ', rendimento)\n",
        "print('O valor do depósito com o rendimento de 1 mês é de: R$', valor_total)"
      ]
    },
    {
      "cell_type": "markdown",
      "metadata": {
        "id": "z42ADdywg9xS"
      },
      "source": [
        "### 9. Faça um programa que calcule e mostre a área de um triângulo. Sabe-se que: Área = (base * altura) / 2."
      ]
    },
    {
      "cell_type": "code",
      "execution_count": null,
      "metadata": {
        "id": "F-yamLhahCTK",
        "colab": {
          "base_uri": "https://localhost:8080/"
        },
        "outputId": "0f23fb23-7cf9-40f1-b2e3-224a28653896"
      },
      "outputs": [
        {
          "output_type": "stream",
          "name": "stdout",
          "text": [
            "Digite o valor da base:2\n",
            "Digite o valor da altura:5\n",
            "A Área do triângulo é: 5.0\n"
          ]
        }
      ],
      "source": [
        "# Digite aqui seu programa\n",
        "#entrada de dados\n",
        "base = float(input('Digite o valor da base:'))\n",
        "altura = float(input('Digite o valor da altura:'))\n",
        "#procesamento de dados\n",
        "area = (base * altura) / 2\n",
        "#saída de dados\n",
        "print('A Área do triângulo é:', area)\n",
        "\n"
      ]
    },
    {
      "cell_type": "markdown",
      "metadata": {
        "id": "s4oSY4EghCfn"
      },
      "source": [
        "### 10. Faça um programa que calcule e mostre a área de um círculo. Sabe-se que:\n",
        "    area = pi * raio²\n",
        "    Como pi é um valor que conhecemos, então use a seguinte fórmula:\n",
        "    area = 3.1415 * raio²"
      ]
    },
    {
      "cell_type": "code",
      "execution_count": null,
      "metadata": {
        "colab": {
          "base_uri": "https://localhost:8080/"
        },
        "id": "tvPiHGB0hE5N",
        "outputId": "0aec0fba-6b26-4717-8240-fd00292f8621"
      },
      "outputs": [
        {
          "output_type": "stream",
          "name": "stdout",
          "text": [
            "....................................................................................................\n",
            "Programa para calcular a área de um círculo\n",
            ".................................................................................................... \n",
            "\n",
            "\n",
            "Digite o raio: 30\n",
            "Área do círculo:  2827.4333882308138\n"
          ]
        }
      ],
      "source": [
        "print('.'*100)\n",
        "print('Programa para calcular a área de um círculo')\n",
        "print('.'*100,'\\n\\n')\n",
        "import math\n",
        "#entrada\n",
        "raio = float(input(\"Digite o raio: \"))\n",
        "#processamento\n",
        "area = math.pi * raio ** 2\n",
        "#area = math.pi * math.pow(raio,2)\n",
        "#saída\n",
        "print('Área do círculo: ', area)\n"
      ]
    },
    {
      "cell_type": "markdown",
      "metadata": {
        "id": "vTot3sXrhFAT"
      },
      "source": [
        "### 11. Faça um programa que receba um número, calcule e mostre:\n",
        "* O número digitado ao quadrado\n",
        "* O número digitado ao cubo\n",
        "* A raiz do número digitado\n",
        "* A raiz cúbica do número digitado\n",
        "\n",
        "      LEIA numero\n",
        "      quadrado = numero ** 2\n",
        "      cubo = numero ** 3\n",
        "      raiz_quadrada = numero ** (½) (meio, ou 0.5)\n",
        "      raiz_cubica = numero ** (⅓) (um terço, ou 0.33)\n",
        "      ESCREVA quadrado, cubo, raiz_quadrada, raiz_cubica\n",
        "\n",
        "\n",
        "      raiz_quadrada = numero ** (1/2) ou\n",
        "      raiz_quadrada = numero ** 0.5"
      ]
    },
    {
      "cell_type": "code",
      "execution_count": null,
      "metadata": {
        "id": "TT0-h8nChILi",
        "colab": {
          "base_uri": "https://localhost:8080/"
        },
        "outputId": "1dcf39bc-21e6-41f7-f6b4-83241f31ed5d"
      },
      "outputs": [
        {
          "output_type": "stream",
          "name": "stdout",
          "text": [
            "Insira um número: 5\n",
            "O número ao quadrado é:  25.0\n",
            "O número ao cubo é:  125.0\n",
            "A raiz quadrada é:  2.23606797749979\n",
            "A raiz cúbica é:  1.7008268430839244\n"
          ]
        }
      ],
      "source": [
        "# Digite aqui seu programa\n",
        "#entrada de dados\n",
        "numero = float(input('Insira um número: '))\n",
        "#processamento de dados\n",
        "quadrado = numero ** 2\n",
        "cubo = numero ** 3\n",
        "raiz_quadrada = numero ** 0.5\n",
        "raiz_cubica = numero ** 0.33\n",
        "#saida dos dados\n",
        "print('O número ao quadrado é: ', quadrado)\n",
        "print('O número ao cubo é: ', cubo)\n",
        "print('A raiz quadrada é: ', raiz_quadrada)\n",
        "print('A raiz cúbica é: ', raiz_cubica)"
      ]
    },
    {
      "cell_type": "markdown",
      "source": [
        "11.(2) Faça um programa que receba um número, calcule e mostre:\n",
        "O número digitado ao quadrado\n",
        "\n",
        "O número digitado ao cubo\n",
        "\n",
        "A raiz do número digitado\n",
        "\n",
        "A raiz cúbica do número digitado\n",
        "\n",
        "LEIA numero\n",
        "quadrado = numero ** 2\n",
        "cubo = numero ** 3\n",
        "raiz_quadrada = numero ** (½) (meio, ou 0.5)\n",
        "raiz_cubica = numero ** (⅓) (um terço, ou 0.33)\n",
        "ESCREVA quadrado, cubo, raiz_quadrada, raiz_cubica"
      ],
      "metadata": {
        "id": "zRX2t4aAPjeb"
      }
    },
    {
      "cell_type": "markdown",
      "metadata": {
        "id": "6w8k1c0ShIWK"
      },
      "source": [
        "### 12. Faça um programa que receba dois números, calcule e mostre um elevado ao outro. Use os caracteres **\n"
      ]
    },
    {
      "cell_type": "code",
      "execution_count": null,
      "metadata": {
        "id": "2KMY_7MQhKuf",
        "colab": {
          "base_uri": "https://localhost:8080/"
        },
        "outputId": "c6ce3c9e-e49d-435f-adbb-203fe038967b"
      },
      "outputs": [
        {
          "output_type": "stream",
          "name": "stdout",
          "text": [
            "Digite o primeiro número: 5\n",
            "Digite o segundo número: 3\n",
            "O primeiro número elevado ao segundo número é:  125.0\n"
          ]
        }
      ],
      "source": [
        "# Digite aqui seu programa\n",
        "#entrada de dados\n",
        "numero1 = float(input('Digite o primeiro número: '))\n",
        "numero2 = float(input('Digite o segundo número: '))\n",
        "#processamento de dados\n",
        "elevado = numero1 ** numero2\n",
        "#saída de dados\n",
        "print('O primeiro número elevado ao segundo número é: ', elevado)"
      ]
    },
    {
      "cell_type": "markdown",
      "metadata": {
        "id": "IKp4FbUQhK3f"
      },
      "source": [
        "### 13. Sabe-se que:\n",
        "\n",
        "* pé = 12 polegadas\n",
        "* 1 jarda = 3 pés\n",
        "* 1 milha = 1760 jarda\n",
        "\n",
        "Faça um programa que receba uma medida em pés, faça as conversões a seguir e mostre os resultados.\n",
        "\n",
        "* Polegadas;\n",
        "* Jardas;\n",
        "* Milhas.\n",
        "\n",
        "      LEIA pes\n",
        "      polegadas = pes * 12\n",
        "      jardas = pes / 3\n",
        "      milhas = jardas / 1760\n",
        "      ESCREVA polegadas, jardas, milhas"
      ]
    },
    {
      "cell_type": "code",
      "execution_count": null,
      "metadata": {
        "id": "RIaq7VtchNNp",
        "colab": {
          "base_uri": "https://localhost:8080/"
        },
        "outputId": "e0a1a8a5-516b-4f91-91f2-85456c9a1cce"
      },
      "outputs": [
        {
          "output_type": "stream",
          "name": "stdout",
          "text": [
            "Digite quantos pés deseja saber as demais medidas: 10\n",
            "10.0 pés representam: 120.0 polegadas, 3.3333333333333335 jardas e 0.001893939393939394 milhas\n"
          ]
        }
      ],
      "source": [
        "# Digite aqui seu programa\n",
        "#entrada de dados\n",
        "pes = float(input('Digite quantos pés deseja saber as demais medidas: '))\n",
        "#processamento de dados\n",
        "polegadas = pes * 12\n",
        "jardas = pes / 3\n",
        "milhas = jardas / 1760\n",
        "#saída de dados\n",
        "print(pes, 'pés representam:',polegadas,'polegadas,',jardas,'jardas', 'e',milhas,'milhas')"
      ]
    },
    {
      "cell_type": "markdown",
      "metadata": {
        "id": "AuDRKznFhNXx"
      },
      "source": [
        "\n",
        "### 14. Faça um programa que receba o ano de nascimento de uma pessoa e o ano atual, calcule e mostre:\n",
        "* a idade atual da pessoa;\n",
        "* quantos anos ela terá em 2050."
      ]
    },
    {
      "cell_type": "code",
      "execution_count": null,
      "metadata": {
        "id": "OMzeO-7bhOGb",
        "colab": {
          "base_uri": "https://localhost:8080/"
        },
        "outputId": "5cd96ef6-0726-4985-df68-60f967c44197"
      },
      "outputs": [
        {
          "output_type": "stream",
          "name": "stdout",
          "text": [
            "Digite o seu ano de nascimento: 1992\n",
            "Digite o ano atual: 2024\n",
            "Sua idade atual é 32 anos\n",
            "No ano de 2050 você terá 58 anos\n"
          ]
        }
      ],
      "source": [
        "# Digite aqui seu programa\n",
        "#entrada de dados\n",
        "idade_nascimento = int(input('Digite o seu ano de nascimento: '))\n",
        "ano_atual = int(input('Digite o ano atual: '))\n",
        "#processamento de dados\n",
        "idade_atual = ano_atual - idade_nascimento\n",
        "idade_em_2050 = 2050 - idade_nascimento\n",
        "#saída de dados\n",
        "print('Sua idade atual é', idade_atual, 'anos')\n",
        "print('No ano de 2050 você terá', idade_em_2050, 'anos')\n"
      ]
    },
    {
      "cell_type": "markdown",
      "metadata": {
        "id": "C23LWTfwhOPH"
      },
      "source": [
        "#### 15. O custo ao consumidor de um carro novo é a soma do preço de fábrica com o percentual de lucro do distribuidor e dos impostos aplicados ao preço de fábrica. Faça um programa que receba o preço de fábrica de um veículo, o percentual de lucro do distribuidor e o percentual de impostos, calcule e mostre:\n",
        "* o valor correspondente ao lucro do distribuidor;\n",
        "* o valor correspondente aos impostos;\n",
        "* o preço final do veículo.\n",
        "        LEIA preco_fabrica\n",
        "        LEIA percentual_lucro_distribuidor\n",
        "        LEIA percentual_imposto\n",
        "        lucro_distribuidor = preco_fabrica * percentual_lucro_distribuidor / 100\n",
        "        valor_imposto = preco_fabrica * percentual_imposto / 100\n",
        "        preco_final = preco_fabrica + lucro_distribuidor + valor_imposto\n",
        "        ESCREVA lucro_distribuidor\n",
        "        ESCREVA valor_imposto\n",
        "        ESCREVA preco_final\n"
      ]
    },
    {
      "cell_type": "code",
      "execution_count": null,
      "metadata": {
        "id": "WCpDCuR6hRlb",
        "colab": {
          "base_uri": "https://localhost:8080/"
        },
        "outputId": "5256a2ea-90ce-418d-b2f9-d3a755cbcdf4"
      },
      "outputs": [
        {
          "output_type": "stream",
          "name": "stdout",
          "text": [
            "Informe o preço de fábrica do veículo: 10000\n",
            "Informe o percentual de lucro: 20\n",
            "Informe o percentual de imposto: 10\n",
            "O lucro do distribuidor é: R$ 2000.0\n",
            "O valor do imposto é: R$ 1000.0\n",
            "O preço final do veículo é: R$ 13000.0\n"
          ]
        }
      ],
      "source": [
        "# Digite aqui seu programa\n",
        "#entrada de dados\n",
        "preco_fabrica = float(input('Informe o preço de fábrica do veículo: '))\n",
        "percentual_lucro_distribuidor = float(input('Informe o percentual de lucro: '))\n",
        "percentual_imposto = float(input('Informe o percentual de imposto: '))\n",
        "#processamento de dados\n",
        "lucro_distribuidor = preco_fabrica * percentual_lucro_distribuidor / 100\n",
        "valor_imposto = preco_fabrica * percentual_imposto / 100\n",
        "preco_final = preco_fabrica + lucro_distribuidor + valor_imposto\n",
        "#saída de dados\n",
        "print('O lucro do distribuidor é: R$', lucro_distribuidor)\n",
        "print('O valor do imposto é: R$', valor_imposto)\n",
        "print('O preço final do veículo é: R$', preco_final)"
      ]
    },
    {
      "cell_type": "markdown",
      "metadata": {
        "id": "eHRob5vghRuI"
      },
      "source": [
        "### 16. Faça um programa que receba o número de horas trabalhadas e o valor do salário mínimo, calcule e mostre o salário a receber, seguindo estas regras:\n",
        "* a hora trabalhada vale a metade do salário mínimo.\n",
        "* o salário bruto equivale ao número de horas trabalhadas multiplicado pelo valor da hora trabalhada.\n",
        "* o imposto equivale a 3% do salário bruto.\n",
        "* o salário a receber equivale ao salário bruto menos o imposto.\n",
        "      LEIA qtde_horas_trabalhadas\n",
        "      LEIA valor_salario_minimo\n",
        "      valor_hora_trabalhada = valor_salario_minimo / 2\n",
        "      valor_salario_bruto = valor_hora_trabalhada * qtde_horas_trabalhadas\n",
        "      imposto = valor_salario_bruto * 3 / 100\n",
        "      valor_salario_liquido =  valor_salario_bruto - imposto\n",
        "      ESCREVA valor_salario_liquido"
      ]
    },
    {
      "cell_type": "code",
      "execution_count": null,
      "metadata": {
        "id": "w_Kil4knhVrJ",
        "colab": {
          "base_uri": "https://localhost:8080/"
        },
        "outputId": "611f4d7d-e19a-46f4-b8e4-c563a32ebfd0"
      },
      "outputs": [
        {
          "output_type": "stream",
          "name": "stdout",
          "text": [
            "Informe a quantidade de horas trabalhadas: 40\n",
            "Informe o valor do salário mínimo: 1413\n",
            "O valor do salário bruto é: R$ 28260.0\n",
            "O valor do imposto é: R$ 847.8\n",
            "..................................................\n",
            "O valor do salário líquido é: R$ 27412.2\n"
          ]
        }
      ],
      "source": [
        "# Digite aqui seu programa\n",
        "#entrada de dados\n",
        "quantidade_horas_trabalhadas = float(input('Informe a quantidade de horas trabalhadas: '))\n",
        "valor_salario_minimo = float(input('Informe o valor do salário mínimo: '))\n",
        "#processamento de dados\n",
        "valor_hora_trabalhada = valor_salario_minimo / 2\n",
        "valor_salario_bruto = valor_hora_trabalhada * quantidade_horas_trabalhadas\n",
        "imposto = valor_salario_bruto * (3 / 100)\n",
        "valor_salario_liquido = valor_salario_bruto - imposto\n",
        "#saída de dados\n",
        "print('O valor do salário bruto é: R$', valor_salario_bruto)\n",
        "print('O valor do imposto é: R$', imposto)\n",
        "print('.'*50)\n",
        "print('O valor do salário líquido é: R$', valor_salario_liquido)\n"
      ]
    },
    {
      "cell_type": "markdown",
      "metadata": {
        "id": "0OW87yEnhV-V"
      },
      "source": [
        "### 17. Um trabalhador recebeu seu salário e o depositou em sua conta bancária. Esse trabalhador emitiu dois cheques e agora deseja saber seu saldo atual. O banco criou uma taxa para a operação bancária de retirada que tem que pagar um imposto de 0.38% e o saldo inicial da conta está zerado.\n",
        "\n",
        "      LEIA salario\n",
        "      LEIA valor_cheque1\n",
        "      LEIA valor_cheque2\n",
        "      imposto_cheque1 = valor_cheque1 * 0.38 / 100\n",
        "      saque1 = valor_cheque1 + imposto_cheque1\n",
        "      imposto_cheque2 = valor_cheque2 * 0.38 / 100\n",
        "      saque2 = valor_cheque2 + imposto_cheque2\n",
        "      saldo = salario - saque1 - saque2\n",
        "      ESCREVA saldo\n"
      ]
    },
    {
      "cell_type": "code",
      "execution_count": null,
      "metadata": {
        "id": "MUEC63qMhYu1",
        "colab": {
          "base_uri": "https://localhost:8080/"
        },
        "outputId": "5d251570-90d4-4b71-a1a0-00c82899fc95"
      },
      "outputs": [
        {
          "output_type": "stream",
          "name": "stdout",
          "text": [
            "Informe o salário depositado: 5000\n",
            "Informe o valor do cheque 1: 2000\n",
            "Informe o valor do cheque 2: 1500\n",
            "O valor cobrado de imposto do cheque 1 é de: R$ 7.6\n",
            "O valor cobrado de imposto do cheque 2 é de: R$ 5.7\n",
            "...........................................................................\n",
            "O saldo atual em sua conta bancária é de: R$ 1486.7\n"
          ]
        }
      ],
      "source": [
        "# Digite aqui seu programa\n",
        "#entrada de dados\n",
        "salario = float(input('Informe o salário depositado: '))\n",
        "valor_cheque1 = float(input('Informe o valor do cheque 1: '))\n",
        "valor_cheque2 = float(input('Informe o valor do cheque 2: '))\n",
        "#processamento dos dados\n",
        "imposto_cheque1 = valor_cheque1 * 0.38 / 100\n",
        "saque1 = valor_cheque1 + imposto_cheque1\n",
        "imposto_cheque2 = valor_cheque2 * 0.38 / 100\n",
        "saque2 = valor_cheque2 + imposto_cheque2\n",
        "saldo = salario - saque1 - saque2\n",
        "#saída de dados\n",
        "print('O valor cobrado de imposto do cheque 1 é de: R$', imposto_cheque1)\n",
        "print('O valor cobrado de imposto do cheque 2 é de: R$', imposto_cheque2)\n",
        "print('.'*75)\n",
        "print('O saldo atual em sua conta bancária é de: R$', saldo)"
      ]
    },
    {
      "cell_type": "markdown",
      "metadata": {
        "id": "tbHb8qiYheU3"
      },
      "source": [
        "### 18. Faça um programa que receba a medida do ângulo (em graus) formado por uma escada apoiada no chão e encostada na parede e a altura da parede onde está a ponta da escada. Calcule e mostre a medida dessa escada. Observação: as funções trigonométricas implementadas nas linguagens de programação trabalham com medidas de ângulos em radianos.\n",
        "      LEIA angulo\n",
        "      LEIA altura\n",
        "      import math # carrega a biblioteca matemática\n",
        "      radiano = angulo * math.pi / 180\n",
        "      escada = altura / math.sin(radiano)\n",
        "      ESCREVA escada\n",
        "**Observação**: Para usar seno em Python, deve-se usar esta linha de código **import math** e esta, no cálculo, **math.sin(numero)**\n",
        "\n",
        "**import math**\n",
        "\n",
        "escada = altura / **math.sin**(numero)"
      ]
    },
    {
      "cell_type": "code",
      "execution_count": null,
      "metadata": {
        "colab": {
          "base_uri": "https://localhost:8080/"
        },
        "id": "Ijh7i02rhg0D",
        "outputId": "b01c94d9-edca-4c8d-b6d3-34aa03e7b988"
      },
      "outputs": [
        {
          "output_type": "stream",
          "name": "stdout",
          "text": [
            "Seno 0.89\n",
            "Cosseno 0.86\n",
            "Potência 256.00\n",
            "Raiz quadrada 4.90\n",
            "O número de pi é: 3.14\n"
          ]
        }
      ],
      "source": [
        "import math\n",
        "# import chama a biblioteca matemática e disponibiliza ao programa, várias\n",
        "# funções prontas (seno, cosseno, tangente, hipotenuza, raiz quadrada, entre outras), basta usá-las quando necessário.\n",
        "# Segue alguns exemplos:\n",
        "print(f'Seno {math.sin(90):.2f}')\n",
        "print(f'Cosseno {math.cos(100):.2f}' )\n",
        "print(f'Potência {math.pow(2,8):.2f}')\n",
        "print(f'Raiz quadrada {math.sqrt(24):.2f}')\n",
        "print(f'O número de pi é: {math.pi:.2f}')"
      ]
    },
    {
      "cell_type": "code",
      "execution_count": null,
      "metadata": {
        "id": "0ttpLxh4m8Wh",
        "colab": {
          "base_uri": "https://localhost:8080/"
        },
        "outputId": "d128a04a-391c-4590-abb7-5340a4b58505"
      },
      "outputs": [
        {
          "output_type": "stream",
          "name": "stdout",
          "text": [
            "Informe o ângulo (em graus) da escada apoiada na parede: 180\n",
            "Informe a altura da parede: 10\n",
            "A medida da escada é:  8.165619676597685e+16 metros\n"
          ]
        }
      ],
      "source": [
        "# Digite aqui seu programa\n",
        "#entrada de dados\n",
        "import math\n",
        "angulo = float(input('Informe o ângulo (em graus) da escada apoiada na parede: '))\n",
        "altura = float(input('Informe a altura da parede: '))\n",
        "#processamento dos dados\n",
        "radiano = angulo * math.pi / 180\n",
        "escada = altura / math.sin(radiano)\n",
        "#saída de dados\n",
        "print('A medida da escada é: ', escada, 'metros')"
      ]
    },
    {
      "cell_type": "markdown",
      "metadata": {
        "id": "P2CNkCZ5hiJH"
      },
      "source": [
        "###19. Sabe-se que o quilowatt de energia custa um quinto do salário mínimo. Faça um programa que receba o valor do salário mínimo e a quantidade de quilowatts consumida por uma residência. Calcule e mostre:\n",
        "\n",
        "\n",
        "* o valor de cada quilowatt;\n",
        "* o valor a ser pago por essa residência;\n",
        "* o valor a ser pago com desconto de 15%.\n",
        "      LEIA valor_salario\n",
        "      LEIA qtde_quilowatt\n",
        "      valor_quilowatt = valor_salario / 5\n",
        "      valor_em_reais = valor_quilowatt * qtde_quilowatt\n",
        "      valor_descontado = valor_em_reais * 15 / 100\n",
        "      valor_com_desconto =  valor_em_reais − valor_descontado\n",
        "      ESCREVA valor_quilowatt\n",
        "      ESCREVA valor_em_reais\n",
        "      ESCREVA valor_com_desconto\n"
      ]
    },
    {
      "cell_type": "code",
      "execution_count": null,
      "metadata": {
        "id": "RJpeKC7NhmIf",
        "colab": {
          "base_uri": "https://localhost:8080/"
        },
        "outputId": "786e2109-7391-4e71-9b2d-1d0c9787a076"
      },
      "outputs": [
        {
          "output_type": "stream",
          "name": "stdout",
          "text": [
            "Informe o valor do salário mínimo: 1413\n",
            "Informe o valor de quilowatts consumidos: 100\n",
            "O valor de cada quilowatt é: R$ 282.60\n",
            "O valor a ser pago pela residência é: R$ 28260.00\n",
            "O valor a ser pago pela residência com desconto de 15% é: R$ 24021.00\n"
          ]
        }
      ],
      "source": [
        "# Digite aqui seu programa\n",
        "#entrada de dados\n",
        "valor_salario = float(input('Informe o valor do salário mínimo: '))\n",
        "quantidade_quilowatt = float(input('Informe o valor de quilowatts consumidos: '))\n",
        "#processamento de dados\n",
        "valor_quilowatt = valor_salario / 5\n",
        "valor_em_reais = valor_quilowatt * quantidade_quilowatt\n",
        "valor_descontado = valor_em_reais * 15 / 100\n",
        "valor_com_desconto = valor_em_reais - valor_descontado\n",
        "#saída de dados\n",
        "print(f'O valor de cada quilowatt é: R$ {valor_quilowatt:.2f}')\n",
        "print(f'O valor a ser pago pela residência é: R$ {valor_em_reais:.2f}')\n",
        "print(f'O valor a ser pago pela residência com desconto de 15% é: R$ {valor_com_desconto:.2f}')"
      ]
    },
    {
      "cell_type": "markdown",
      "metadata": {
        "id": "hDmdn0BWhmTx"
      },
      "source": [
        "### 20. Faça um programa que receba um número real, encontre e mostre:\n",
        "\n",
        "* a parte inteira desse número;\n",
        "* a parte fracionária desse número;\n",
        "* o arredondamento desse número.\n",
        "\n",
        "      LEIA numero\n",
        "      parte_inteira = numero // 1\n",
        "      parte_fracionaria = numero - parte_inteira\n",
        "      numero_arredondado = round (numero)\n",
        "      ESCREVA parte_inteira\n",
        "      ESCREVA parte_fracionaria\n",
        "      ESCREVA numero_arredondado\n",
        "      \n",
        "**Observação**: Para arredondar um número em Python, usa-se a função **round(numero)**, onde se o número real/float estiver em igual distância entre o inteiro de cima e o inteiro de baixo, esta função arredonda para o número mais próximo.\n",
        "\n"
      ]
    },
    {
      "cell_type": "code",
      "execution_count": null,
      "metadata": {
        "id": "sT5U0LgGhozg",
        "colab": {
          "base_uri": "https://localhost:8080/"
        },
        "outputId": "4e15b3ec-1e86-4bb6-dbbe-0d1e40652424"
      },
      "outputs": [
        {
          "output_type": "stream",
          "name": "stdout",
          "text": [
            "Insira um número: 5.5\n",
            "A parte inteira desse número é:  5.0\n",
            "A parte fracionária desse número é:  0.5\n",
            "O arredondamento desse número é:  6\n"
          ]
        }
      ],
      "source": [
        "# Digite aqui seu programa\n",
        "#entrada de dados\n",
        "numero = float(input('Insira um número: '))\n",
        "#processamento de dados\n",
        "parte_inteira = numero // 1\n",
        "parte_fracionaria = numero - parte_inteira\n",
        "numero_arredondado = round(numero)\n",
        "#saída de dados\n",
        "print('A parte inteira desse número é: ', parte_inteira)\n",
        "print('A parte fracionária desse número é: ', parte_fracionaria)\n",
        "print('O arredondamento desse número é: ', numero_arredondado)"
      ]
    },
    {
      "cell_type": "markdown",
      "metadata": {
        "id": "0Ae-WDdAho8j"
      },
      "source": [
        "### 21. Faça um programa que receba uma hora formada por hora e minutos (um número real), calcule e mostre a hora digitada apenas em minutos. Lembre-se de que:\n",
        "* para quatro e meia, deve-se digitar 4.30;\n",
        "* os minutos vão de 0 a 59.\n",
        "      LEIA hora\n",
        "      h = pegar a parte inteira da variável hora\n",
        "      minutos = hora − h\n",
        "      conversao = (h * 60) + (minutos * 100)\n",
        "      ESCREVA conversao\n"
      ]
    },
    {
      "cell_type": "code",
      "execution_count": null,
      "metadata": {
        "id": "ePoxc4bohrQm",
        "colab": {
          "base_uri": "https://localhost:8080/"
        },
        "outputId": "2af543a0-6488-48b9-ae17-b3ac9936663c"
      },
      "outputs": [
        {
          "output_type": "stream",
          "name": "stdout",
          "text": [
            "Informe a hora: 4.30\n",
            "Esse horário representam 270.0 minutos\n"
          ]
        }
      ],
      "source": [
        "#parte inteira da variável hora, use // (h = hora // 1)\n",
        "# Digite aqui seu programa\n",
        "#entrada de dados\n",
        "hora = float(input('Informe a hora: '))\n",
        "#processamento de dados\n",
        "h = hora // 1\n",
        "minutos = hora - h\n",
        "conversao = (h * 60) + (minutos * 100)\n",
        "#saída de dados\n",
        "print('Esse horário representam', conversao, 'minutos')"
      ]
    },
    {
      "cell_type": "markdown",
      "metadata": {
        "id": "-YjvNy_DhrZa"
      },
      "source": [
        "### 22. Faça um programa que receba o custo de um espetáculo teatral e o preço do convite desse espetáculo. Esse programa deverá calcular e mostrar a quantidade de convites que devem ser vendidos para que, pelo menos, o custo do espetáculo seja alcançado.\n"
      ]
    },
    {
      "cell_type": "code",
      "execution_count": null,
      "metadata": {
        "colab": {
          "base_uri": "https://localhost:8080/"
        },
        "id": "55qawy58hsl0",
        "outputId": "149d696c-3313-4737-cc1a-e9415b0a8fe0"
      },
      "outputs": [
        {
          "output_type": "stream",
          "name": "stdout",
          "text": [
            "Digite o custo do espetáculo: 10000\n",
            "Digite o preço do convite: 200\n",
            "Deveram ser vendidos pelo menos 50 convites para que o custo do espetáculo seja pago\n"
          ]
        }
      ],
      "source": [
        "# Digite aqui seu programa\n",
        "#entrada de dados\n",
        "custo_espetaculo = float(input('Digite o custo do espetáculo: '))\n",
        "preco_convite = float(input('Digite o preço do convite: '))\n",
        "#processamento de dados\n",
        "custo_convites = int(custo_espetaculo / preco_convite)\n",
        "#saída de dados\n",
        "print('Deveram ser vendidos pelo menos', custo_convites, 'convites para que o custo do espetáculo seja pago')"
      ]
    }
  ],
  "metadata": {
    "colab": {
      "provenance": [],
      "include_colab_link": true
    },
    "kernelspec": {
      "display_name": "Python 3",
      "name": "python3"
    }
  },
  "nbformat": 4,
  "nbformat_minor": 0
}