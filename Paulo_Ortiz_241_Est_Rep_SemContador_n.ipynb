{
  "nbformat": 4,
  "nbformat_minor": 0,
  "metadata": {
    "colab": {
      "provenance": [],
      "include_colab_link": true
    },
    "kernelspec": {
      "name": "python3",
      "display_name": "Python 3"
    }
  },
  "cells": [
    {
      "cell_type": "markdown",
      "metadata": {
        "id": "view-in-github",
        "colab_type": "text"
      },
      "source": [
        "<a href=\"https://colab.research.google.com/github/Paulo-Ortiz/Aprendizado_Python_Fatec_PP/blob/main/Paulo_Ortiz_241_Est_Rep_SemContador_n.ipynb\" target=\"_parent\"><img src=\"https://colab.research.google.com/assets/colab-badge.svg\" alt=\"Open In Colab\"/></a>"
      ]
    },
    {
      "cell_type": "markdown",
      "metadata": {
        "id": "E64RcqHIMXAS"
      },
      "source": [
        "# **EXERCÍCIOS DE ESTRUTURA DE REPETIÇÃO SEM CONTADOR**\n"
      ]
    },
    {
      "cell_type": "markdown",
      "metadata": {
        "id": "_q0kBpMGMbRF"
      },
      "source": [
        "###1. Construir um algoritmo para calcular e apresentar o total de salários pagos de funcionários, mas não é informado a quantidade de pessoas, então use como critério de parada (condição da estrutura de repetição, digitar zero no salário para sair.\n"
      ]
    },
    {
      "cell_type": "code",
      "metadata": {
        "id": "uLE2w6-aMadI",
        "colab": {
          "base_uri": "https://localhost:8080/"
        },
        "outputId": "dd67085d-2dd1-4afd-c0a5-407e9812472a"
      },
      "source": [
        "# não podemos usar o for porque precisa de um valor\n",
        "# numérico para indicar a quantidade de repetições no range()\n",
        "# for contador in range(valor numerico)\n",
        "salario = float(input('Digite o salário e zero para sair: '))\n",
        "total = 0\n",
        "while salario > 0:\n",
        "    total = total + salario\n",
        "    salario = float(input('Digite o salário: '))\n",
        "print('Total R$', total)\n"
      ],
      "execution_count": null,
      "outputs": [
        {
          "output_type": "stream",
          "name": "stdout",
          "text": [
            "Digite o salário e zero para sair: 1000\n",
            "Digite o salário: 3000\n",
            "Digite o salário: 5000\n",
            "Digite o salário: 0\n",
            "Total R$ 9000.0\n"
          ]
        }
      ]
    },
    {
      "cell_type": "code",
      "source": [
        "#implementação COM GAMBIARRA\n",
        "salario = 1\n",
        "total = 0\n",
        "while salario > 0:\n",
        "    salario = float(input('Digite o salário: '))\n",
        "    if salario > 0:\n",
        "        total = total + salario\n",
        "print('Total R$', total)"
      ],
      "metadata": {
        "id": "XLxV2bwEzVo8"
      },
      "execution_count": null,
      "outputs": []
    },
    {
      "cell_type": "markdown",
      "metadata": {
        "id": "y7gc7ImtKBee"
      },
      "source": [
        "###2. Faça um programa que receba a altura de **5 pessoas**. Encontre e apresente a altura da pessoa mais alta e da mais baixa e seus respectivos nomes."
      ]
    },
    {
      "cell_type": "code",
      "metadata": {
        "id": "r3DxVv2mKIcR",
        "colab": {
          "base_uri": "https://localhost:8080/"
        },
        "outputId": "b3af937a-82af-4bb5-946d-12c23ca13668"
      },
      "source": [
        "for pessoas in range(2):\n",
        "    altura = float(input('Informe a altura: '))\n",
        "    nome = input('Informe o nome: ')\n",
        "    # dica de implementação, inicializar as variáveis de menor e maior\n",
        "    # valor dentro do laço de repetição, quando você souber, quantas\n",
        "    # vezes repete\n",
        "    if pessoas == 0:\n",
        "        alto = altura\n",
        "        nomea = nome\n",
        "        baixo = altura\n",
        "        nomeb = nome\n",
        "    if altura >= alto:\n",
        "        alto = altura\n",
        "        nomea = nome\n",
        "    elif altura <= baixo:\n",
        "        baixo = altura\n",
        "        nomeb = nome\n",
        "print(nomea,'é mais alto, com',alto,'metros')\n",
        "print(nomeb,'é mais baixo, com',baixo,'metros')"
      ],
      "execution_count": null,
      "outputs": [
        {
          "output_type": "stream",
          "name": "stdout",
          "text": [
            "Informe a altura: 1.78\n",
            "Informe o nome: Paulo\n",
            "Informe a altura: 2\n",
            "Informe o nome: Daniel\n",
            "Daniel é mais alto, com 2.0 metros\n",
            "Paulo é mais baixo, com 1.78 metros\n"
          ]
        }
      ]
    },
    {
      "cell_type": "markdown",
      "metadata": {
        "id": "Dk1zCWGbJezq"
      },
      "source": [
        "###3. Faça um programa que receba a altura de **várias pessoas**. Encontre e apresente a altura da pessoa mais alta e da mais baixa e seus respectivos nomes. Para encerrar a entrada de dados, zero na altura, mas esta não poderá ser considerada como resposta da altura da pessoa mais baixa.\n"
      ]
    },
    {
      "cell_type": "code",
      "source": [
        "# Digite seu código aqui\n",
        "altura = float(input('Digite a altura ou zero para sair...: '))\n",
        "nome = str(input('Digite o nome...: '))\n",
        "alto = altura\n",
        "baixo = altura\n",
        "nomea = nome\n",
        "nomeb = nome\n",
        "while altura > 0:\n",
        "    if altura >= alto:\n",
        "        alto = altura\n",
        "        nomea = nome\n",
        "    elif altura <= baixo:\n",
        "        baixo = altura\n",
        "        nomeb = nome\n",
        "    altura = float(input('Digite a altura ou zero para sair: '))\n",
        "    nome = str(input('Digite o nome: '))\n",
        "print(nomea,'é mais alto(a), com',alto,'metros')\n",
        "print(nomeb,'é mais baixo(a), com',baixo,'metros')"
      ],
      "metadata": {
        "id": "9CvqQBHR1sXf",
        "colab": {
          "base_uri": "https://localhost:8080/"
        },
        "outputId": "6f4cfde4-4ef6-43c2-8a0e-3d6762c62bed"
      },
      "execution_count": null,
      "outputs": [
        {
          "output_type": "stream",
          "name": "stdout",
          "text": [
            "Digite a altura ou zero para sair...: 2\n",
            "Digite o nome...: Paulo\n",
            "Digite a altura ou zero para sair: 1.78\n",
            "Digite o nome: Daniel\n",
            "Digite a altura ou zero para sair: 1.67\n",
            "Digite o nome: Mari\n",
            "Digite a altura ou zero para sair: 1.55\n",
            "Digite o nome: Valdirene\n",
            "Digite a altura ou zero para sair: 0\n",
            "Digite o nome: 0\n",
            "Paulo é mais alto(a), com 2.0 metros\n",
            "Valdirene é mais baixo(a), com 1.55 metros\n"
          ]
        }
      ]
    },
    {
      "cell_type": "code",
      "source": [
        "# Digite seu código aqui - forma otimizada do código\n",
        "altura = float(input('Digite a altura ou zero para sair...: '))\n",
        "alto = altura\n",
        "baixo = altura\n",
        "while altura > 0:\n",
        "    nome = input('Digite o nome...: ')\n",
        "    if altura >= alto:\n",
        "        alto = altura\n",
        "        nomea = nome\n",
        "    if altura <= baixo:\n",
        "        baixo = altura\n",
        "        nomeb = nome\n",
        "    altura = float(input('Digite a altura ou zero para sair: '))\n",
        "print(nomea,'é mais alto(a), com',alto,'metros')\n",
        "print(nomeb,'é mais baixo(a), com',baixo,'metros')"
      ],
      "metadata": {
        "colab": {
          "base_uri": "https://localhost:8080/"
        },
        "id": "UxQrbC0avg7z",
        "outputId": "256b70fc-0b3c-4e1b-945b-06a6c1f17d6d"
      },
      "execution_count": null,
      "outputs": [
        {
          "output_type": "stream",
          "name": "stdout",
          "text": [
            "Digite a altura ou zero para sair...: 1.7\n",
            "Digite o nome...: Ana\n",
            "Digite a altura ou zero para sair: 1.8\n",
            "Digite o nome...: Bia\n",
            "Digite a altura ou zero para sair: 0\n",
            "Bia é mais alto(a), com 1.8 metros\n",
            "Ana é mais baixo(a), com 1.7 metros\n"
          ]
        }
      ]
    },
    {
      "cell_type": "markdown",
      "metadata": {
        "id": "mWl0IWlJNEtA"
      },
      "source": [
        "###4. Faça um programa que receba a idade e a altura de **várias pessoas**. Calcule e exiba a média das alturas das pessoas com mais de 20 anos. Para encerrar a entrada de dados, digite uma idade negativa ou igual a zero.\n",
        "\n",
        "\n"
      ]
    },
    {
      "cell_type": "code",
      "metadata": {
        "id": "IcSBSaDV8sO_",
        "colab": {
          "base_uri": "https://localhost:8080/"
        },
        "outputId": "42679d4f-d471-4924-ee19-f07a18be844a"
      },
      "source": [
        "# Digite seu código aqui\n",
        "idade = int(input('Digite a idade ou zero para sair...: '))\n",
        "altura = float(input('Digite a altura...: '))\n",
        "soma = 0\n",
        "alturas = 0\n",
        "while idade > 0:\n",
        "    if idade > 20:\n",
        "        soma = soma + 1\n",
        "        alturas = alturas + altura\n",
        "        media = alturas / soma\n",
        "    idade = int(input('Digite a idade ou zero para sair: '))\n",
        "    altura = float(input('Digite a altura: '))\n",
        "print('A média das alturas das pessoas com mais de 20 anos é de:',media,'metros')"
      ],
      "execution_count": null,
      "outputs": [
        {
          "output_type": "stream",
          "name": "stdout",
          "text": [
            "Digite a idade ou zero para sair...: 20\n",
            "Digite a altura...: 2\n",
            "Digite a idade ou zero para sair: 21\n",
            "Digite a altura: 2\n",
            "Digite a idade ou zero para sair: 21\n",
            "Digite a altura: 3\n",
            "Digite a idade ou zero para sair: 0\n",
            "Digite a altura: 0\n",
            "A média das alturas das pessoas com mais de 20 anos é de: 2.5 metros\n"
          ]
        }
      ]
    },
    {
      "cell_type": "markdown",
      "metadata": {
        "id": "14hzaqH38V53"
      },
      "source": [
        "###5. Construir um algoritmo para calcular e apresentar a idade atual de **algumas pessoas** em relação ao ano atual, mas não é informado a quantidade de pessoas, então use como critério de parada (condição da estrutura de repetição, digitar zero no ano de nascimento para sair."
      ]
    },
    {
      "cell_type": "code",
      "metadata": {
        "id": "XxrUc9yWND8a",
        "colab": {
          "base_uri": "https://localhost:8080/"
        },
        "outputId": "2afbb276-d42f-4ddb-8a8e-334b2cebdcdb"
      },
      "source": [
        "# Digite seu código aqui\n",
        "idade = int(input('Digite o ano de seu nascimento ou zero para sair...: '))\n",
        "while idade > 0 or idade < 0:\n",
        "    if idade > 0:\n",
        "        anos = 2024 - idade\n",
        "        print('Essa pessoa tem:',anos,'anos')\n",
        "    else:\n",
        "        print('Ano incorreto, digite novamente.')\n",
        "    idade = int(input('Digite o ano de seu nascimento ou zero para sair: '))\n",
        "print('Sessão encerrada, obrigado(a).')"
      ],
      "execution_count": null,
      "outputs": [
        {
          "output_type": "stream",
          "name": "stdout",
          "text": [
            "Digite o ano de seu nascimento ou zero para sair...: -15\n",
            "Ano incorreto, digite novamente.\n",
            "Digite o ano de seu nascimento ou zero para sair: 1992\n",
            "Essa pessoa tem: 32 anos\n",
            "Digite o ano de seu nascimento ou zero para sair: 1900\n",
            "Essa pessoa tem: 124 anos\n",
            "Digite o ano de seu nascimento ou zero para sair: 0\n",
            "Sessão encerrada, obrigado(a).\n"
          ]
        }
      ]
    },
    {
      "cell_type": "markdown",
      "metadata": {
        "id": "inPGbmBaMe3R"
      },
      "source": [
        "###6. Faça um programa que receba **vários valores inteiros**, calcule e exiba o maior e o menor valor do conjunto.\n",
        "\n",
        "*   Para encerrar a entrada de dados, deve ser digitado o valor zero;\n",
        "*   Para valores negativos, deve ser enviada uma mensagem;\n",
        "*   Esses valores (zero e negativos) não entrarão na lógica de encontrar o maior e o menor valor.\n",
        "\n"
      ]
    },
    {
      "cell_type": "code",
      "metadata": {
        "id": "Q8ZKZyGLNxFf",
        "colab": {
          "base_uri": "https://localhost:8080/"
        },
        "outputId": "54b5613e-cc5a-4182-9f05-fc9f203da111"
      },
      "source": [
        "# Digite seu código aqui\n",
        "valor = int(input('Informe um valor...: '))\n",
        "maior = valor\n",
        "menor = valor\n",
        "while valor != 0: # diferente\n",
        "    if valor > 0:\n",
        "        if valor > maior:\n",
        "            maior = valor\n",
        "        if valor < menor:\n",
        "            menor = valor\n",
        "    else:\n",
        "        print('Valor negativo')\n",
        "    valor = int(input('Informe um valor: '))\n",
        "print('Maior valor: ', maior)\n",
        "print('Menor valor: ', menor)"
      ],
      "execution_count": null,
      "outputs": [
        {
          "output_type": "stream",
          "name": "stdout",
          "text": [
            "Informe um valor...: 20\n",
            "Informe um valor: 30\n",
            "Informe um valor: 25\n",
            "Informe um valor: -9\n",
            "Valor negativo\n",
            "Informe um valor: -10\n",
            "Valor negativo\n",
            "Informe um valor: 27\n",
            "Informe um valor: 0\n",
            "Maior valor:  30\n",
            "Menor valor:  20\n"
          ]
        }
      ]
    },
    {
      "cell_type": "markdown",
      "metadata": {
        "id": "ZG-AZwwLN4Vf"
      },
      "source": [
        "###7. No final do ano **muitas pessoas** compram presentes. Para identificar o perfil dos compradores numa loja de roupas, faça um programa que registre os dados de algumas pessoas, pergunte “Deseja cadastrar outro (‘**s**’/’n’)?”. Enquanto a resposta for **s** repete, quando for n encerra e repetição e apresente os seguintes resultados:\n",
        "a) Quantidade de pessoas de gênero **f** - feminino e **m** - mesculino;\n",
        "\n",
        "b) Quantidade de pessoas de gênero  **f**eminino abaixo e acima de 18 anos\n",
        "\n",
        "c) Quantidade de pessoas de gênero  **m**asculino abaixo e acima de 18 anos\n",
        "\n",
        "Observaçãos: **use as letras f/m** na condição da estrutura de decisão"
      ]
    },
    {
      "cell_type": "code",
      "metadata": {
        "id": "t4jNff-_N9xR",
        "colab": {
          "base_uri": "https://localhost:8080/"
        },
        "outputId": "13d64724-f45f-419a-c510-38e510e2c40a"
      },
      "source": [
        "# Digite seu código aqui\n",
        "# item a) criar 2 contadores( f ou m )\n",
        "# item b) criar 2 contadores( f )\n",
        "# item b) criar 2 contadores( m )\n",
        "resposta = str(input('Deseja cadastrar outro(a) (‘s’/‘n’)?'))\n",
        "cont1 = 0\n",
        "cont2 = 0\n",
        "cont4 = 0\n",
        "cont5 = 0\n",
        "cont6 = 0\n",
        "cont8 = 0\n",
        "while resposta == 's':\n",
        "    idade = int(input('Informe a idade do cliente: '))\n",
        "    sexo = str(input('Informe se a pessoa é (‘f’ ou ‘m’): '))\n",
        "    if sexo == 'f' and idade < 18:\n",
        "        sexo = 1\n",
        "        cont1 = sexo + cont1\n",
        "        idade = 1\n",
        "        cont2 = idade + cont2\n",
        "    elif sexo == 'f' and idade >= 18:\n",
        "        sexo = 1\n",
        "        cont1 = sexo + cont1\n",
        "        idade = 1\n",
        "        cont4 = idade + cont4\n",
        "    elif sexo == 'm' and idade < 18:\n",
        "        sexo = 1\n",
        "        cont5 = sexo + cont5\n",
        "        idade = 1\n",
        "        cont6 = idade + cont6\n",
        "    elif sexo == 'm' and idade >= 18:\n",
        "        sexo = 1\n",
        "        cont5 = sexo + cont5\n",
        "        idade = 1\n",
        "        cont8 = idade + cont8\n",
        "    resposta = str(input('Deseja cadastrar outro(a) (‘s’/‘n’)?'))\n",
        "print('Existem',cont1,'pessoa(s) do gênero feminino')\n",
        "print('Existem',cont5,'pessoa(s) do gênero masculino')\n",
        "print('Existem',cont2,'pessoa(s) do gênero feminino abaixo de 18 anos e',cont4,'pessoa(s) do gênero feminino acima de 18 anos')\n",
        "print('Existem',cont6,'pessoa(s) do gênero masculino abaixo de 18 anos e',cont8,'pessoa(s) do gênero masculino acima de 18 anos')"
      ],
      "execution_count": null,
      "outputs": [
        {
          "output_type": "stream",
          "name": "stdout",
          "text": [
            "Deseja cadastrar outro(a) (‘s’/‘n’)?s\n",
            "Informe a idade do cliente: 15\n",
            "Informe se a pessoa é (‘f’ ou ‘m’): m\n",
            "Deseja cadastrar outro(a) (‘s’/‘n’)?s\n",
            "Informe a idade do cliente: 32\n",
            "Informe se a pessoa é (‘f’ ou ‘m’): m\n",
            "Deseja cadastrar outro(a) (‘s’/‘n’)?s\n",
            "Informe a idade do cliente: 12\n",
            "Informe se a pessoa é (‘f’ ou ‘m’): f\n",
            "Deseja cadastrar outro(a) (‘s’/‘n’)?s\n",
            "Informe a idade do cliente: 27\n",
            "Informe se a pessoa é (‘f’ ou ‘m’): f\n",
            "Deseja cadastrar outro(a) (‘s’/‘n’)?n\n",
            "Existem 2 pessoa(s) do gênero feminino\n",
            "Existem 2 pessoa(s) do gênero masculino\n",
            "Existem 1 pessoa(s) do gênero feminino abaixo de 18 anos e 1 pessoa(s) do gênero feminino acima de 18 anos\n",
            "Existem 1 pessoa(s) do gênero masculino abaixo de 18 anos e 1 pessoa(s) do gênero masculino acima de 18 anos\n"
          ]
        }
      ]
    }
  ]
}