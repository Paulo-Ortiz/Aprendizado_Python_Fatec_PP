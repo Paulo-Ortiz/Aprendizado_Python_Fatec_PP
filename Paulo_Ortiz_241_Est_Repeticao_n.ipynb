{
  "cells": [
    {
      "cell_type": "markdown",
      "metadata": {
        "id": "view-in-github",
        "colab_type": "text"
      },
      "source": [
        "<a href=\"https://colab.research.google.com/github/Paulo-Ortiz/Aprendizado_Python_Fatec_PP/blob/main/Paulo_Ortiz_241_Est_Repeticao_n.ipynb\" target=\"_parent\"><img src=\"https://colab.research.google.com/assets/colab-badge.svg\" alt=\"Open In Colab\"/></a>"
      ]
    },
    {
      "cell_type": "markdown",
      "metadata": {
        "id": "TWJjhvldsGq1"
      },
      "source": [
        "#ESTRUTURA DE REPETIÇÃO\n",
        "##Todos estes algoritmos/programas podem ser implementados com o comando **while** ou **for**. Para estudar, como sugestão, implemente cada exercício com as **duas** estruturas de repetição."
      ]
    },
    {
      "cell_type": "code",
      "execution_count": null,
      "metadata": {
        "colab": {
          "base_uri": "https://localhost:8080/"
        },
        "id": "n9FlRcAfKnyj",
        "outputId": "fe283ab1-32f4-4ec3-8cb9-52655f45190d"
      },
      "outputs": [
        {
          "name": "stdout",
          "output_type": "stream",
          "text": [
            "1\n",
            "2\n",
            "3\n",
            "4\n",
            "5\n"
          ]
        }
      ],
      "source": [
        "q_alunos = 1 # 1º passo inicializar\n",
        "while q_alunos <= 5: # condição de parada\n",
        "    print(q_alunos)\n",
        "    # incremento deve ser colocado na última linha\n",
        "    q_alunos = q_alunos + 1"
      ]
    },
    {
      "cell_type": "markdown",
      "metadata": {
        "id": "ra2ortoj88ct"
      },
      "source": [
        "###1. Faça um algoritmo  que mostre 10 vezes a frase “Bem vindo a Fatec!”. Pode implementar com o comando while ou for."
      ]
    },
    {
      "cell_type": "code",
      "execution_count": null,
      "metadata": {
        "colab": {
          "base_uri": "https://localhost:8080/"
        },
        "id": "w87cAtUi9P5j",
        "outputId": "06c23180-41cd-421d-ba2f-ff641348f8e2"
      },
      "outputs": [
        {
          "name": "stdout",
          "output_type": "stream",
          "text": [
            "Exemplo do while.............\n",
            "\n",
            "\n",
            "1 Bem vindo a Fatec!\n",
            "2 Bem vindo a Fatec!\n",
            "3 Bem vindo a Fatec!\n",
            "4 Bem vindo a Fatec!\n",
            "5 Bem vindo a Fatec!\n",
            "\n",
            "\n",
            "Valor do contador:  6\n"
          ]
        }
      ],
      "source": [
        "print('Exemplo do while.............\\n\\n')\n",
        "# 1º passo - inicialização\n",
        "contador = 1\n",
        "# 2º passo - condição/critério de parada\n",
        "while contador <= 5:\n",
        "    print(contador, 'Bem vindo a Fatec!')\n",
        "    contador = contador + 1 # 3º passo - incremento\n",
        "print('\\n\\nValor do contador: ', contador)"
      ]
    },
    {
      "cell_type": "code",
      "execution_count": null,
      "metadata": {
        "colab": {
          "base_uri": "https://localhost:8080/"
        },
        "id": "kXB8lVsveG8q",
        "outputId": "1fbe85bf-eb85-4818-f18f-1649419c2913"
      },
      "outputs": [
        {
          "name": "stdout",
          "output_type": "stream",
          "text": [
            "Exemplo do for.............\n",
            "\n",
            "\n",
            "0 Bem vindo a Fatec!\n",
            "1 Bem vindo a Fatec!\n",
            "2 Bem vindo a Fatec!\n",
            "3 Bem vindo a Fatec!\n",
            "4 Bem vindo a Fatec!\n",
            "\n",
            "\n",
            "Valor do contador:  4\n"
          ]
        }
      ],
      "source": [
        "print('Exemplo do for.............\\n\\n')\n",
        "for contador in range(5): #range <\n",
        "    print(contador,'Bem vindo a Fatec!')\n",
        "print('\\n\\nValor do contador: ', contador)"
      ]
    },
    {
      "cell_type": "markdown",
      "metadata": {
        "id": "Tz26_Q_09QzZ"
      },
      "source": [
        "###2. Faça um algoritmo que mostre o cumprimento ‘Olá ‘ para o nome de alguém (4 pessoas). Exemplo ‘Olá Mariana’. Pode implementar com o comando while ou for.\n"
      ]
    },
    {
      "cell_type": "code",
      "execution_count": null,
      "metadata": {
        "colab": {
          "base_uri": "https://localhost:8080/"
        },
        "id": "EK8e5Oxn9eFX",
        "outputId": "56429cb4-afe2-4d97-a828-e653becac58a"
      },
      "outputs": [
        {
          "name": "stdout",
          "output_type": "stream",
          "text": [
            "Digite o nome: Paulo\n",
            "Olá Paulo\n",
            "Digite o nome: Anderson\n",
            "Olá Anderson\n",
            "Digite o nome: Yasmin\n",
            "Olá Yasmin\n",
            "Digite o nome: Joana\n",
            "Olá Joana\n"
          ]
        }
      ],
      "source": [
        "# implemente com a estrutura de repetição while\n",
        "\n",
        "q_pessoas = 1 #inicialização\n",
        "while q_pessoas <= 4: # condição de parada\n",
        "    nome = input('Digite o nome: ')\n",
        "    print('Olá', nome)\n",
        "    q_pessoas = q_pessoas + 1 # incremento\n",
        "\n"
      ]
    },
    {
      "cell_type": "code",
      "execution_count": null,
      "metadata": {
        "colab": {
          "base_uri": "https://localhost:8080/"
        },
        "id": "a9JZJoUzhAPZ",
        "outputId": "ffc06f92-0ebd-4623-88a3-c2fcf0441dd8"
      },
      "outputs": [
        {
          "name": "stdout",
          "output_type": "stream",
          "text": [
            "Digite o nome: Paulo\n",
            "Olá Paulo\n",
            "Digite o nome: Anderson\n",
            "Olá Anderson\n",
            "Digite o nome: Yasmin\n",
            "Olá Yasmin\n",
            "Digite o nome: Joana\n",
            "Olá Joana\n"
          ]
        }
      ],
      "source": [
        "# implemente com a estrutura de repetição for\n",
        "for q_pessoas in range(4): #n-1 <\n",
        "    nome = input('Digite o nome: ')\n",
        "    print('Olá', nome)"
      ]
    },
    {
      "cell_type": "code",
      "execution_count": null,
      "metadata": {
        "id": "jC6BH_BMgAuJ"
      },
      "outputs": [],
      "source": [
        "#>>>>>>>>>>>> forma ERRADA\n",
        "nome1 = input('Digite o nome ')\n",
        "print('Olá',nome1,' tudo bem?')\n",
        "nome2 = input('Digite o nome ')\n",
        "print('Olá',nome2,' tudo bem?')\n",
        "nome3 = input('Digite o nome ')\n",
        "print('Olá',nome3,' tudo bem?')\n",
        "nome4 = input('Digite o nome ')\n",
        "print('Olá',nome4,' tudo bem?')"
      ]
    },
    {
      "cell_type": "markdown",
      "metadata": {
        "id": "-tIGmOam9eaB"
      },
      "source": [
        "###3. Faça um algoritmo que mostre os valores de 0 a 15. Pode implementar com o comando while ou for.\n"
      ]
    },
    {
      "cell_type": "code",
      "execution_count": null,
      "metadata": {
        "colab": {
          "base_uri": "https://localhost:8080/"
        },
        "id": "PVFy9VEE9jy9",
        "outputId": "fdfa56fe-9af6-4c01-c92d-cbd9a73a3c9a"
      },
      "outputs": [
        {
          "name": "stdout",
          "output_type": "stream",
          "text": [
            "0\n",
            "1\n",
            "2\n",
            "3\n",
            "4\n",
            "5\n",
            "6\n",
            "7\n",
            "8\n",
            "9\n",
            "10\n",
            "11\n",
            "12\n",
            "13\n",
            "14\n",
            "15\n"
          ]
        }
      ],
      "source": [
        "# Digite seu código aqui\n",
        "numero = 0\n",
        "while numero <= 15:\n",
        "    print(numero)\n",
        "    numero = numero + 1"
      ]
    },
    {
      "cell_type": "markdown",
      "metadata": {
        "id": "n2GgpaGP9j-A"
      },
      "source": [
        "###4. Faça um algoritmo que mostre os valores de 3 a 20. Pode implementar com o comando while ou for.\n"
      ]
    },
    {
      "cell_type": "code",
      "execution_count": null,
      "metadata": {
        "colab": {
          "base_uri": "https://localhost:8080/"
        },
        "id": "lqitidIO9rOm",
        "outputId": "6da7bc95-432d-42ee-e0a2-9f24bff2d7f5"
      },
      "outputs": [
        {
          "name": "stdout",
          "output_type": "stream",
          "text": [
            "3\n",
            "4\n",
            "5\n",
            "6\n",
            "7\n",
            "8\n",
            "9\n",
            "10\n",
            "11\n",
            "12\n",
            "13\n",
            "14\n",
            "15\n",
            "16\n",
            "17\n",
            "18\n",
            "19\n",
            "20\n"
          ]
        }
      ],
      "source": [
        "# Digite seu código aqui\n",
        "for numero in range(3,21):\n",
        "    print(numero)"
      ]
    },
    {
      "cell_type": "markdown",
      "metadata": {
        "id": "C8RRCFc_9sTL"
      },
      "source": [
        "###5. Faça um algoritmo que calcule e mostre a tabuada do 5. Pode implementar com o comando while ou for.\n"
      ]
    },
    {
      "cell_type": "code",
      "source": [
        "# implementação com for\n",
        "for tabuada in range (11):\n",
        "    print('5 x', tabuada, '=', 5 * tabuada)"
      ],
      "metadata": {
        "colab": {
          "base_uri": "https://localhost:8080/"
        },
        "id": "2Za2F63Sdkdu",
        "outputId": "3a2a26ef-db9b-4d8e-ab46-3d9eaed89758"
      },
      "execution_count": null,
      "outputs": [
        {
          "output_type": "stream",
          "name": "stdout",
          "text": [
            "5 x 0 = 0\n",
            "5 x 1 = 5\n",
            "5 x 2 = 10\n",
            "5 x 3 = 15\n",
            "5 x 4 = 20\n",
            "5 x 5 = 25\n",
            "5 x 6 = 30\n",
            "5 x 7 = 35\n",
            "5 x 8 = 40\n",
            "5 x 9 = 45\n",
            "5 x 10 = 50\n"
          ]
        }
      ]
    },
    {
      "cell_type": "code",
      "source": [
        "# implementação com while\n",
        "tabuada = 1\n",
        "while tabuada <= 10:\n",
        "    print('5 x', tabuada, '=', 5 * tabuada)\n",
        "    tabuada = tabuada + 1\n"
      ],
      "metadata": {
        "colab": {
          "base_uri": "https://localhost:8080/"
        },
        "id": "EtP2FOiebaVQ",
        "outputId": "5443c1a7-14f1-4dc7-e9df-24cec2469fbc"
      },
      "execution_count": null,
      "outputs": [
        {
          "output_type": "stream",
          "name": "stdout",
          "text": [
            "5 x 1 = 5\n",
            "5 x 2 = 10\n",
            "5 x 3 = 15\n",
            "5 x 4 = 20\n",
            "5 x 5 = 25\n",
            "5 x 6 = 30\n",
            "5 x 7 = 35\n",
            "5 x 8 = 40\n",
            "5 x 9 = 45\n",
            "5 x 10 = 50\n"
          ]
        }
      ]
    },
    {
      "cell_type": "code",
      "execution_count": null,
      "metadata": {
        "colab": {
          "base_uri": "https://localhost:8080/"
        },
        "id": "4QBLg1ka91dV",
        "outputId": "9321dbd2-a4ce-42d0-fe8f-da3c92edabad"
      },
      "outputs": [
        {
          "name": "stdout",
          "output_type": "stream",
          "text": [
            "Tabuada do 5 . 0 = 0\n",
            "Tabuada do 5 . 1 = 5\n",
            "Tabuada do 5 . 2 = 10\n",
            "Tabuada do 5 . 3 = 15\n",
            "Tabuada do 5 . 4 = 20\n",
            "Tabuada do 5 . 5 = 25\n",
            "Tabuada do 5 . 6 = 30\n",
            "Tabuada do 5 . 7 = 35\n",
            "Tabuada do 5 . 8 = 40\n",
            "Tabuada do 5 . 9 = 45\n",
            "Tabuada do 5 . 10 = 50\n"
          ]
        }
      ],
      "source": [
        "# Digite seu código aqui\n",
        "tabuada = 0\n",
        "while tabuada <= 10:\n",
        "    tabuada5 = tabuada * 5\n",
        "    print('Tabuada do 5 .', tabuada, '=', tabuada5)\n",
        "    tabuada = tabuada + 1"
      ]
    },
    {
      "cell_type": "markdown",
      "metadata": {
        "id": "nJv5jBoq91tW"
      },
      "source": [
        "###6. Faça um algoritmo que receba a idade de 10 pessoas, calcule e exiba a quantidade de pessoas maiores de idade, sendo que a maioridade é obtida após completar 18 anos. Pode implementar com o comando while ou for.\n"
      ]
    },
    {
      "cell_type": "code",
      "source": [
        "# Digite seu código aqui\n",
        "idade = 1\n",
        "soma = 0\n",
        "soma2 = 0\n",
        "while idade <= 10:\n",
        "    idades = int(input('Digite a idade: '))\n",
        "    if idades >= 18:\n",
        "        soma = soma + 1\n",
        "    elif idades < 18:\n",
        "        soma2 = soma2 + 1\n",
        "    idade = idade + 1\n",
        "if soma >= 1 or soma2 >= 1:\n",
        "    print('Maiores de 18 anos:',soma, 'pessoa(as)')\n",
        "    print('Menores de 18 anos:',soma2, 'pessoa(as)')\n",
        "\n"
      ],
      "metadata": {
        "colab": {
          "base_uri": "https://localhost:8080/"
        },
        "id": "Az1IfIz0a6t8",
        "outputId": "f83bff49-4ed8-4972-bfe5-25c6e2ab6dd0"
      },
      "execution_count": null,
      "outputs": [
        {
          "output_type": "stream",
          "name": "stdout",
          "text": [
            "Digite a idade: 1\n",
            "Digite a idade: 90\n",
            "Digite a idade: 90\n",
            "Digite a idade: 90\n",
            "Digite a idade: 90\n",
            "Digite a idade: 90\n",
            "Digite a idade: 90\n",
            "Digite a idade: 90\n",
            "Digite a idade: 90\n",
            "Digite a idade: 90\n",
            "Maiores de 18 anos: 9 pessoa(as)\n",
            "Menores de 18 anos: 1 pessoa(as)\n"
          ]
        }
      ]
    },
    {
      "cell_type": "code",
      "execution_count": null,
      "metadata": {
        "colab": {
          "base_uri": "https://localhost:8080/"
        },
        "id": "eQSw-V6Mjd_0",
        "outputId": "200b817d-0360-49fd-e70c-df9002899269"
      },
      "outputs": [
        {
          "output_type": "stream",
          "name": "stdout",
          "text": [
            "Digite a idade: 33\n",
            "Digite a idade: 33\n",
            "Digite a idade: 18\n",
            "Digite a idade: 18\n",
            "Digite a idade: 18\n",
            "Digite a idade: 18\n",
            "Digite a idade: 18\n",
            "Digite a idade: 18\n",
            "Digite a idade: 18\n",
            "Digite a idade: 18\n",
            "Maiores de 18 anos: 10 pessoa(as)\n",
            "Menores de 18 anos: 0 pessoa(as)\n"
          ]
        }
      ],
      "source": [
        "# Digite seu código aqui com for\n",
        "soma = 0\n",
        "soma2 = 0\n",
        "for idade in range(10):\n",
        "    idades = int(input('Digite a idade: '))\n",
        "    if idades >= 18:\n",
        "        soma = soma + 1\n",
        "    elif idades < 18:\n",
        "        soma2 = soma2 + 1\n",
        "    idade = idade + 1\n",
        "if soma >= 1 or soma2 >= 1:\n",
        "    print('Maiores de 18 anos:',soma, 'pessoa(as)')\n",
        "    print('Menores de 18 anos:',soma2, 'pessoa(as)')"
      ]
    },
    {
      "cell_type": "code",
      "source": [
        "# Digite seu código aqui do while\n",
        "qpessoas = 1\n",
        "maior_idade = 0\n",
        "while qpessoas <= 10:\n",
        "    idade = int(input('Digite a idade: '))\n",
        "    if idade >= 18:\n",
        "        maior_idade = maior_idade + 1\n",
        "    qpessoas = qpessoas + 1\n",
        "print('Foram encontrada(as)', maior_idade, 'pessoas.')\n"
      ],
      "metadata": {
        "colab": {
          "base_uri": "https://localhost:8080/"
        },
        "id": "aMiRVsI2er12",
        "outputId": "e737c759-44d9-441f-88a5-5675dd41bfed"
      },
      "execution_count": null,
      "outputs": [
        {
          "output_type": "stream",
          "name": "stdout",
          "text": [
            "Digite a idade: 20\n",
            "Digite a idade: 20\n",
            "Digite a idade: 20\n",
            "Digite a idade: 20\n",
            "Digite a idade: 20\n",
            "Digite a idade: 20\n",
            "Digite a idade: 20\n",
            "Digite a idade: 20\n",
            "Digite a idade: 20\n",
            "Digite a idade: 20\n",
            "Foram encontrada(as) 10 pessoas.\n"
          ]
        }
      ]
    },
    {
      "cell_type": "code",
      "source": [
        "# Digite seu código aqui com for\n",
        "maior_idade = 0\n",
        "for qpessoas in range(10):\n",
        "    idade = int(input('Digite a idade: '))\n",
        "    if idade >= 18:\n",
        "        maior_idade = maior_idade + 1\n",
        "print('Foram encontrada(as)', maior_idade, 'pessoas.')"
      ],
      "metadata": {
        "colab": {
          "base_uri": "https://localhost:8080/"
        },
        "id": "PFUQRfkShg1W",
        "outputId": "ed9fa2ea-b1dd-4adc-fa79-73fb228c1dd5"
      },
      "execution_count": null,
      "outputs": [
        {
          "output_type": "stream",
          "name": "stdout",
          "text": [
            "Digite a idade: 20\n",
            "Digite a idade: 20\n",
            "Digite a idade: 20\n",
            "Digite a idade: 20\n",
            "Digite a idade: 20\n",
            "Digite a idade: 20\n",
            "Digite a idade: 20\n",
            "Digite a idade: 20\n",
            "Digite a idade: 20\n",
            "Digite a idade: 20\n",
            "Foram encontrada(as) 10 pessoas.\n"
          ]
        }
      ]
    },
    {
      "cell_type": "markdown",
      "metadata": {
        "id": "g5RA7KN896ep"
      },
      "source": [
        "###7. Escreva um algoritmo que receba 23 números, calcule e exiba a quantidade de números pares e impares. Pode implementar com o comando while ou for.\n"
      ]
    },
    {
      "cell_type": "code",
      "execution_count": null,
      "metadata": {
        "id": "JBnJiugI9_Q1",
        "colab": {
          "base_uri": "https://localhost:8080/"
        },
        "outputId": "0aa90da6-808a-41e0-f155-627d4bdfb5ec"
      },
      "outputs": [
        {
          "output_type": "stream",
          "name": "stdout",
          "text": [
            "Informe o números: 1\n",
            "Informe o números: 2\n",
            "Informe o números: 3\n",
            "Informe o números: 4\n",
            "Informe o números: 5\n",
            "Informe o números: 6\n",
            "Existem 3 números pares\n",
            "Existem 3 números impares\n"
          ]
        }
      ],
      "source": [
        "# Digite seu código aqui com while\n",
        "numeros = 1\n",
        "pares = 0\n",
        "impares = 0\n",
        "while numeros <= 23:\n",
        "    numero = int(input('Informe o números: '))\n",
        "    if numero %2 ==0:\n",
        "        pares = pares + 1\n",
        "    else:\n",
        "        impares = impares + 1\n",
        "    numeros = numeros + 1\n",
        "print('Existem',pares, 'números pares')\n",
        "print('Existem',impares, 'números impares')"
      ]
    },
    {
      "cell_type": "code",
      "source": [
        "# Digite seu código aqui com for\n",
        "pares = 0\n",
        "impares = 0\n",
        "for numeros in range (23):\n",
        "    numero = int(input('Informe o números: '))\n",
        "    if numero %2 ==0:\n",
        "        pares = pares + 1\n",
        "    else:\n",
        "        impares = impares + 1\n",
        "print('Existem',pares, 'números pares')\n",
        "print('Existem',impares, 'números impares')"
      ],
      "metadata": {
        "colab": {
          "base_uri": "https://localhost:8080/"
        },
        "id": "p7Ef5fx6kaRM",
        "outputId": "71ac4324-f0c3-4b86-e368-1f187d75e3a2"
      },
      "execution_count": null,
      "outputs": [
        {
          "output_type": "stream",
          "name": "stdout",
          "text": [
            "Informe o números: 1\n",
            "Informe o números: 2\n",
            "Informe o números: 3\n",
            "Informe o números: 4\n",
            "Informe o números: 5\n",
            "Informe o números: 6\n",
            "Existem 3 números pares\n",
            "Existem 3 números impares\n"
          ]
        }
      ]
    },
    {
      "cell_type": "markdown",
      "metadata": {
        "id": "DVuRwa6J9_in"
      },
      "source": [
        "###8. Faça um algoritmo que calcule e exiba o salário reajustado de dez funcionários de acordo com a seguinte regra (pode implementar com o comando while ou for):\n",
        "## Salário até 300, reajuste de 50%;\n",
        "\n",
        "##Salários maiores que 300, reajuste de 30%.\n",
        "\n",
        "\n"
      ]
    },
    {
      "cell_type": "code",
      "execution_count": null,
      "metadata": {
        "id": "GnYXpwwH-Drd",
        "colab": {
          "base_uri": "https://localhost:8080/"
        },
        "outputId": "418367e8-bcb5-4d80-f4fd-2d576791ad99"
      },
      "outputs": [
        {
          "output_type": "stream",
          "name": "stdout",
          "text": [
            "Informe o nome do funcionário: Paulo\n",
            "Informe o salário: 2000\n",
            "O novo salário reajustado de Paulo é R$ 2600.0\n",
            "Informe o nome do funcionário: Mari\n",
            "Informe o salário: 300\n",
            "O novo salário reajustado de Mari é R$ 450.0\n",
            "Informe o nome do funcionário: Val\n",
            "Informe o salário: 1500\n",
            "O novo salário reajustado de Val é R$ 1950.0\n"
          ]
        }
      ],
      "source": [
        "# Digite seu código com while\n",
        "contador = 1\n",
        "while contador <= 10:\n",
        "    funcionario = str(input('Informe o nome do funcionário: '))\n",
        "    salario = float(input('Informe o salário: '))\n",
        "    if salario <= 300:\n",
        "        reajuste = salario + (salario * 0.5 )\n",
        "        nome = funcionario\n",
        "        print('O novo salário reajustado de',nome, 'é R$', reajuste)\n",
        "    else:\n",
        "        reajuste = salario + (salario * 0.3 )\n",
        "        nome = funcionario\n",
        "        print('O novo salário reajustado de',nome, 'é R$', reajuste)\n",
        "    contador = contador + 1"
      ]
    },
    {
      "cell_type": "code",
      "source": [
        "# Digite seu código com for\n",
        "for contador in range(10):\n",
        "    funcionario = str(input('Informe o nome do funcionário: '))\n",
        "    salario = float(input('Informe o salário: '))\n",
        "    if salario <= 300:\n",
        "        reajuste = salario + (salario * 0.5 )\n",
        "        nome = funcionario\n",
        "        print('O novo salário reajustado de',nome, 'é R$', reajuste)\n",
        "    else:\n",
        "        reajuste = salario + (salario * 0.3 )\n",
        "        nome = funcionario\n",
        "        print('O novo salário reajustado de',nome, 'é R$', reajuste)"
      ],
      "metadata": {
        "colab": {
          "base_uri": "https://localhost:8080/"
        },
        "id": "EUCs4IXnuN1i",
        "outputId": "e9ae2c3b-8b6e-4886-8aff-10d859013b45"
      },
      "execution_count": null,
      "outputs": [
        {
          "output_type": "stream",
          "name": "stdout",
          "text": [
            "Informe o nome do funcionário: Paulo\n",
            "Informe o salário: 2000\n",
            "O novo salário reajustado de Paulo é R$ 2600.0\n",
            "Informe o nome do funcionário: Mari\n",
            "Informe o salário: 200\n",
            "O novo salário reajustado de Mari é R$ 300.0\n",
            "Informe o nome do funcionário: Val\n",
            "Informe o salário: 1000\n",
            "O novo salário reajustado de Val é R$ 1300.0\n"
          ]
        }
      ]
    },
    {
      "cell_type": "markdown",
      "metadata": {
        "id": "WWEunLW8-D2h"
      },
      "source": [
        "\n",
        "###9. Faça um algoritmo que conheça 4 preços de produtos, some-os e mostre o resultado. Pode implementar com o comando while ou for.\n"
      ]
    },
    {
      "cell_type": "code",
      "execution_count": null,
      "metadata": {
        "id": "N9cUIxJk-HLg",
        "colab": {
          "base_uri": "https://localhost:8080/"
        },
        "outputId": "72693508-1ed4-44e3-cfb8-6895970fd4d3"
      },
      "outputs": [
        {
          "output_type": "stream",
          "name": "stdout",
          "text": [
            "Digite o preço: 1\n",
            "Digite o preço: 2\n",
            "Digite o preço: 3\n",
            "Digite o preço: 4\n",
            "Total R$ 10.0\n"
          ]
        }
      ],
      "source": [
        "# Digite seu código aqui com while\n",
        "qprodutos = 0\n",
        "soma_precos = 0\n",
        "while qprodutos < 4:\n",
        "    preco = float(input('Digite o preço: '))\n",
        "    soma_precos = soma_precos + preco\n",
        "    qprodutos = qprodutos + 1\n",
        "print('Total R$', soma_precos)"
      ]
    },
    {
      "cell_type": "code",
      "source": [
        "# Digite seu código aqui com for\n",
        "soma_precos = 0\n",
        "for qprodutos in range(4):\n",
        "    preco = float(input('Digite o preço: '))\n",
        "    soma_precos = soma_precos + preco\n",
        "print('Total R$', soma_precos)"
      ],
      "metadata": {
        "colab": {
          "base_uri": "https://localhost:8080/"
        },
        "id": "svrZ-15ZljF6",
        "outputId": "1a58ba98-18af-4517-d846-c28b382e871a"
      },
      "execution_count": null,
      "outputs": [
        {
          "output_type": "stream",
          "name": "stdout",
          "text": [
            "Digite o preço: 1\n",
            "Digite o preço: 2\n",
            "Digite o preço: 3\n",
            "Digite o preço: 4\n",
            "Total R$ 10.0\n"
          ]
        }
      ]
    },
    {
      "cell_type": "markdown",
      "metadata": {
        "id": "cTQOtgv8-TqZ"
      },
      "source": [
        "###10. Faça um algoritmo que conheça 4 preços de produtos, calcule e mostre a média aritmética dos preços. Pode implementar com o comando while ou for.\n"
      ]
    },
    {
      "cell_type": "code",
      "execution_count": null,
      "metadata": {
        "id": "kIGzHgii-Teb",
        "colab": {
          "base_uri": "https://localhost:8080/"
        },
        "outputId": "6797389a-cc93-4388-f025-e783a228bff0"
      },
      "outputs": [
        {
          "output_type": "stream",
          "name": "stdout",
          "text": [
            "Digite o preço: 1\n",
            "Digite o preço: 2\n",
            "Digite o preço: 3\n",
            "Digite o preço: 4\n",
            "A média dos preços é R$ 2.5\n"
          ]
        }
      ],
      "source": [
        "# Digite seu código aqui com while\n",
        "qprodutos = 0\n",
        "soma_precos = 0\n",
        "divisao = 0\n",
        "while qprodutos < 4:\n",
        "    preco = float(input('Digite o preço: '))\n",
        "    soma_precos = soma_precos + preco\n",
        "    qprodutos = qprodutos + 1\n",
        "divisao = soma_precos / 4\n",
        "print('A média dos preços é R$', divisao)"
      ]
    },
    {
      "cell_type": "code",
      "source": [
        "# Digite seu código aqui com for\n",
        "soma_precos = 0\n",
        "divisao = 0\n",
        "for qprodutos in range(4):\n",
        "    preco = float(input('Digite o preço: '))\n",
        "    soma_precos = soma_precos + preco\n",
        "divisao = soma_precos / 4\n",
        "print('A média dos preços é R$', divisao)"
      ],
      "metadata": {
        "colab": {
          "base_uri": "https://localhost:8080/"
        },
        "id": "7W9D1epHqF_P",
        "outputId": "ac4948b0-f8fb-4528-9254-aca519e576bb"
      },
      "execution_count": null,
      "outputs": [
        {
          "output_type": "stream",
          "name": "stdout",
          "text": [
            "Digite o preço: 1\n",
            "Digite o preço: 2\n",
            "Digite o preço: 3\n",
            "Digite o preço: 4\n",
            "A média dos preços é R$ 2.5\n"
          ]
        }
      ]
    },
    {
      "cell_type": "markdown",
      "metadata": {
        "id": "rf_lUW8J-HbR"
      },
      "source": [
        "###11. Faça um algoritmo que calcule e informe a média de idades de 5 alunos. Pode implementar com o comando while ou for."
      ]
    },
    {
      "cell_type": "code",
      "execution_count": null,
      "metadata": {
        "id": "1jGiDIq--XfE",
        "colab": {
          "base_uri": "https://localhost:8080/"
        },
        "outputId": "7ed8d068-d294-4d74-964c-a85b8c444650"
      },
      "outputs": [
        {
          "output_type": "stream",
          "name": "stdout",
          "text": [
            "Informe a idade: 10\n",
            "Informe a idade: 20\n",
            "Informe a idade: 30\n",
            "Informe a idade: 40\n",
            "Informe a idade: 50\n",
            "A média de idade dos 5 alunos é de 30.0 ano(s)\n"
          ]
        }
      ],
      "source": [
        "# Digite seu código aqui\n",
        "contador = 1\n",
        "soma = 0\n",
        "while contador <= 5:\n",
        "    idades = int(input('Informe a idade: '))\n",
        "    soma = soma + idades\n",
        "    contador = contador + 1\n",
        "media_idades = soma / 5\n",
        "print('A média de idade dos 5 alunos é de', media_idades, 'ano(s)')\n"
      ]
    },
    {
      "cell_type": "markdown",
      "metadata": {
        "id": "q2aJm6ktRIKX"
      },
      "source": [
        "###12. Faça um programa que receba a idade e a altura de 20 pessoas. Calcule e exiba a média das alturas das pessoas com mais de 20 anos.\n",
        "\n",
        "\n"
      ]
    },
    {
      "cell_type": "code",
      "execution_count": null,
      "metadata": {
        "id": "BrL7c0SiReMX",
        "colab": {
          "base_uri": "https://localhost:8080/"
        },
        "outputId": "bf4992d7-13fd-45da-a807-94538fdcc19d"
      },
      "outputs": [
        {
          "output_type": "stream",
          "name": "stdout",
          "text": [
            "Informe a idade: 21\n",
            "Informa a altura: 1\n",
            "Informe a idade: 21\n",
            "Informa a altura: 2\n",
            "Informe a idade: 21\n",
            "Informa a altura: 3\n",
            "Informe a idade: 21\n",
            "Informa a altura: 4\n",
            "Informe a idade: 21\n",
            "Informa a altura: 5\n",
            "A média de altura das pessoas com mais de 20 anos é: 3.0 metros\n"
          ]
        }
      ],
      "source": [
        "# Digite seu código aqui\n",
        "contador = 1\n",
        "soma_idades = 0\n",
        "soma_alturas = 0\n",
        "while contador <= 5:\n",
        "    idade = int(input('Informe a idade: '))\n",
        "    altura = float(input('Informa a altura: '))\n",
        "    if idade > 20:\n",
        "        soma_idades = soma_idades + 1\n",
        "        soma_alturas = soma_alturas + altura\n",
        "    contador = contador + 1\n",
        "if idade > 20:\n",
        "    media_pessoas = soma_alturas / soma_idades\n",
        "    print('A média de altura das pessoas com mais de 20 anos é:', media_pessoas, 'metros')\n",
        "else:\n",
        "    print('Não existem pessoas com mais de 20 anos')\n",
        "\n",
        "\n"
      ]
    },
    {
      "cell_type": "markdown",
      "metadata": {
        "id": "aI4IjOYw-XwG"
      },
      "source": [
        "###13. Faça um algoritmo que leia o preço de 20 TV, determine e apresente a média dos preços que possuem valor maior que R$ 1000. Pode implementar com o comando while ou for."
      ]
    },
    {
      "cell_type": "code",
      "execution_count": null,
      "metadata": {
        "id": "0YxUWj8KQriq",
        "colab": {
          "base_uri": "https://localhost:8080/"
        },
        "outputId": "565e9d34-a5b8-4b53-b79f-2da964b4021c"
      },
      "outputs": [
        {
          "output_type": "stream",
          "name": "stdout",
          "text": [
            "Informe o preço R$ 1\n",
            "Informe o preço R$ 1\n",
            "Informe o preço R$ 1\n",
            "Informe o preço R$ 1\n",
            "Informe o preço R$ 1\n",
            "Não foram encontradas Tvs com preço maior que R$1000.\n"
          ]
        }
      ],
      "source": [
        "# Digite seu código com while\n",
        "qpessoas = 0\n",
        "soma_precos = 0\n",
        "contador_tv = 0\n",
        "while qpessoas < 5:\n",
        "    preco = float(input('Informe o preço R$ '))\n",
        "    if preco > 1000:\n",
        "        soma_precos = soma_precos + preco #variável somatória\n",
        "        contador_tv = contador_tv + 1 #variável contadora\n",
        "    qpessoas = qpessoas + 1\n",
        "if contador_tv > 0:\n",
        "    media = soma_precos / contador_tv\n",
        "    print(f'A média de valores é R$ {media:.2f}')\n",
        "else:\n",
        "    print('Não foram encontradas Tvs com preço maior que R$1000.')"
      ]
    },
    {
      "cell_type": "markdown",
      "metadata": {
        "id": "AvMp2ZGF5sBk"
      },
      "source": [
        "###14. Faça um programa que receba a altura e nome  de 5 pessoas. Encontre e apresente a altura da pessoa mais alta e da mais baixa e seus respectivos nomes."
      ]
    },
    {
      "cell_type": "code",
      "execution_count": null,
      "metadata": {
        "colab": {
          "base_uri": "https://localhost:8080/"
        },
        "id": "HUkicD3g6CX4",
        "outputId": "db13197d-f8ce-4df9-95bc-fee384386067"
      },
      "outputs": [
        {
          "output_type": "stream",
          "name": "stdout",
          "text": [
            "Digite o nome: Paulo\n",
            "digite a altura: 1.79\n",
            "Digite o nome: Mari\n",
            "digite a altura: 1.60\n",
            "Digite o nome: Dersim\n",
            "digite a altura: 2.00\n",
            "Alto:  Dersim  -  2.0 metros\n",
            "Baixo:  Mari  -  1.6 metros\n"
          ]
        }
      ],
      "source": [
        "# Digite seu código aqui no while\n",
        "contador = 0\n",
        "while contador < 5:\n",
        "    nome = input('Digite o nome: ')\n",
        "    altura = float(input('digite a altura: '))\n",
        "    if contador == 0: #inicializar as variáveis de resposta\n",
        "        #apenas quando o contador for zero\n",
        "        alto = altura\n",
        "        baixo = altura\n",
        "        nome_alto = nome\n",
        "        nome_baixo = nome\n",
        "    if altura > alto:\n",
        "        alto = altura\n",
        "        nome_alto = nome\n",
        "    if altura < baixo:\n",
        "        baixo = altura\n",
        "        nome_baixo = nome\n",
        "    contador = contador + 1\n",
        "print('Alto: ',nome_alto,' - ', alto, 'metros')\n",
        "print('Baixo: ',nome_baixo,' - ', baixo, 'metros')\n"
      ]
    },
    {
      "cell_type": "code",
      "source": [
        "# Digite seu código aqui no for\n",
        "for contador in range(5):\n",
        "    nome = input('Digite o nome: ')\n",
        "    altura = float(input('digite a altura: '))\n",
        "    if contador == 0: #inicializar as variáveis de resposta\n",
        "        #apenas quando o contador for zero\n",
        "        alto = altura\n",
        "        baixo = altura\n",
        "        nome_alto = nome\n",
        "        nome_baixo = nome\n",
        "    if altura > alto:\n",
        "        alto = altura\n",
        "        nome_alto = nome\n",
        "    if altura < baixo:\n",
        "        baixo = altura\n",
        "        nome_baixo = nome\n",
        "print('Alto: ',nome_alto,' - ', alto, 'metros')\n",
        "print('Baixo: ',nome_baixo,' - ', baixo, 'metros')"
      ],
      "metadata": {
        "colab": {
          "base_uri": "https://localhost:8080/"
        },
        "id": "UJl_14eSh9Rz",
        "outputId": "dd31708f-e6bf-4b13-b0b9-2ea965a97491"
      },
      "execution_count": null,
      "outputs": [
        {
          "output_type": "stream",
          "name": "stdout",
          "text": [
            "Digite o nome: Paulo\n",
            "digite a altura: 1.79\n",
            "Digite o nome: Mari\n",
            "digite a altura: 1.65\n",
            "Digite o nome: Dersim\n",
            "digite a altura: 2.0\n",
            "Alto:  Dersim  -  2.0 metros\n",
            "Baixo:  Mari  -  1.65 metros\n"
          ]
        }
      ]
    },
    {
      "cell_type": "markdown",
      "metadata": {
        "id": "8KWL51p-6Ckk"
      },
      "source": [
        "###15. Faça um programa que receba dez valores inteiros, encontre e apresente o maior e o menor valor.\n",
        "\n"
      ]
    },
    {
      "cell_type": "code",
      "execution_count": null,
      "metadata": {
        "id": "sX3O5ruoTQGH",
        "colab": {
          "base_uri": "https://localhost:8080/"
        },
        "outputId": "0cf62498-2c84-441d-8357-0d27dd25b3cb"
      },
      "outputs": [
        {
          "output_type": "stream",
          "name": "stdout",
          "text": [
            "Digite o valor: 5\n",
            "Digite o valor: 900\n",
            "Digite o valor: 50\n",
            "Digite o valor: 3\n",
            "Digite o valor: 10000\n",
            "Digite o valor: 1000\n",
            "Digite o valor: 33\n",
            "Digite o valor: 60\n",
            "Digite o valor: 90\n",
            "Digite o valor: 11\n",
            "O maior valor digitado é:  10000\n",
            "O menor valor digitado é:  3\n"
          ]
        }
      ],
      "source": [
        "# Digite seu código aqui\n",
        "contador = 0\n",
        "while contador <= 9:\n",
        "    valores = int(input('Digite o valor: '))\n",
        "    if contador == 0:\n",
        "        valor_alto = valores\n",
        "        valor_baixo = valores\n",
        "    if valores > valor_alto:\n",
        "        valor_alto = valores\n",
        "    if valores < valor_baixo:\n",
        "        valor_baixo = valores\n",
        "    contador = contador + 1\n",
        "print('O maior valor digitado é: ', valor_alto)\n",
        "print('O menor valor digitado é: ', valor_baixo)"
      ]
    },
    {
      "cell_type": "markdown",
      "metadata": {
        "id": "7ykHS3fC6e1z"
      },
      "source": [
        "###16. Os alunos do primeiro módulo farão a P1 da disciplina de Algoritmo. Crie um algoritmo que leia as 40 notas e RAs, encontre e apresente a maior, a menor e os respectivos RAs desses alunos."
      ]
    },
    {
      "cell_type": "code",
      "execution_count": null,
      "metadata": {
        "id": "yU4vMIRs7BPK",
        "colab": {
          "base_uri": "https://localhost:8080/"
        },
        "outputId": "3432930f-9476-4982-97c8-2cc6552d4648"
      },
      "outputs": [
        {
          "output_type": "stream",
          "name": "stdout",
          "text": [
            "Digite a respectiva nota do aluno: 10\n",
            "Digite o respectivo RA do aluno: 100\n",
            "Digite a respectiva nota do aluno: 15\n",
            "Digite o respectivo RA do aluno: 400\n",
            "Digite a respectiva nota do aluno: 0.2\n",
            "Digite o respectivo RA do aluno: 500\n",
            "Digite a respectiva nota do aluno: 20\n",
            "Digite o respectivo RA do aluno: 10\n",
            "Digite a respectiva nota do aluno: 0.3\n",
            "Digite o respectivo RA do aluno: 4000\n",
            "A maior nota é: 20.0 e seu respectivo RA é: 10\n",
            "A menor nota é: 0.2 e seu respectivo RA é: 500\n"
          ]
        }
      ],
      "source": [
        "# Digite seu código aqui\n",
        "contador = 0\n",
        "while contador <= 5:\n",
        "    notas = float(input('Digite a respectiva nota do aluno: '))\n",
        "    ra = int(input('Digite o respectivo RA do aluno: '))\n",
        "    if contador == 0:\n",
        "        maior_nota = notas\n",
        "        menor_nota = notas\n",
        "        ra_alto = ra\n",
        "        ra_baixo = ra\n",
        "    if notas > maior_nota:\n",
        "        maior_nota = notas\n",
        "        ra_alto = ra\n",
        "    if notas < menor_nota:\n",
        "        menor_nota = notas\n",
        "        ra_baixo = ra\n",
        "    contador = contador + 1\n",
        "print('A maior nota é:',maior_nota,'e seu respectivo RA é:',ra_alto)\n",
        "print('A menor nota é:',menor_nota,'e seu respectivo RA é:',ra_baixo)"
      ]
    },
    {
      "cell_type": "markdown",
      "metadata": {
        "id": "wJ0MVHDlQrNb"
      },
      "source": [
        "###17. Faça um programa que calcule e apresente as tabuadas do 3 ao 7. Este exercício utiliza DUAS estruturas de repetição."
      ]
    },
    {
      "cell_type": "code",
      "execution_count": null,
      "metadata": {
        "id": "0ZBwoW881MU7",
        "colab": {
          "base_uri": "https://localhost:8080/"
        },
        "outputId": "3101ef7b-df1c-48f4-95d8-9b6e613aca82"
      },
      "outputs": [
        {
          "output_type": "stream",
          "name": "stdout",
          "text": [
            "3 x 1 = 3\n",
            "3 x 2 = 6\n",
            "3 x 3 = 9\n",
            "3 x 4 = 12\n",
            "3 x 5 = 15\n",
            "3 x 6 = 18\n",
            "3 x 7 = 21\n",
            "3 x 8 = 24\n",
            "3 x 9 = 27\n",
            "3 x 10 = 30\n",
            "\n",
            "4 x 1 = 4\n",
            "4 x 2 = 8\n",
            "4 x 3 = 12\n",
            "4 x 4 = 16\n",
            "4 x 5 = 20\n",
            "4 x 6 = 24\n",
            "4 x 7 = 28\n",
            "4 x 8 = 32\n",
            "4 x 9 = 36\n",
            "4 x 10 = 40\n",
            "\n",
            "5 x 1 = 5\n",
            "5 x 2 = 10\n",
            "5 x 3 = 15\n",
            "5 x 4 = 20\n",
            "5 x 5 = 25\n",
            "5 x 6 = 30\n",
            "5 x 7 = 35\n",
            "5 x 8 = 40\n",
            "5 x 9 = 45\n",
            "5 x 10 = 50\n",
            "\n",
            "6 x 1 = 6\n",
            "6 x 2 = 12\n",
            "6 x 3 = 18\n",
            "6 x 4 = 24\n",
            "6 x 5 = 30\n",
            "6 x 6 = 36\n",
            "6 x 7 = 42\n",
            "6 x 8 = 48\n",
            "6 x 9 = 54\n",
            "6 x 10 = 60\n",
            "\n",
            "7 x 1 = 7\n",
            "7 x 2 = 14\n",
            "7 x 3 = 21\n",
            "7 x 4 = 28\n",
            "7 x 5 = 35\n",
            "7 x 6 = 42\n",
            "7 x 7 = 49\n",
            "7 x 8 = 56\n",
            "7 x 9 = 63\n",
            "7 x 10 = 70\n",
            "\n"
          ]
        }
      ],
      "source": [
        "# exemplo com for\n",
        "for tabuada in range(3,8):\n",
        "    for contador in range(1,11):\n",
        "        print(tabuada, 'x', contador, '=', tabuada * contador)\n",
        "    print()"
      ]
    },
    {
      "cell_type": "code",
      "source": [
        "# exemplo com while e for\n",
        "tabuada = 3\n",
        "while tabuada <= 7:\n",
        "    for contador in range(1,11):\n",
        "        print(tabuada, 'x', contador, '=', tabuada * contador)\n",
        "    print()\n",
        "    tabuada = tabuada + 1\n"
      ],
      "metadata": {
        "colab": {
          "base_uri": "https://localhost:8080/"
        },
        "id": "ljvxlMMHiRwG",
        "outputId": "f24a145e-64a0-4d1a-807b-24e817ab843e"
      },
      "execution_count": null,
      "outputs": [
        {
          "output_type": "stream",
          "name": "stdout",
          "text": [
            "3 x 1 = 3\n",
            "3 x 2 = 6\n",
            "3 x 3 = 9\n",
            "3 x 4 = 12\n",
            "3 x 5 = 15\n",
            "3 x 6 = 18\n",
            "3 x 7 = 21\n",
            "3 x 8 = 24\n",
            "3 x 9 = 27\n",
            "3 x 10 = 30\n",
            "\n",
            "4 x 1 = 4\n",
            "4 x 2 = 8\n",
            "4 x 3 = 12\n",
            "4 x 4 = 16\n",
            "4 x 5 = 20\n",
            "4 x 6 = 24\n",
            "4 x 7 = 28\n",
            "4 x 8 = 32\n",
            "4 x 9 = 36\n",
            "4 x 10 = 40\n",
            "\n",
            "5 x 1 = 5\n",
            "5 x 2 = 10\n",
            "5 x 3 = 15\n",
            "5 x 4 = 20\n",
            "5 x 5 = 25\n",
            "5 x 6 = 30\n",
            "5 x 7 = 35\n",
            "5 x 8 = 40\n",
            "5 x 9 = 45\n",
            "5 x 10 = 50\n",
            "\n",
            "6 x 1 = 6\n",
            "6 x 2 = 12\n",
            "6 x 3 = 18\n",
            "6 x 4 = 24\n",
            "6 x 5 = 30\n",
            "6 x 6 = 36\n",
            "6 x 7 = 42\n",
            "6 x 8 = 48\n",
            "6 x 9 = 54\n",
            "6 x 10 = 60\n",
            "\n",
            "7 x 1 = 7\n",
            "7 x 2 = 14\n",
            "7 x 3 = 21\n",
            "7 x 4 = 28\n",
            "7 x 5 = 35\n",
            "7 x 6 = 42\n",
            "7 x 7 = 49\n",
            "7 x 8 = 56\n",
            "7 x 9 = 63\n",
            "7 x 10 = 70\n",
            "\n"
          ]
        }
      ]
    },
    {
      "cell_type": "markdown",
      "metadata": {
        "id": "wu3gKhw_P-t2"
      },
      "source": [
        "###18. Faça um programa para o curso de ADS (6 módulos), cada sala tem 30 alunos, calcule e apresente os seguintes itens:\n",
        "*  Quantidade de homens e mulheres de cada módulo;\n",
        "*  Média de idades de cada módulo;\n",
        "*  Quantidade de homens e mulheres do curso todo;\n",
        "*  Média de idades do curso todo.\n",
        "\n",
        "Observação: este exercício utiliza DUAS estruturas de repetição."
      ]
    },
    {
      "cell_type": "code",
      "source": [
        "feminino_curso = 0\n",
        "masculino_curso = 0\n",
        "idades_total = 0\n",
        "for modulo in range(1,7):\n",
        "    print(modulo,'º módulo','.'*50)\n",
        "    feminino = 0\n",
        "    masculino = 0\n",
        "    soma_idades = 0\n",
        "    for alunos in range(1,3):\n",
        "        genero = input('Cadastre o gênero M/F: ')\n",
        "        idade = int(input('Informe a idade: '))\n",
        "        if genero == 'F' or genero == 'f':\n",
        "            feminino = feminino + 1 #contador do módulo atual\n",
        "            soma_idades = soma_idades + idade\n",
        "        elif genero == 'M' or genero == 'm':\n",
        "            masculino = masculino + 1\n",
        "            soma_idades = soma_idades + idade\n",
        "    media_modulo = soma_idades / (feminino + masculino)\n",
        "    print('Foram encontrados', masculino, 'homem(s).')\n",
        "    print('Foram encontradas', feminino, 'mulher(es).')\n",
        "    print('A média de idade dos alunos para esse módulo é de', media_modulo, 'anos')\n",
        "    feminino_curso = feminino_curso + feminino\n",
        "    masculino_curso = masculino_curso + masculino\n",
        "    idades_total = idades_total + soma_idades\n",
        "    media_curso = idades_total / (feminino_curso + masculino_curso)\n",
        "print('.'*61)\n",
        "print('.'*16,'Informações finais do curso','.'*16)\n",
        "print('.'*61)\n",
        "print('A quantidade de homens no curso todo é de', masculino_curso, 'homens')\n",
        "print('.'*61)\n",
        "print('A quantidade de mulheres no curso todo é de', feminino_curso, 'mulheres')\n",
        "print('.'*61)\n",
        "print('A média de idade dos alunos no curso todo é de', media_curso, 'anos')"
      ],
      "metadata": {
        "colab": {
          "base_uri": "https://localhost:8080/"
        },
        "id": "XLoxb_P6iftB",
        "outputId": "f6b24a73-3a2f-42d3-87b9-65e791e02b32"
      },
      "execution_count": null,
      "outputs": [
        {
          "output_type": "stream",
          "name": "stdout",
          "text": [
            "1 º módulo ..................................................\n",
            "Cadastre o gênero M/F: f\n",
            "Informe a idade: 33\n",
            "Cadastre o gênero M/F: f\n",
            "Informe a idade: 33\n",
            "Foram encontrados 0 homem(s).\n",
            "Foram encontradas 2 mulher(es).\n",
            "A média de idade dos alunos para esse módulo é de 33.0 anos\n",
            "2 º módulo ..................................................\n",
            "Cadastre o gênero M/F: f\n",
            "Informe a idade: 33\n",
            "Cadastre o gênero M/F: f\n",
            "Informe a idade: 33\n",
            "Foram encontrados 0 homem(s).\n",
            "Foram encontradas 2 mulher(es).\n",
            "A média de idade dos alunos para esse módulo é de 33.0 anos\n",
            "3 º módulo ..................................................\n",
            "Cadastre o gênero M/F: f\n",
            "Informe a idade: 33\n",
            "Cadastre o gênero M/F: f\n",
            "Informe a idade: 33\n",
            "Foram encontrados 0 homem(s).\n",
            "Foram encontradas 2 mulher(es).\n",
            "A média de idade dos alunos para esse módulo é de 33.0 anos\n",
            "4 º módulo ..................................................\n",
            "Cadastre o gênero M/F: f\n",
            "Informe a idade: 33\n",
            "Cadastre o gênero M/F: f\n",
            "Informe a idade: 33\n",
            "Foram encontrados 0 homem(s).\n",
            "Foram encontradas 2 mulher(es).\n",
            "A média de idade dos alunos para esse módulo é de 33.0 anos\n",
            "5 º módulo ..................................................\n",
            "Cadastre o gênero M/F: f\n",
            "Informe a idade: 33\n",
            "Cadastre o gênero M/F: f\n",
            "Informe a idade: 33\n",
            "Foram encontrados 0 homem(s).\n",
            "Foram encontradas 2 mulher(es).\n",
            "A média de idade dos alunos para esse módulo é de 33.0 anos\n",
            "6 º módulo ..................................................\n",
            "Cadastre o gênero M/F: f\n",
            "Informe a idade: 33\n",
            "Cadastre o gênero M/F: f\n",
            "Informe a idade: 33\n",
            "Foram encontrados 0 homem(s).\n",
            "Foram encontradas 2 mulher(es).\n",
            "A média de idade dos alunos para esse módulo é de 33.0 anos\n",
            ".............................................................\n",
            "................ Informações finais do curso ................\n",
            ".............................................................\n",
            "A quantidade de homens no curso todo é de 0 homens\n",
            ".............................................................\n",
            "A quantidade de mulheres no curso todo é de 12 mulheres\n",
            ".............................................................\n",
            "A média de idade dos alunos no curso todo é de 33.0 anos\n"
          ]
        }
      ]
    },
    {
      "cell_type": "code",
      "execution_count": null,
      "metadata": {
        "colab": {
          "base_uri": "https://localhost:8080/"
        },
        "id": "lBhG5qbYQJaS",
        "outputId": "297654cc-2bed-4f7b-b351-7c4d471b0af1"
      },
      "outputs": [
        {
          "name": "stdout",
          "output_type": "stream",
          "text": [
            "1 º módulo ..................................................\n",
            "\n",
            "\n",
            "\n",
            "2 º módulo ..................................................\n",
            "\n",
            "\n",
            "\n",
            "3 º módulo ..................................................\n",
            "\n",
            "\n",
            "\n",
            "4 º módulo ..................................................\n",
            "\n",
            "\n",
            "\n",
            "5 º módulo ..................................................\n",
            "\n",
            "\n",
            "\n",
            "6 º módulo ..................................................\n",
            "\n",
            "\n",
            "\n"
          ]
        }
      ],
      "source": [
        "for modulo in range(1,7):\n",
        "    print(modulo,'º módulo','.'*50)\n",
        "    # contar genero feminino = 0\n",
        "    for alunos in range(1,3):\n",
        "        # digitar os dados dos alunos\n",
        "        genero = input('Cadastre o gênero M/F: ')\n",
        "        if genero == 'F' or genero == 'f':\n",
        "            # contar genero feminino\n",
        "        #...\n",
        "    # mostrar resultados de cada módulo\n",
        "    # acumular valores para o curso\n",
        "# mostrar resultados do curso"
      ]
    }
  ],
  "metadata": {
    "colab": {
      "provenance": [],
      "include_colab_link": true
    },
    "kernelspec": {
      "display_name": "Python 3",
      "name": "python3"
    }
  },
  "nbformat": 4,
  "nbformat_minor": 0
}