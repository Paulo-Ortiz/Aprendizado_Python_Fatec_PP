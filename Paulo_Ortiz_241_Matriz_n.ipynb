{
  "nbformat": 4,
  "nbformat_minor": 0,
  "metadata": {
    "colab": {
      "provenance": [],
      "include_colab_link": true
    },
    "kernelspec": {
      "name": "python3",
      "display_name": "Python 3"
    }
  },
  "cells": [
    {
      "cell_type": "markdown",
      "metadata": {
        "id": "view-in-github",
        "colab_type": "text"
      },
      "source": [
        "<a href=\"https://colab.research.google.com/github/Paulo-Ortiz/Aprendizado_Python_Fatec_PP/blob/main/Paulo_Ortiz_241_Matriz_n.ipynb\" target=\"_parent\"><img src=\"https://colab.research.google.com/assets/colab-badge.svg\" alt=\"Open In Colab\"/></a>"
      ]
    },
    {
      "cell_type": "code",
      "source": [
        "#Exemplo de como cadastrar/preencher uma matriz\n",
        "matriz = []\n",
        "for linha in range(2):\n",
        "    vet_linha = []\n",
        "    for coluna in range(3):\n",
        "        vet_linha.append(float(input(f'Digite o valor na linha {linha} e na coluna {coluna} = ')))\n",
        "    matriz.append(vet_linha)\n",
        "\n",
        "#Apresentação de matriz no formato linhas e colunas\n",
        "for linha in range(len(matriz)): # len(matriz)-> qtde de linhas\n",
        "    for coluna in range(len(matriz[0])):# len(matriz[0]) qtde de colunas\n",
        "        print(matriz[linha][coluna],end='\\t')\n",
        "    print()\n",
        "\n",
        "soma = 0\n",
        "for linha in range(len(matriz)):\n",
        "    for coluna in range (len(matriz[0])):\n",
        "        print('Elemento:', matriz[linha][coluna],'linha:',linha,'coluna:',coluna)\n",
        "        soma = soma + matriz[linha][coluna]\n",
        "print('O valor total é', soma)"
      ],
      "metadata": {
        "id": "7i4dMBJiqiQz",
        "colab": {
          "base_uri": "https://localhost:8080/"
        },
        "outputId": "85581c30-1401-40c6-8c3e-e7a4b1122da7"
      },
      "execution_count": null,
      "outputs": [
        {
          "output_type": "stream",
          "name": "stdout",
          "text": [
            "Digite o valor na linha 0 e na coluna 0 = 45\n",
            "Digite o valor na linha 0 e na coluna 1 = 22\n",
            "Digite o valor na linha 0 e na coluna 2 = 34\n",
            "Digite o valor na linha 1 e na coluna 0 = 21\n",
            "Digite o valor na linha 1 e na coluna 1 = 20\n",
            "Digite o valor na linha 1 e na coluna 2 = 99\n",
            "45.0\t22.0\t34.0\t\n",
            "21.0\t20.0\t99.0\t\n",
            "Elemento: 45.0 linha: 0 coluna: 0\n",
            "Elemento: 22.0 linha: 0 coluna: 1\n",
            "Elemento: 34.0 linha: 0 coluna: 2\n",
            "Elemento: 21.0 linha: 1 coluna: 0\n",
            "Elemento: 20.0 linha: 1 coluna: 1\n",
            "Elemento: 99.0 linha: 1 coluna: 2\n",
            "O valor total é 241.0\n"
          ]
        }
      ]
    },
    {
      "cell_type": "markdown",
      "metadata": {
        "id": "skN-Wz61xZzi"
      },
      "source": [
        "### 1. Faça um programa que leia uma matriz 2x3 (2 linhas, 3 colunas). Apresente os elementos da matriz e seus respectivos índices."
      ]
    },
    {
      "cell_type": "code",
      "metadata": {
        "id": "Wbjafj_QxWP-",
        "colab": {
          "base_uri": "https://localhost:8080/"
        },
        "outputId": "c555de13-1b91-44dc-a4f0-a086a433cfd3"
      },
      "source": [
        "# Digite aqui seu código\n",
        "matriz = []\n",
        "for linha in range(2):\n",
        "    vet_linha = []\n",
        "    for coluna in range(3):\n",
        "        vet_linha.append(int(input('digite o valor: ')))\n",
        "    matriz.append(vet_linha)\n",
        "\n",
        "print(matriz)\n",
        "\n",
        "for linha in range(len(matriz)): # len(matriz)-> qtde de linhas\n",
        "    for coluna in range(len(matriz[0])):# len(matriz[0]) qtde de colunas\n",
        "        print(matriz[linha][coluna],end='\\t')\n",
        "    print()\n",
        "\n",
        "for linha in range(len(matriz)):\n",
        "    for coluna in range(len(matriz[0])):\n",
        "        print('Elemento: ',matriz[linha][coluna],'índice da linha:',linha,'índice da coluna:',coluna)\n",
        "    print()"
      ],
      "execution_count": null,
      "outputs": [
        {
          "output_type": "stream",
          "name": "stdout",
          "text": [
            "digite o valor: 30\n",
            "digite o valor: 20\n",
            "digite o valor: 60\n",
            "digite o valor: 70\n",
            "digite o valor: 22\n",
            "digite o valor: 31\n",
            "[[30, 20, 60], [70, 22, 31]]\n",
            "30\t20\t60\t\n",
            "70\t22\t31\t\n",
            "Elemento:  30 índice da linha: 0 índice da coluna: 0\n",
            "Elemento:  20 índice da linha: 0 índice da coluna: 1\n",
            "Elemento:  60 índice da linha: 0 índice da coluna: 2\n",
            "\n",
            "Elemento:  70 índice da linha: 1 índice da coluna: 0\n",
            "Elemento:  22 índice da linha: 1 índice da coluna: 1\n",
            "Elemento:  31 índice da linha: 1 índice da coluna: 2\n",
            "\n"
          ]
        }
      ]
    },
    {
      "cell_type": "markdown",
      "metadata": {
        "id": "0jPoba3-yLnG"
      },
      "source": [
        "### 2. Faça um programa que leia uma matriz 2 x 2, que representa o salário de 4 funcionários, calcule e mostre a soma total de todos os salários/elementos que será o montante pago pela empresa a esses funcionários."
      ]
    },
    {
      "cell_type": "code",
      "metadata": {
        "id": "UHD2oMlJyLzc",
        "colab": {
          "base_uri": "https://localhost:8080/"
        },
        "outputId": "eb166568-3d9f-46d0-eaad-998808d51fab"
      },
      "source": [
        "# Digite aqui seu código\n",
        "matriz = []\n",
        "for linha in range(2):\n",
        "    vet_linha = []\n",
        "    for coluna in range(2):\n",
        "        vet_linha.append(float(input('Informe o salário: R$ ')))\n",
        "    matriz.append(vet_linha)\n",
        "print(matriz)\n",
        "\n",
        "soma_salarios = 0\n",
        "\n",
        "for linha in range(len(matriz)):\n",
        "    for coluna in range(len(matriz[0])):\n",
        "        soma_salarios += matriz[linha][coluna]\n",
        "print('O montante total de salários pago pela empresa é de R$:',soma_salarios)"
      ],
      "execution_count": null,
      "outputs": [
        {
          "output_type": "stream",
          "name": "stdout",
          "text": [
            "Informe o salário: R$ 1000\n",
            "Informe o salário: R$ 99.99\n",
            "Informe o salário: R$ 501\n",
            "Informe o salário: R$ 2500\n",
            "[[1000.0, 99.99], [501.0, 2500.0]]\n",
            "O montante total de salários pago pela empresa é de R$: 4100.99\n"
          ]
        }
      ]
    },
    {
      "cell_type": "markdown",
      "metadata": {
        "id": "_aPd4c1b3OjS"
      },
      "source": [
        "### 3. Faça um programa para ler uma matriz 5x2 preços. Encontre e apresente os ÍNDICES dos valores menores que 23 reais."
      ]
    },
    {
      "cell_type": "code",
      "metadata": {
        "id": "Q6LPIy_LCQuO",
        "colab": {
          "base_uri": "https://localhost:8080/"
        },
        "outputId": "443101ce-5951-4037-def4-355895a46e13"
      },
      "source": [
        "# if matriz[lin][col] < 23:\n",
        "#     print(lin)\n",
        "#     print(col)\n",
        "matriz = []\n",
        "for linha in range(5):\n",
        "    vet_linha = []\n",
        "    for coluna in range(2):\n",
        "        vet_linha.append(float(input('Informe o preço: R$ ')))\n",
        "    matriz.append(vet_linha)\n",
        "\n",
        "for linha in range(len(matriz)):\n",
        "    for coluna in range(len(matriz[0])):\n",
        "        print(matriz[linha][coluna],end='\\t')\n",
        "    print()\n",
        "\n",
        "for linha in range(len(matriz)):\n",
        "    for coluna in range(len(matriz[0])):\n",
        "        if matriz[linha][coluna] < 23:\n",
        "            print('O valor de R$',matriz[linha][coluna],'do índice da linha:',linha,'e índice da coluna:',coluna,'é menor que R$23,00')"
      ],
      "execution_count": null,
      "outputs": [
        {
          "output_type": "stream",
          "name": "stdout",
          "text": [
            "Informe o preço: R$ 100\n",
            "Informe o preço: R$ 5\n",
            "Informe o preço: R$ 99\n",
            "Informe o preço: R$ 23\n",
            "Informe o preço: R$ 80\n",
            "Informe o preço: R$ 22\n",
            "Informe o preço: R$ 900\n",
            "Informe o preço: R$ 21\n",
            "Informe o preço: R$ 100\n",
            "Informe o preço: R$ 50\n",
            "100.0\t5.0\t\n",
            "99.0\t23.0\t\n",
            "80.0\t22.0\t\n",
            "900.0\t21.0\t\n",
            "100.0\t50.0\t\n",
            "O valor de R$ 5.0 do índice da linha: 0 e índice da coluna: 1 é menor que R$23,00\n",
            "O valor de R$ 22.0 do índice da linha: 2 e índice da coluna: 1 é menor que R$23,00\n",
            "O valor de R$ 21.0 do índice da linha: 3 e índice da coluna: 1 é menor que R$23,00\n"
          ]
        }
      ]
    },
    {
      "cell_type": "markdown",
      "metadata": {
        "id": "JgYwP3n1CQ_U"
      },
      "source": [
        "### 4. Faça um programa que leia números inteiros w e p e os elementos de uma matriz A de números inteiros de dimensão w x p e conte o número de elementos que são iguais a zero. Observação w representa a quantidade de linhas e p as colunas\n"
      ]
    },
    {
      "cell_type": "code",
      "source": [
        "# Digite aqui seu código\n",
        "w = int(input('Informe a quantidade de linhas (w): '))\n",
        "p = int(input('Informe a quantidade de colunas (p): '))\n",
        "matriz = []\n",
        "for linha in range(w):\n",
        "    vet_linha = []\n",
        "    for coluna in range(p):\n",
        "        vet_linha.append(int(input('Informe um número inteiro: ')))\n",
        "    matriz.append(vet_linha)\n",
        "\n",
        "for linha in range(len(matriz)):\n",
        "    for coluna in range(len(matriz[0])):\n",
        "        print(matriz[linha][coluna],end='\\t')\n",
        "    print()\n",
        "\n",
        "soma_inteiros = 0\n",
        "\n",
        "for linha in range(len(matriz)):\n",
        "    for coluna in range(len(matriz[0])):\n",
        "        if matriz[linha][coluna] == 0:\n",
        "            soma_inteiros += 1\n",
        "print('Existem na matriz',soma_inteiros,'elemento(s) igual a 0')"
      ],
      "metadata": {
        "colab": {
          "base_uri": "https://localhost:8080/"
        },
        "id": "7BS4Ve-3M5cs",
        "outputId": "e7b76540-3217-412e-fc9e-cce2451b9b60"
      },
      "execution_count": null,
      "outputs": [
        {
          "output_type": "stream",
          "name": "stdout",
          "text": [
            "Informe a quantidade de linhas (w): 2\n",
            "Informe a quantidade de colunas (p): 3\n",
            "Informe um número inteiro: 1\n",
            "Informe um número inteiro: 0\n",
            "Informe um número inteiro: 1\n",
            "Informe um número inteiro: 0\n",
            "Informe um número inteiro: 1\n",
            "Informe um número inteiro: 0\n",
            "1\t0\t1\t\n",
            "0\t1\t0\t\n",
            "Existem na matriz 3 elemento(s) igual a 0\n"
          ]
        }
      ]
    },
    {
      "cell_type": "code",
      "metadata": {
        "id": "fb6TwQ_yh_To",
        "colab": {
          "base_uri": "https://localhost:8080/"
        },
        "outputId": "db4bed82-0b68-4bcf-e4b9-212013c8a232"
      },
      "source": [
        "# Digite aqui seu código\n",
        "matriz = []\n",
        "for linha in range(3):\n",
        "    vet_linha = []\n",
        "    for coluna in range(2):\n",
        "        vet_linha.append(int(input('Informe um número inteiro: ')))\n",
        "    matriz.append(vet_linha)\n",
        "\n",
        "for linha in range(len(matriz)):\n",
        "    for coluna in range(len(matriz[0])):\n",
        "        print(matriz[linha][coluna],end='\\t')\n",
        "    print()\n",
        "\n",
        "soma_inteiros = 0\n",
        "\n",
        "for linha in range(len(matriz)):\n",
        "    for coluna in range(len(matriz[0])):\n",
        "        if matriz[linha][coluna] == 0:\n",
        "            soma_inteiros += 1\n",
        "print('Existem na matriz',soma_inteiros,'elemento(s) igual a 0')"
      ],
      "execution_count": null,
      "outputs": [
        {
          "output_type": "stream",
          "name": "stdout",
          "text": [
            "Informe um número inteiro: 0\n",
            "Informe um número inteiro: 1\n",
            "Informe um número inteiro: 0\n",
            "Informe um número inteiro: 1\n",
            "Informe um número inteiro: 0\n",
            "Informe um número inteiro: 1\n",
            "0\t1\t\n",
            "0\t1\t\n",
            "0\t1\t\n",
            "Existem na matriz 3 elemento(s) igual a 0\n"
          ]
        }
      ]
    },
    {
      "cell_type": "markdown",
      "metadata": {
        "id": "HAz_eYfhzg06"
      },
      "source": [
        "### 5. Faça um programa que leia uma matriz 3 x 2, que representa preços de produtos, crie OUTRA matriz que armazene todos os preços com 7% de aumento."
      ]
    },
    {
      "cell_type": "code",
      "source": [
        "# Digite aqui seu código\n",
        "#Exemplo de como cadastrar/preencher uma matriz\n",
        "preco = []\n",
        "aumento = []\n",
        "for linha in range(2):\n",
        "    vet_linha = []\n",
        "    for coluna in range(3):\n",
        "        vet_linha.append(float(input(f'Digite o preço na linha {linha} e na coluna {coluna} = ')))\n",
        "    preco.append(vet_linha)\n",
        "\n",
        "#Apresentação de matriz no formato linhas e colunas\n",
        "for linha in range(len(preco)): # len(matriz)-> qtde de linhas\n",
        "    vet_linha = []\n",
        "    for coluna in range(len(preco[0])):# len(matriz[0]) qtde de colunas\n",
        "        print(preco[linha][coluna],end='\\t')\n",
        "        reajustado = preco[linha][coluna] + preco[linha][coluna] * 7 / 100\n",
        "        vet_linha.append(reajustado)\n",
        "    aumento.append(vet_linha)\n",
        "    print()\n",
        "print('\\nMatriz após o aumento de 7%')\n",
        "for linha in range(len(aumento)): # len(matriz)-> qtde de linhas\n",
        "    for coluna in range(len(aumento[0])):# len(matriz[0]) qtde de colunas\n",
        "        print(aumento[linha][coluna],end='\\t')\n",
        "    print()"
      ],
      "metadata": {
        "colab": {
          "base_uri": "https://localhost:8080/"
        },
        "id": "7Fz2vEnBRvD2",
        "outputId": "f36f1702-1a3e-4459-f28f-5a1b3548079d"
      },
      "execution_count": null,
      "outputs": [
        {
          "output_type": "stream",
          "name": "stdout",
          "text": [
            "Digite o preço na linha 0 e na coluna 0 = 1000\n",
            "Digite o preço na linha 0 e na coluna 1 = 1200\n",
            "Digite o preço na linha 0 e na coluna 2 = 5000\n",
            "Digite o preço na linha 1 e na coluna 0 = 7000\n",
            "Digite o preço na linha 1 e na coluna 1 = 9000\n",
            "Digite o preço na linha 1 e na coluna 2 = 2000\n",
            "1000.0\t1200.0\t5000.0\t\n",
            "7000.0\t9000.0\t2000.0\t\n",
            "1070.0\t1284.0\t5350.0\t\n",
            "7490.0\t9630.0\t2140.0\t\n"
          ]
        }
      ]
    },
    {
      "cell_type": "code",
      "source": [
        "# Digite aqui seu código\n",
        "#Exemplo de como cadastrar/preencher uma matriz\n",
        "preco = []\n",
        "aumento = []\n",
        "for linha in range(2):\n",
        "    vet_linha = []\n",
        "    vet_linha_aumento = []\n",
        "    for coluna in range(3):\n",
        "        vet_linha.append(float(input(f'Digite o preço na linha {linha} e na coluna {coluna} = ')))\n",
        "        reajustado = vet_linha[coluna] + vet_linha[coluna] * 7 / 100\n",
        "        vet_linha_aumento.append(reajustado)\n",
        "    preco.append(vet_linha)\n",
        "    aumento.append(vet_linha_aumento)\n",
        "\n",
        "print('\\nMatriz dos preços dos produtos')\n",
        "for linha in range(len(preco)): # len(matriz)-> qtde de linhas\n",
        "    for coluna in range(len(preco[0])):# len(matriz[0]) qtde de colunas\n",
        "        print(preco[linha][coluna],end='\\t')\n",
        "    print()\n",
        "print('\\nMatriz após o aumento de 7%')\n",
        "for linha in range(len(aumento)): # len(matriz)-> qtde de linhas\n",
        "    for coluna in range(len(aumento[0])):# len(matriz[0]) qtde de colunas\n",
        "        print(aumento[linha][coluna],end='\\t')\n",
        "    print()"
      ],
      "metadata": {
        "colab": {
          "base_uri": "https://localhost:8080/"
        },
        "id": "uwDFGFyp-ZDu",
        "outputId": "1ce6f301-4f81-4d14-92fd-d1d16ae000ed"
      },
      "execution_count": null,
      "outputs": [
        {
          "output_type": "stream",
          "name": "stdout",
          "text": [
            "Digite o preço na linha 0 e na coluna 0 = 1500\n",
            "Digite o preço na linha 0 e na coluna 1 = 2100\n",
            "Digite o preço na linha 0 e na coluna 2 = 3000\n",
            "Digite o preço na linha 1 e na coluna 0 = 1700\n",
            "Digite o preço na linha 1 e na coluna 1 = 2300\n",
            "Digite o preço na linha 1 e na coluna 2 = 2900\n",
            "\\Matriz dos preços dos produtos\n",
            "1500.0\t2100.0\t3000.0\t\n",
            "1700.0\t2300.0\t2900.0\t\n",
            "\n",
            "Matriz após o aumento de 7%\n",
            "1605.0\t2247.0\t3210.0\t\n",
            "1819.0\t2461.0\t3103.0\t\n"
          ]
        }
      ]
    },
    {
      "cell_type": "code",
      "source": [
        "# Digite aqui seu código"
      ],
      "metadata": {
        "colab": {
          "base_uri": "https://localhost:8080/"
        },
        "id": "tFzBe221wuOy",
        "outputId": "40324ea6-1b10-4f9b-9ecd-c889509098fb"
      },
      "execution_count": null,
      "outputs": [
        {
          "output_type": "stream",
          "name": "stdout",
          "text": [
            "Digite o preço[0][0] R$: 1500\n",
            "Digite o preço[0][1] R$: 2100\n",
            "Digite o preço[1][0] R$: 3000\n",
            "Digite o preço[1][1] R$: 1700\n",
            "Digite o preço[2][0] R$: 2300\n",
            "Digite o preço[2][1] R$: 2900\n",
            "\n",
            "Apresentação da matriz preço........\n",
            "1500.0\t2100.0\t\n",
            "3000.0\t1700.0\t\n",
            "2300.0\t2900.0\t\n",
            "\n",
            "Apresentação da matriz aumento........\n",
            "1605.0\t2247.0\t\n",
            "3210.0\t1819.0\t\n",
            "2461.0\t3103.0\t\n"
          ]
        }
      ]
    },
    {
      "cell_type": "markdown",
      "source": [
        "###6. Faça um programa que leia uma matriz 2 x 2, que representa as notas, da primeira prova. Leia também outra matriz 2 x 2, que representa as notas, da segunda prova, numa terceira matriz calcule e apresente (em forma de matriz) a média de todos os alunos, para isso use as duas matrizes iniciais."
      ],
      "metadata": {
        "id": "aiGOsH4iw0v2"
      }
    },
    {
      "cell_type": "code",
      "source": [
        "# Digite aqui seu código\n",
        "matriz1 = []\n",
        "matriz2 = []\n",
        "for linha in range(2):\n",
        "    vet_linha = []\n",
        "    for coluna in range(2):\n",
        "        vet_linha.append(int(input('Informe as notas da 1ª prova: ')))\n",
        "    matriz1.append(vet_linha)\n",
        "\n",
        "for linha in range(2):\n",
        "    vet_linha = []\n",
        "    for coluna in range(2):\n",
        "        vet_linha.append(int(input('Informe as notas da 2ª prova: ')))\n",
        "    matriz2.append(vet_linha)\n",
        "\n",
        "print(matriz1)\n",
        "print(matriz2)\n",
        "\n",
        "media_notas = []\n",
        "\n",
        "for linha in range(len(matriz1)):\n",
        "    vet_linha = []\n",
        "    for coluna in range(len(matriz1[0])):\n",
        "        media = (matriz1[linha][coluna] + matriz2[linha][coluna]) / 2\n",
        "        vet_linha.append(media)\n",
        "    media_notas.append(vet_linha)\n",
        "\n",
        "print(media_notas)\n",
        "\n",
        "aluno = 0\n",
        "for linha in range(len(matriz1)):\n",
        "    for coluna in range(len(matriz1[0])):\n",
        "            print(f'A primeira nota do {aluno+1}º aluno é',matriz1[linha][coluna])\n",
        "            aluno += 1\n",
        "print('.'*35)\n",
        "aluno = 0\n",
        "for linha in range(len(matriz2)):\n",
        "    for coluna in range(len(matriz2[0])):\n",
        "            print(f'A segunda nota do {aluno+1}º aluno é',matriz2[linha][coluna])\n",
        "            aluno += 1\n",
        "print('.'*35)\n",
        "aluno = 0\n",
        "for linha in range(len(media_notas)):\n",
        "    for coluna in range(len(media_notas[0])):\n",
        "            print(f'A média de notas do {aluno+1}º aluno é',media_notas[linha][coluna])\n",
        "            aluno += 1"
      ],
      "metadata": {
        "id": "VzciC12pyW1i",
        "colab": {
          "base_uri": "https://localhost:8080/"
        },
        "outputId": "6576c3a8-f3f0-4da7-f729-a6bb4bfa7a44"
      },
      "execution_count": null,
      "outputs": [
        {
          "output_type": "stream",
          "name": "stdout",
          "text": [
            "Informe as notas da 1ª prova: 1\n",
            "Informe as notas da 1ª prova: 2\n",
            "Informe as notas da 1ª prova: 3\n",
            "Informe as notas da 1ª prova: 4\n",
            "Informe as notas da 2ª prova: 5\n",
            "Informe as notas da 2ª prova: 6\n",
            "Informe as notas da 2ª prova: 7\n",
            "Informe as notas da 2ª prova: 8\n",
            "[[1, 2], [3, 4]]\n",
            "[[5, 6], [7, 8]]\n",
            "[[3.0, 4.0], [5.0, 6.0]]\n",
            "A primeira nota do 1º aluno é 1\n",
            "A primeira nota do 2º aluno é 2\n",
            "A primeira nota do 3º aluno é 3\n",
            "A primeira nota do 4º aluno é 4\n",
            "...................................\n",
            "A segunda nota do 1º aluno é 5\n",
            "A segunda nota do 2º aluno é 6\n",
            "A segunda nota do 3º aluno é 7\n",
            "A segunda nota do 4º aluno é 8\n",
            "...................................\n",
            "A média de notas do 1º aluno é 3.0\n",
            "A média de notas do 2º aluno é 4.0\n",
            "A média de notas do 3º aluno é 5.0\n",
            "A média de notas do 4º aluno é 6.0\n"
          ]
        }
      ]
    },
    {
      "cell_type": "markdown",
      "metadata": {
        "id": "fZNXRUrrh_g9"
      },
      "source": [
        "### 7. Faça um programa que leia:\n",
        "###* um vetor com oito posições com os nomes das lojas;\n",
        "###* um outro vetor com quatro posições com os nomes dos produtos;\n",
        "###* uma matriz (8 x 4) com os preços de todos os produtos em cada loja.\n",
        "###O programa deve mostrar todas as relações/print (nome da loja - nome do produto e preço), nas quais o preço não ultrapasse R$ 120,00.\n"
      ]
    },
    {
      "cell_type": "code",
      "source": [
        "precos = []\n",
        "lojas = []\n",
        "produtos = []\n",
        "\n",
        "for i in range(4):\n",
        "    produtos.append(input('Cadastre o produto: '))\n",
        "\n",
        "for i in range(4):\n",
        "    lojas.append(input('Cadastre a loja: '))\n",
        "\n",
        "for linha in range(len(lojas)):\n",
        "    vet_linha = []\n",
        "    for coluna in range(len(produtos)):\n",
        "        vet_linha.append(float(input('Cadastre o preço: ')))\n",
        "    precos.append(vet_linha)\n",
        "\n",
        "for linha in range(len(lojas)):\n",
        "    for coluna in range(len(produtos)):\n",
        "        if precos[linha][coluna] < 120:\n",
        "            print('Nome da loja:',lojas[linha],'\\t Nome do produto:',produtos[coluna],'\\t Preço R$',precos[linha][coluna])"
      ],
      "metadata": {
        "colab": {
          "base_uri": "https://localhost:8080/"
        },
        "id": "3tfi0hef7Op4",
        "outputId": "8486ce97-70a7-4b94-dcdb-edade9ac137a"
      },
      "execution_count": null,
      "outputs": [
        {
          "output_type": "stream",
          "name": "stdout",
          "text": [
            "Cadastre o produto: livro\n",
            "Cadastre o produto: copo\n",
            "Cadastre o produto: capacete\n",
            "Cadastre o produto: travesseiro\n",
            "Cadastre a loja: a\n",
            "Cadastre a loja: b\n",
            "Cadastre a loja: c\n",
            "Cadastre a loja: d\n",
            "Cadastre o preço: 50\n",
            "Cadastre o preço: 30\n",
            "Cadastre o preço: 150\n",
            "Cadastre o preço: 70\n",
            "Cadastre o preço: 300\n",
            "Cadastre o preço: 25\n",
            "Cadastre o preço: 170\n",
            "Cadastre o preço: 90\n",
            "Cadastre o preço: 60\n",
            "Cadastre o preço: 29\n",
            "Cadastre o preço: 200\n",
            "Cadastre o preço: 209\n",
            "Cadastre o preço: 250\n",
            "Cadastre o preço: 31\n",
            "Cadastre o preço: 100\n",
            "Cadastre o preço: 190\n",
            "Nome da loja: a \t Nome do produto: livro \t Preço R$ 50.0\n",
            "Nome da loja: a \t Nome do produto: copo \t Preço R$ 30.0\n",
            "Nome da loja: a \t Nome do produto: travesseiro \t Preço R$ 70.0\n",
            "Nome da loja: b \t Nome do produto: copo \t Preço R$ 25.0\n",
            "Nome da loja: b \t Nome do produto: travesseiro \t Preço R$ 90.0\n",
            "Nome da loja: c \t Nome do produto: livro \t Preço R$ 60.0\n",
            "Nome da loja: c \t Nome do produto: copo \t Preço R$ 29.0\n",
            "Nome da loja: d \t Nome do produto: copo \t Preço R$ 31.0\n",
            "Nome da loja: d \t Nome do produto: capacete \t Preço R$ 100.0\n"
          ]
        }
      ]
    },
    {
      "cell_type": "code",
      "metadata": {
        "id": "A4-CekXy0vrz"
      },
      "source": [
        "# for lin até 8    lojas\n",
        "#    for col até 4    produtos"
      ],
      "execution_count": null,
      "outputs": []
    },
    {
      "cell_type": "markdown",
      "source": [
        "**Exemplo de solução do exercício 6**\n",
        "\n",
        "..............................................\n",
        "\n",
        "Informe o nome da 1ª loja: Amazon\n",
        "\n",
        "Informe o nome da 2ª loja: Submarino\n",
        "\n",
        "Informe o nome da 3ª loja: Saraiva\n",
        "\n",
        "Informe o nome da 4ª loja: Sumire\n",
        "\n",
        "Informe o nome da 5ª loja: Americana\n",
        "\n",
        "Informe o nome da 6ª loja: Moto Mario\n",
        "\n",
        "Informe o nome da 7ª loja: Torra\n",
        "\n",
        "Informe o nome da 8ª loja: Piticas\n",
        "\n",
        "\n",
        "...............................................\n",
        "\n",
        "Informe o nome do 1º produto: Livro\n",
        "\n",
        "Informe o nome do 2º produto: Copo\n",
        "\n",
        "Informe o nome do 3º produto: Capacete\n",
        "\n",
        "Informe o nome do 4º produto: Travesseiro\n",
        "\n",
        "..............................................\n",
        "\n",
        "Informe o valor do(a) Livro na loja Amazon: 42\n",
        "\n",
        "Informe o valor do(a) Copo na loja Amazon: 15\n",
        "\n",
        "Informe o valor do(a) Capacete na loja Amazon: 149\n",
        "\n",
        "Informe o valor do(a) Travesseiro na loja Amazon: 24\n",
        "\n",
        "Informe o valor do(a) Livro na loja Submarino: 32\n",
        "\n",
        "Informe o valor do(a) Copo na loja Submarino: 13\n",
        "\n",
        "...\n",
        "\n",
        "Loja: Amazon, Produto: Livro, Preço: 42.0\n",
        "\n",
        "Loja: Amazon, Produto: Copo, Preço: 15.0\n",
        "\n",
        "Loja: Amazon, Produto: Travesseiro, Preço: 24.0\n",
        "\n",
        "Loja: Submarino, Produto: Livro, Preço: 32.0\n",
        "\n",
        "Loja: Submarino, Produto: Copo, Preço: 13.0\n",
        "\n",
        "..."
      ],
      "metadata": {
        "id": "k8GIZLrr-66c"
      }
    },
    {
      "cell_type": "markdown",
      "source": [
        "###8. Faça um programa que leia uma matriz 4 x 4.\n",
        "###* Apresente os valores/elementos e seus respectivos índices (linhas e colunas) que estão na diagonal principal.\n",
        "###* Calcule e apresente a soma dos elementos acima da diagonal principal, que estão em negrito e com a cor de fundo amarela.\n",
        "\n",
        "![image.png](data:image/png;base64,iVBORw0KGgoAAAANSUhEUgAAAFEAAABMCAYAAAAVx1tzAAAIL0lEQVR4nO2cT2sbSRqHnw57XX+DBAZLHhDGEMbk0DrsZSaD7MvggyCHxSQLLchFhpBlMb4smGAIA62LwYJZE/YQECaTi1tsZi97kA7BYDDGMOk2A5Nv4C9Qe+huqf9Vd5W6JzPj6RcEiVz69a9fVVVXPf22DCGEoI5ScefXNnAbonQSvUEbwzD8V29cRolB28BoD/AWVBj3jJmX9mBRFX2dckn0BmzvrOIIgRAO1nCfxbyP6RnbsGdjlvDytuUihEC4Nuy8ZKGvdBEdUSJc2xSm7Ur/v4CgME1blFAIwhEWpihjRcfP7ZwTvQ9cml02G4t9fDacm1fsTfoUydzCJHoMtkd0XxWfvCw6RyIYzi32jXbhFHXrkjjuNRl1X9FfNIPRaPTZs6ZcufnNSiWxsdmNTLxjXu5Ad9ExVDr8q/t+y2VSJoPjHvNFxpi3Q5NWs+AzJade4VgI8F+LX1QcYTHXAYTlaBuJfX5xP3EvKj4MIeodS9m4dXPirxF1EiuIPxU1MAzjU/j4XYa4OYM/f1GcRIAqpk3DMPyDltVZWi+tU4XGTEeIejhXEXUSK4hZErWRljegnUBFugjJO3yCsbTuv/oT6XvSuH5NO2y7tI6x9GJGXLR0AJjQS2io6vhJXABpjV+O6NpW5GiaCOndC7b5J+LmDPdgDY6/Y3D4guY/wD4/Q5w/wzzu03tXdPJrfvubM8TNLp1AW0vn+jXtpf/ROlhLeVTRuQPgnY7Afu4boMNzG0anOVkc99hgj/5K5L1Gn6Nwu9VYYZVLPuR9EQ93mTy9C4D74wXQADygwcoysHyPVWB4qtKL4uF5mjrLj5jc7LK5oM4Cc6LHYB+co05OExUU9ZHBl/4w2Thewz7fZeXHC3jwGf5W9R6tByp+Lti5Hwy3L1/jEXwp2jrpUNXRTqI32GbUDXttZgtFFHWX/n/PguEMO/fX2TjWNLP8iMlNMJRPtuD9t7wsHP7Vh2YSPU5HU6Y7Tf8CsjH0/x25EC2CohpffzW/LfD+J3zy9DNX78H8/J6ayPJnmMCl97GcTjIUdO6ADtJq0J8EwFIIhGNh2i7iqIMuivIOn8wmae8/PzAFrMdbgMeHa+D6Zy6B1cZdtZO9/olp0L6zWUInEso6c5KUjZDIo2WONW9bgKIAIW7OIq/vhf0g0vbgeyFuzoTzOP1e9BXVcQ/W4seLtM/TSXk5fybMpHcFP2FuClGYYRj1ti9Pp972VRN1EiuIOokVhNKcWIc8hBCfmCf+Ri5QVV5YoB7OlUSdxAoikkT10rZcbpjBGfV0xvRCrllQwhFjfcGrffgx/TcFnjjur2e2V+eJOqVtBdwwxRm1dDwG7Q1wwq3lJHcP3nj6r4AjBgCCYFumyRO9wydsHG/hhDphex2eCB2OxIR+UbkExLkhgNli9rEszqiiE/LH8SkjbJ7nUDZZjE/fAFt881CfJ8aQ18O/YOGDjF+QJ8pKzxQ4oyxC/sgV0+kOzdlw7ikWak54ewzmwV/poM8Tm5+vRWjNPH4xngjZpWfFnFEWCf5oOTNK5FhD9pXu1XzHkDW6X+uTGoDG079h8YaNpXWMpT5Dzc+XuzrPSs+KOaMs8vhjs6VSfPyR0zcX8OArNpcjb2vxxDZH4dx6/gyTCPJS5YlakVl6lscZZZHBH5stzOHbYAj7X8zqSgGbfPdvdt6D9fdHM5Jehif6bNOfWzV5ory0jRRPVCg9i3JGGZeU8EfXNufvZYiTYIE+79sSToI7avHEk62IjzVhn2vofHKeeAu3fTVPrCjqJFYQNQorGb9fFFZSp8r7PVAP50qiTmIFMUui9hOaBaV1xUgtirzm7fWfFM1GZ3pe5MhLCakJIYRwbWGFi2PXFiaWcKKL28z1tClsO7Kojj1M6ArbjC/E0zqOsJIPH+b4yNZJH0fZS2KxHb9ZHyy4T7bm/w5u8Fsn6cW23xN1y+KUkJfCk0jJ0PXhqaKzAi+RMj9/q3fB1XWZ0rrCsjgJ8mr0edUdBRirydVePlAFIIK90oRcoTzPlaCzRbwEEeWSC6Kw4rK4POTlXk3BcnAsGO4XzUMdjkJgIRxWd7YjtwI0nhSVoDM9L0G8e8HGMVgnu3pILz7PpZ+HI2MOIgEOsJzCB8iRzK3RY4fzVpaPTB3HikGK8JhKXhLAIpzz0kVRIdwYCCvxd2JzonJZXD7ymkaeaXWvpurfpDdgf2jSamo+KZqDzvS8TOjd/5bp48FsbgRdFJZTFkdeD4ohr0QvTVx5kzox5BUiNYUnRXN1Zr1SwUukFyZL9ADB48EtR2G/oW2fqFFYNVEnsYKoUVjJEH9oFFaRF6iHcyVRJ7GC0EZhsadRE+118ZP0mKUry0CnuixfR8FPsGLVRmHzRW3wm1y6KCznmCnMJltsSzUkiEzmxbEiC/L074zJ/IQ6aRQG8UqvvPBOGSEjLQX4SYa9Fq0si/pWRmTBaXy4xOxuBrCjwzfRX2VS8TPPdri9iYNQcnpiFBr4nWG+BUv2gjydeS92hW0Gx8+oosjSyfSd2j7mn5NrmzGQMQcg+X5CnfSZubYwI91ZfvKOsBLmHMvfvzpW8d45csDZlBCjLYpJzPSdoDtJKpTWSNMpyyn2I0+iiPcwmeki3KSKwuLfejZmyzKe61uCyFQ0fB1T2G6xn3gSHSsy/OITa/YB05OvfEjIdHyT0t/zUumJMt8FF5ncJMYuMvl+Ej1RXumVecDMA+mhsELspTSc5b7zqstSXlw78pRp+uaYzE+o88dFYRV6qXcsFUSdxAqiRmElQ6igsCrmjtse/wcdYfLLT6OlVgAAAABJRU5ErkJggg==)\n"
      ],
      "metadata": {
        "id": "B1SbuClb3Vm4"
      }
    },
    {
      "cell_type": "code",
      "source": [
        "# Digite aqui seu código\n",
        "matriz = []\n",
        "for linha in range(4):\n",
        "    vet_linha = []\n",
        "    for coluna in range(4):\n",
        "        vet_linha.append(int(input('Informe um número: ')))\n",
        "    matriz.append(vet_linha)\n",
        "print(matriz)\n",
        "\n",
        "for linha in range(len(matriz)):\n",
        "    print(f'Elemento {matriz[linha][linha]} na linha [{linha}] e coluna [{linha}]')\n",
        "\n",
        "soma_acima_diagonal = 0\n",
        "for linha in range(len(matriz)):\n",
        "    for coluna in range(linha + 1,len(matriz)):\n",
        "        soma_acima_diagonal += matriz[linha][coluna]\n",
        "print('A soma dos elementos acima da diagonal principal que estão em negrito é',soma_acima_diagonal)"
      ],
      "metadata": {
        "colab": {
          "base_uri": "https://localhost:8080/"
        },
        "id": "KMKeSmLFbJj9",
        "outputId": "eadcc3f1-96d8-4a1e-a13a-880cf9dbefa6"
      },
      "execution_count": null,
      "outputs": [
        {
          "output_type": "stream",
          "name": "stdout",
          "text": [
            "Informe um número: 42\n",
            "Informe um número: 30\n",
            "Informe um número: 50\n",
            "Informe um número: 10\n",
            "Informe um número: 34\n",
            "Informe um número: 26\n",
            "Informe um número: 70\n",
            "Informe um número: 90\n",
            "Informe um número: 48\n",
            "Informe um número: 52\n",
            "Informe um número: 68\n",
            "Informe um número: 20\n",
            "Informe um número: 78\n",
            "Informe um número: 24\n",
            "Informe um número: 36\n",
            "Informe um número: 94\n",
            "[[42, 30, 50, 10], [34, 26, 70, 90], [48, 52, 68, 20], [78, 24, 36, 94]]\n",
            "Elemento 42 na linha [0] e coluna [0]\n",
            "Elemento 26 na linha [1] e coluna [1]\n",
            "Elemento 68 na linha [2] e coluna [2]\n",
            "Elemento 94 na linha [3] e coluna [3]\n",
            "A soma dos elementos acima da diagonal principal que estão em negrito é 270\n"
          ]
        }
      ]
    },
    {
      "cell_type": "code",
      "source": [
        "# Digite aqui seu código"
      ],
      "metadata": {
        "id": "Q20QrkAW9CLu",
        "colab": {
          "base_uri": "https://localhost:8080/"
        },
        "outputId": "f8827fad-acea-4d71-d8e5-452bbdb51ca5"
      },
      "execution_count": null,
      "outputs": [
        {
          "output_type": "stream",
          "name": "stdout",
          "text": [
            "Digite o valor: 42\n",
            "Digite o valor: 30\n",
            "Digite o valor: 50\n",
            "Digite o valor: 10\n",
            "Digite o valor: 34\n",
            "Digite o valor: 26\n",
            "Digite o valor: 70\n",
            "Digite o valor: 90\n",
            "Digite o valor: 48\n",
            "Digite o valor: 52\n",
            "Digite o valor: 68\n",
            "Digite o valor: 20\n",
            "Digite o valor: 78\n",
            "Digite o valor: 24\n",
            "Digite o valor: 36\n",
            "Digite o valor: 94\n",
            "Valor 42 linha 0 coluna 0\n",
            "Valor 26 linha 1 coluna 1\n",
            "Valor 68 linha 2 coluna 2\n",
            "Valor 94 linha 3 coluna 3\n",
            "A soma dos elementos é 270\n"
          ]
        }
      ]
    },
    {
      "cell_type": "markdown",
      "source": [
        "###9. Faça um programa para gerar automaticamente números entre 0 e 99 de uma cartela de bingo. Sabendo que cada cartela deverá conter 5 linhas de 5 números (matriz 5 x 5), gere estes dados de modo a não ter números repetidos dentro das cartelas. O programa deve apresentar a cartela gerada."
      ],
      "metadata": {
        "id": "s4FUKftfs69l"
      }
    },
    {
      "cell_type": "code",
      "source": [
        "# Digite aqui seu código\n",
        "\n",
        "#Exemplo de geração de números aleatórios\n",
        "import random\n",
        "\n",
        "#gera número de 1 a 5, mas deixa números duplicados\n",
        "x = random.randint(1,5)\n",
        "#pesquise como usar a função shuffle()\n",
        "z = random.shuffle()\n",
        "\n",
        "print(x)"
      ],
      "metadata": {
        "colab": {
          "base_uri": "https://localhost:8080/"
        },
        "id": "4z7sh0zktMuZ",
        "outputId": "b6f50fcd-7f99-4ea4-fc4e-41a77d60e859"
      },
      "execution_count": null,
      "outputs": [
        {
          "output_type": "stream",
          "name": "stdout",
          "text": [
            "1\n"
          ]
        }
      ]
    },
    {
      "cell_type": "code",
      "source": [
        "# Digite aqui seu código\n",
        "import random\n",
        "numeros = list(range(100))\n",
        "print(numeros)\n",
        "random.shuffle(numeros)\n",
        "print(numeros)\n",
        "selecionados = numeros[:25]\n",
        "print(selecionados)\n",
        "cartela = []\n",
        "for linha in range(5):\n",
        "    linha = selecionados[linha*5:(linha+1)*5]\n",
        "    cartela.append(linha)\n",
        "print(cartela)\n",
        "print('.'*43)\n",
        "print(' Valores da cartela gerados aleatoriamente')\n",
        "print('.'*43)\n",
        "for linha in range(len(cartela)):\n",
        "    for coluna in range(len(cartela[0])):\n",
        "        print(cartela[linha][coluna],end='\\t')\n",
        "    print()"
      ],
      "metadata": {
        "colab": {
          "base_uri": "https://localhost:8080/"
        },
        "id": "zu6Mm0wZBGeB",
        "outputId": "a6ca8083-e5ba-4d8c-a849-3c352d902310"
      },
      "execution_count": null,
      "outputs": [
        {
          "output_type": "stream",
          "name": "stdout",
          "text": [
            "[0, 1, 2, 3, 4, 5, 6, 7, 8, 9, 10, 11, 12, 13, 14, 15, 16, 17, 18, 19, 20, 21, 22, 23, 24, 25, 26, 27, 28, 29, 30, 31, 32, 33, 34, 35, 36, 37, 38, 39, 40, 41, 42, 43, 44, 45, 46, 47, 48, 49, 50, 51, 52, 53, 54, 55, 56, 57, 58, 59, 60, 61, 62, 63, 64, 65, 66, 67, 68, 69, 70, 71, 72, 73, 74, 75, 76, 77, 78, 79, 80, 81, 82, 83, 84, 85, 86, 87, 88, 89, 90, 91, 92, 93, 94, 95, 96, 97, 98, 99]\n",
            "[15, 80, 31, 0, 29, 71, 40, 92, 9, 12, 3, 93, 68, 30, 13, 24, 42, 82, 17, 89, 38, 49, 63, 62, 96, 14, 76, 11, 94, 4, 61, 86, 27, 33, 88, 5, 6, 55, 51, 43, 59, 23, 54, 20, 56, 50, 98, 7, 77, 66, 47, 87, 36, 35, 81, 74, 60, 46, 8, 90, 44, 39, 65, 58, 52, 19, 16, 2, 28, 78, 32, 1, 72, 57, 10, 18, 73, 83, 34, 99, 97, 75, 25, 95, 69, 41, 84, 48, 79, 26, 21, 64, 70, 67, 45, 85, 22, 91, 53, 37]\n",
            "[15, 80, 31, 0, 29, 71, 40, 92, 9, 12, 3, 93, 68, 30, 13, 24, 42, 82, 17, 89, 38, 49, 63, 62, 96]\n",
            "[[15, 80, 31, 0, 29], [71, 40, 92, 9, 12], [3, 93, 68, 30, 13], [24, 42, 82, 17, 89], [38, 49, 63, 62, 96]]\n",
            "...........................................\n",
            " Valores da cartela gerados aleatoriamente\n",
            "...........................................\n",
            "15\t80\t31\t0\t29\t\n",
            "71\t40\t92\t9\t12\t\n",
            "3\t93\t68\t30\t13\t\n",
            "24\t42\t82\t17\t89\t\n",
            "38\t49\t63\t62\t96\t\n"
          ]
        }
      ]
    },
    {
      "cell_type": "code",
      "source": [
        "# Digite aqui seu código"
      ],
      "metadata": {
        "colab": {
          "base_uri": "https://localhost:8080/"
        },
        "id": "L6CJQTIzU7UB",
        "outputId": "0729ff80-6863-4f05-e0ad-b391d19d4fa1"
      },
      "execution_count": null,
      "outputs": [
        {
          "output_type": "stream",
          "name": "stdout",
          "text": [
            "[0, 1, 2, 3, 4, 5, 6, 7, 8, 9, 10, 11, 12, 13, 14, 15, 16, 17, 18, 19, 20, 21, 22, 23, 24, 25, 26, 27, 28, 29, 30, 31, 32, 33, 34, 35, 36, 37, 38, 39, 40, 41, 42, 43, 44, 45, 46, 47, 48, 49, 50, 51, 52, 53, 54, 55, 56, 57, 58, 59, 60, 61, 62, 63, 64, 65, 66, 67, 68, 69, 70, 71, 72, 73, 74, 75, 76, 77, 78, 79, 80, 81, 82, 83, 84, 85, 86, 87, 88, 89, 90, 91, 92, 93, 94, 95, 96, 97, 98, 99]\n",
            "[21, 60, 36, 49, 27, 67, 88, 11, 29, 41, 4, 96, 28, 44, 26, 69, 62, 35, 5, 15, 66, 82, 24, 53, 65, 19, 40, 48, 90, 99, 74, 94, 3, 70, 89, 38, 84, 77, 87, 7, 14, 80, 68, 64, 12, 97, 79, 73, 76, 92, 2, 93, 71, 18, 98, 78, 22, 75, 0, 33, 72, 1, 6, 86, 13, 10, 20, 37, 43, 54, 32, 8, 61, 52, 34, 95, 57, 50, 16, 58, 45, 30, 47, 42, 59, 17, 63, 46, 23, 31, 39, 81, 25, 83, 55, 85, 51, 56, 91]\n",
            "[42, 26, 88, 32, 66, 72, 18, 41, 28, 43, 25, 48, 33, 87, 85, 51, 81, 56, 96, 95, 31, 61, 49, 80, 79, 78, 35, 8, 97, 64, 50, 91, 89, 4, 58, 77, 75, 82, 71, 38, 22, 65, 55, 23, 45, 52, 1, 68, 24, 53, 93, 27, 11, 29, 13, 44, 54, 6, 36, 16, 10, 67, 86, 15, 3, 92, 99, 21, 39, 63, 83, 17, 30, 94, 46, 20, 59, 70, 57, 98, 60, 7, 74, 40, 47, 12, 5, 0, 69, 84, 76, 62, 73, 19, 14, 34, 2, 37]\n",
            "[37, 96, 71, 36, 58, 44, 68, 46, 85, 51, 14, 26, 2, 16, 25, 33, 4, 41, 98, 56, 65, 6, 43, 82, 76, 99, 62, 93, 67, 81, 24, 84, 73, 17, 87, 86, 91, 49, 57, 60, 20, 79, 31, 89, 30, 94, 69, 80, 0, 50, 88, 55, 38, 75, 28, 13, 64, 52, 78, 40, 32, 53, 63, 5, 8, 72, 59, 3, 22, 77, 34, 23, 21, 29, 45, 10, 7, 27, 11, 15, 70, 54, 47, 35, 92, 66, 39, 97, 74, 83, 1, 95, 42, 19, 12, 61, 48]\n",
            "[56, 14, 82, 92, 79, 97, 1, 67, 12, 66, 68, 46, 53, 15, 84, 81, 22, 48, 74, 20, 75, 64, 40, 7, 87, 17, 36, 25, 21, 13, 35, 80, 72, 39, 70, 57, 6, 47, 26, 34, 23, 60, 71, 98, 4, 37, 49, 78, 43, 91, 93, 54, 94, 38, 99, 16, 19, 45, 63, 44, 29, 58, 33, 89, 77, 41, 51, 62, 2, 83, 24, 65, 0, 86, 55, 27, 73, 31, 59, 69, 28, 11, 76, 10, 42, 5, 3, 32, 88, 52, 61, 96, 50, 95, 85, 8]\n",
            "[29, 7, 80, 53, 99, 33, 32, 58, 46, 83, 39, 82, 94, 73, 38, 65, 21, 68, 42, 43, 40, 34, 98, 22, 93, 70, 77, 92, 35, 12, 15, 75, 48, 47, 26, 23, 84, 13, 95, 28, 51, 1, 3, 88, 31, 64, 78, 16, 63, 59, 25, 71, 49, 55, 61, 10, 96, 67, 57, 62, 74, 76, 37, 27, 20, 66, 52, 50, 24, 5, 72, 36, 97, 19, 79, 44, 0, 60, 2, 87, 8, 54, 6, 81, 17, 86, 89, 56, 11, 91, 69, 85, 14, 45, 4]\n",
            "[27, 7, 20, 63, 47, 8, 89, 36, 45, 96, 51, 29, 50, 69, 42, 40, 57, 91, 32, 11, 95, 58, 38, 16, 6, 65, 23, 82, 2, 97, 21, 67, 77, 28, 13, 15, 75, 34, 59, 87, 5, 19, 48, 99, 55, 84, 26, 56, 39, 52, 68, 22, 66, 10, 62, 83, 70, 98, 43, 4, 81, 93, 88, 53, 71, 64, 46, 78, 31, 79, 17, 92, 73, 61, 74, 60, 0, 44, 94, 1, 54, 33, 49, 76, 80, 14, 24, 85, 86, 12, 25, 3, 72, 35]\n",
            "[87, 21, 24, 27, 55, 70, 63, 40, 15, 35, 34, 45, 1, 52, 6, 89, 14, 72, 93, 96, 92, 77, 50, 11, 79, 8, 54, 10, 97, 42, 16, 98, 13, 57, 95, 61, 99, 43, 39, 56, 33, 31, 94, 59, 47, 78, 91, 25, 4, 68, 29, 38, 51, 81, 86, 64, 36, 58, 80, 74, 60, 0, 26, 53, 23, 28, 76, 82, 69, 2, 67, 66, 85, 88, 32, 62, 12, 22, 83, 19, 48, 17, 73, 46, 5, 44, 7, 3, 65, 49, 75, 71, 20]\n",
            "[4, 47, 83, 19, 53, 99, 42, 81, 86, 48, 52, 43, 57, 16, 70, 75, 35, 64, 20, 71, 6, 54, 26, 44, 95, 55, 1, 14, 79, 96, 40, 22, 49, 63, 3, 15, 11, 24, 80, 29, 88, 89, 68, 31, 62, 7, 58, 74, 98, 23, 12, 72, 46, 10, 82, 77, 17, 39, 85, 76, 36, 65, 38, 0, 27, 56, 61, 50, 25, 32, 33, 51, 13, 69, 92, 45, 67, 94, 21, 73, 93, 5, 28, 8, 78, 2, 87, 66, 34, 97, 59, 60]\n",
            "[20, 38, 67, 0, 85, 15, 36, 98, 3, 52, 22, 77, 17, 73, 88, 69, 5, 32, 87, 63, 78, 86, 46, 4, 34, 25, 31, 33, 11, 51, 16, 89, 59, 94, 66, 60, 80, 72, 12, 14, 42, 68, 82, 26, 19, 24, 75, 47, 79, 62, 99, 76, 55, 39, 56, 6, 21, 96, 10, 29, 93, 13, 27, 7, 83, 57, 40, 64, 97, 49, 35, 65, 95, 48, 2, 45, 43, 23, 1, 8, 58, 53, 74, 81, 44, 70, 50, 92, 28, 61, 54]\n",
            "[52, 26, 36, 33, 65, 83, 76, 50, 12, 42, 75, 77, 19, 20, 95, 38, 85, 32, 45, 3, 73, 66, 39, 56, 96, 14, 49, 25, 47, 17, 81, 88, 98, 59, 80, 55, 54, 44, 29, 79, 99, 93, 27, 63, 28, 22, 82, 61, 2, 10, 53, 35, 21, 13, 60, 51, 0, 57, 40, 48, 64, 16, 67, 4, 7, 46, 15, 69, 74, 24, 58, 92, 78, 68, 86, 43, 70, 87, 89, 34, 23, 5, 97, 62, 72, 31, 8, 6, 94, 11]\n",
            "[4, 99, 87, 27, 61, 2, 69, 20, 11, 10, 79, 80, 64, 36, 31, 26, 38, 98, 96, 74, 66, 6, 3, 92, 86, 43, 65, 29, 54, 72, 95, 70, 57, 19, 47, 17, 25, 97, 13, 23, 46, 51, 7, 33, 73, 81, 60, 67, 34, 48, 44, 24, 32, 76, 68, 94, 63, 45, 56, 28, 42, 59, 21, 75, 62, 0, 89, 8, 93, 12, 22, 40, 15, 77, 53, 49, 88, 35, 83, 78, 39, 52, 50, 82, 16, 55, 85, 5, 14]\n",
            "[87, 86, 59, 49, 27, 89, 69, 10, 53, 24, 81, 0, 51, 42, 15, 4, 67, 62, 43, 47, 65, 61, 52, 44, 36, 19, 12, 80, 45, 83, 6, 21, 11, 57, 68, 55, 60, 54, 78, 50, 39, 2, 63, 13, 25, 66, 85, 7, 28, 32, 40, 94, 77, 31, 99, 56, 20, 75, 70, 79, 73, 93, 14, 23, 3, 82, 34, 97, 92, 64, 38, 72, 96, 76, 35, 46, 48, 98, 29, 8, 88, 95, 26, 33, 17, 22, 74, 5]\n",
            "[11, 92, 28, 42, 96, 65, 20, 47, 83, 43, 67, 25, 85, 53, 82, 64, 5, 56, 23, 60, 51, 50, 24, 38, 75, 32, 45, 99, 17, 22, 88, 35, 66, 19, 2, 63, 36, 39, 27, 44, 54, 59, 72, 68, 7, 73, 89, 49, 26, 74, 6, 48, 87, 31, 93, 79, 80, 10, 46, 12, 13, 77, 97, 3, 69, 62, 81, 52, 95, 29, 14, 94, 61, 76, 4, 98, 57, 78, 86, 8, 70, 21, 34, 0, 15, 55, 40]\n",
            "[14, 55, 86, 74, 65, 38, 51, 6, 68, 92, 13, 50, 85, 73, 25, 63, 88, 94, 8, 21, 45, 47, 35, 19, 49, 98, 87, 62, 61, 17, 10, 3, 11, 59, 70, 48, 44, 46, 15, 60, 7, 40, 26, 2, 95, 29, 12, 96, 97, 79, 52, 75, 81, 34, 76, 57, 83, 82, 77, 78, 22, 66, 64, 53, 39, 0, 32, 31, 42, 69, 28, 67, 43, 72, 89, 24, 80, 4, 56, 36, 93, 27, 99, 5, 54, 23]\n",
            "[24, 35, 59, 31, 11, 79, 88, 27, 70, 63, 83, 89, 47, 14, 66, 99, 53, 68, 17, 82, 49, 36, 15, 64, 3, 23, 72, 93, 7, 21, 13, 78, 45, 75, 39, 50, 46, 32, 65, 52, 60, 56, 73, 44, 54, 4, 25, 87, 38, 19, 97, 69, 77, 98, 86, 81, 80, 22, 6, 42, 12, 48, 61, 43, 95, 10, 8, 40, 34, 62, 26, 92, 76, 2, 29, 96, 5, 57, 55, 67, 0, 51, 28, 94, 85]\n",
            "[62, 55, 21, 40, 94, 81, 35, 78, 70, 3, 11, 15, 83, 93, 24, 27, 73, 36, 26, 66, 12, 79, 53, 75, 28, 96, 32, 2, 22, 44, 86, 46, 87, 49, 80, 65, 57, 56, 59, 89, 64, 95, 5, 23, 39, 97, 68, 69, 38, 77, 82, 85, 13, 51, 50, 25, 43, 8, 6, 4, 10, 72, 61, 88, 48, 98, 17, 14, 63, 67, 29, 45, 99, 42, 60, 0, 7, 54, 52, 19, 92, 34, 31, 47]\n",
            "[77, 28, 52, 19, 62, 17, 23, 8, 64, 46, 38, 75, 14, 3, 82, 55, 56, 27, 36, 85, 89, 31, 35, 67, 97, 43, 68, 7, 73, 45, 93, 69, 44, 72, 5, 32, 96, 12, 22, 78, 70, 47, 92, 13, 11, 39, 81, 25, 50, 51, 86, 54, 95, 26, 99, 49, 66, 48, 29, 0, 61, 42, 63, 6, 83, 94, 21, 88, 2, 80, 87, 59, 65, 24, 15, 57, 40, 53, 4, 60, 98, 34, 10]\n",
            "[8, 39, 13, 61, 92, 52, 65, 82, 98, 75, 85, 97, 6, 17, 57, 50, 31, 44, 73, 28, 43, 21, 10, 86, 35, 53, 55, 45, 25, 11, 19, 47, 22, 96, 81, 34, 24, 26, 63, 36, 12, 5, 77, 88, 93, 60, 62, 32, 83, 67, 66, 27, 0, 64, 49, 99, 56, 23, 78, 68, 87, 3, 70, 80, 15, 51, 72, 89, 94, 38, 95, 59, 54, 46, 7, 40, 42, 69, 2, 29, 48, 4]\n",
            "[80, 73, 12, 2, 86, 88, 21, 96, 97, 25, 22, 32, 49, 45, 55, 53, 39, 42, 83, 67, 65, 56, 94, 26, 93, 23, 38, 11, 10, 77, 61, 4, 89, 54, 46, 47, 59, 31, 99, 29, 34, 60, 82, 85, 19, 51, 15, 62, 75, 52, 69, 50, 72, 87, 6, 27, 36, 64, 17, 48, 70, 28, 98, 92, 81, 0, 40, 8, 7, 95, 13, 43, 66, 57, 35, 3, 68, 5, 63, 24, 78]\n",
            "[19, 51, 43, 82, 35, 47, 56, 10, 72, 54, 99, 63, 2, 31, 65, 86, 3, 87, 0, 25, 23, 64, 11, 34, 4, 22, 73, 7, 40, 69, 45, 42, 5, 78, 96, 66, 49, 36, 6, 81, 57, 85, 46, 39, 62, 94, 98, 75, 52, 8, 38, 67, 24, 26, 53, 77, 89, 32, 27, 29, 21, 95, 93, 80, 68, 28, 48, 17, 59, 60, 97, 70, 61, 92, 55, 50, 13, 15, 88, 12]\n",
            "[66, 15, 40, 96, 8, 26, 7, 46, 72, 60, 32, 89, 81, 28, 50, 6, 95, 70, 57, 88, 29, 12, 99, 17, 80, 63, 35, 2, 59, 22, 4, 69, 53, 42, 55, 11, 92, 86, 87, 82, 39, 48, 31, 49, 19, 51, 0, 21, 13, 85, 64, 24, 77, 98, 73, 75, 54, 68, 94, 78, 62, 34, 97, 5, 43, 56, 25, 67, 36, 45, 38, 10, 23, 61, 27, 3, 93, 65, 47]\n",
            "[95, 61, 11, 88, 77, 40, 89, 70, 51, 57, 23, 3, 96, 28, 72, 92, 66, 27, 56, 21, 6, 35, 69, 8, 48, 99, 12, 67, 22, 86, 13, 87, 31, 80, 24, 26, 0, 63, 64, 60, 36, 4, 25, 49, 94, 39, 85, 7, 55, 45, 73, 93, 5, 65, 29, 47, 38, 2, 59, 10, 42, 46, 53, 68, 50, 81, 15, 75, 62, 98, 54, 82, 19, 34, 97, 17, 32, 43]\n",
            "[69, 56, 8, 19, 92, 89, 50, 26, 10, 46, 11, 53, 32, 82, 96, 54, 75, 99, 81, 80, 63, 42, 70, 48, 98, 38, 61, 47, 12, 77, 60, 86, 17, 51, 59, 88, 23, 62, 95, 43, 68, 0, 24, 15, 7, 29, 49, 93, 25, 64, 97, 21, 87, 31, 13, 67, 39, 22, 66, 4, 65, 45, 27, 2, 6, 94, 36, 3, 73, 85, 35, 5, 57, 55, 72, 40, 28]\n",
            "[73, 55, 75, 95, 36, 45, 56, 61, 0, 43, 5, 22, 62, 57, 94, 32, 40, 82, 70, 13, 63, 7, 24, 31, 97, 38, 12, 15, 85, 59, 86, 23, 8, 68, 47, 81, 21, 77, 49, 54, 60, 65, 96, 80, 93, 89, 17, 27, 69, 99, 46, 88, 19, 2, 3, 39, 10, 26, 11, 35, 29, 28, 25, 51, 92, 64, 42, 6, 48, 53, 72, 50, 98, 4, 66, 67]\n",
            "[54, 89, 0, 11, 92, 49, 31, 45, 61, 38, 4, 12, 66, 35, 26, 19, 96, 17, 97, 86, 10, 75, 8, 3, 22, 36, 82, 15, 95, 94, 2, 88, 47, 21, 57, 65, 63, 28, 59, 80, 50, 27, 67, 6, 7, 29, 25, 53, 39, 42, 85, 93, 43, 40, 60, 64, 77, 69, 24, 51, 32, 99, 23, 72, 13, 81, 70, 98, 55, 62, 68, 5, 46, 56, 73]\n",
            "9\t90\t18\t30\t41\t\n",
            "37\t84\t91\t71\t1\t\n",
            "58\t16\t33\t20\t74\t\n",
            "76\t79\t14\t44\t83\t\n",
            "52\t78\t34\t87\t48\t\n"
          ]
        }
      ]
    }
  ]
}