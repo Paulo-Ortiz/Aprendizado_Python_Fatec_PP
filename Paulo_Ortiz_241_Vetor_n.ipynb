{
  "cells": [
    {
      "cell_type": "markdown",
      "metadata": {
        "id": "view-in-github",
        "colab_type": "text"
      },
      "source": [
        "<a href=\"https://colab.research.google.com/github/Paulo-Ortiz/Aprendizado_Python_Fatec_PP/blob/main/Paulo_Ortiz_241_Vetor_n.ipynb\" target=\"_parent\"><img src=\"https://colab.research.google.com/assets/colab-badge.svg\" alt=\"Open In Colab\"/></a>"
      ]
    },
    {
      "cell_type": "markdown",
      "metadata": {
        "id": "BTk5UJlvXLuB"
      },
      "source": [
        "#**EXERCÍCIOS SOBRE VETOR**"
      ]
    },
    {
      "cell_type": "code",
      "execution_count": null,
      "metadata": {
        "colab": {
          "base_uri": "https://localhost:8080/"
        },
        "id": "pWxH8atku1z0",
        "outputId": "1759b26d-30ff-4628-c0ef-da117822a01e"
      },
      "outputs": [
        {
          "name": "stdout",
          "output_type": "stream",
          "text": [
            "<class 'list'>\n",
            "[]\n",
            "[23]\n",
            "[23, 32]\n",
            "23\n",
            "32\n",
            "[23, 32, 41]\n",
            "[23, 32, 41, 15]\n",
            "Quantidade de elementos do vetor?  4\n"
          ]
        }
      ],
      "source": [
        "idade = [] # declaração de um vetor\n",
        "print(type(idade))\n",
        "print(idade)\n",
        "idade.append(23)\n",
        "print(idade)\n",
        "idade.append(32)\n",
        "print(idade)\n",
        "print(idade[0])\n",
        "print(idade[1])\n",
        "idade.append(41)\n",
        "print(idade)\n",
        "idade.append(15)\n",
        "print(idade)\n",
        "print('Quantidade de elementos do vetor? ',len(idade))"
      ]
    },
    {
      "cell_type": "markdown",
      "metadata": {
        "id": "YOspAvb8YpqR"
      },
      "source": [
        "### 1. Faça um programa que calcule e apresente a média de idades de uma sala de 35 alunos.​​"
      ]
    },
    {
      "cell_type": "code",
      "execution_count": null,
      "metadata": {
        "colab": {
          "base_uri": "https://localhost:8080/"
        },
        "id": "79a_dkcTwKBR",
        "outputId": "0582de68-e7bb-4ae8-f76c-c383243b7e69"
      },
      "outputs": [
        {
          "name": "stdout",
          "output_type": "stream",
          "text": [
            "Digite a 1ª idade: 60\n",
            "Digite a 2ª idade: 70\n",
            "Digite a 3ª idade: 10\n",
            "Digite a 4ª idade: 28\n",
            "Digite a 5ª idade: 40\n",
            "[60, 70, 10, 28, 40]\n",
            "Média de idades 41.6 anos.\n",
            "Idade:  60 - Índice:  0\n",
            "Idade:  70 - Índice:  1\n",
            "Idade:  10 - Índice:  2\n",
            "Idade:  28 - Índice:  3\n",
            "Idade:  40 - Índice:  4\n"
          ]
        }
      ],
      "source": [
        "idades = []\n",
        "i = 0\n",
        "soma_idades = 0\n",
        "while i < 5:\n",
        "    idades.append(int(input(f'Digite a {i+1}ª idade: ')))\n",
        "    soma_idades = soma_idades + idades[i]\n",
        "    i = i + 1 #incremento\n",
        "print(idades)\n",
        "media = soma_idades / len(idades)\n",
        "print('Média de idades', media, 'anos.')\n",
        "\n",
        "for i in range(len(idades)):\n",
        "    print('Idade: ',idades[i], '- Índice: ', i)"
      ]
    },
    {
      "cell_type": "code",
      "execution_count": null,
      "metadata": {
        "colab": {
          "base_uri": "https://localhost:8080/"
        },
        "id": "J4jva4Wo1uQe",
        "outputId": "aafe0e0d-6c6a-46c4-83e5-496c386f7a5e"
      },
      "outputs": [
        {
          "name": "stdout",
          "output_type": "stream",
          "text": [
            "Digite a 1ª idade: 30\n",
            "Digite a 2ª idade: 21\n",
            "Digite a 3ª idade: 20\n",
            "Digite a 4ª idade: 23\n",
            "Digite a 5ª idade: 34\n",
            "Digite a 6ª idade: 45\n",
            "Digite a 7ª idade: 52\n",
            "Digite a 8ª idade: 76\n",
            "Digite a 9ª idade: 54\n",
            "Digite a 10ª idade: 32\n",
            "Elementos do vetor [30, 21, 20, 23, 34, 45, 52, 76, 54, 32]\n",
            "387\n",
            "Média de idades 38.70 anos.\n",
            "\n",
            "Apresentação de todas as idades e seus índices\n",
            "Idade: 30 - Índice: 0\n",
            "Idade: 21 - Índice: 1\n",
            "Idade: 20 - Índice: 2\n",
            "Idade: 23 - Índice: 3\n",
            "Idade: 34 - Índice: 4\n",
            "Idade: 45 - Índice: 5\n",
            "Idade: 52 - Índice: 6\n",
            "Idade: 76 - Índice: 7\n",
            "Idade: 54 - Índice: 8\n",
            "Idade: 32 - Índice: 9\n"
          ]
        }
      ],
      "source": [
        "# Digite seu código aqui"
      ]
    },
    {
      "cell_type": "markdown",
      "metadata": {
        "id": "XtTydU3HZNHi"
      },
      "source": [
        "### 2. Faça um programa que calcule e apresente a média de alturas de uma sala de 35 alunos. Informe também quantos alunos **e** quais (índice/posição) são os que possuem idade superior a 25 anos.​ Use dois vetores, um para altura e outro para idade. Não use nenhuma função pronta da linguagem Python, a não ser len() e append().\n"
      ]
    },
    {
      "cell_type": "code",
      "execution_count": null,
      "metadata": {
        "colab": {
          "base_uri": "https://localhost:8080/"
        },
        "id": "WPAbR4YX8dtJ",
        "outputId": "555cffdb-31f5-4e89-a443-236f651c0abe"
      },
      "outputs": [
        {
          "name": "stdout",
          "output_type": "stream",
          "text": [
            "~.~.~.~.~.~.~.~.~.~.~.~.~.~.~.~.~.~.~.~.~.~.~.~.~.~.~.~.~.~.\n",
            "           CADASTRO DE ALTURAS E IDADES\n",
            "~.~.~.~.~.~.~.~.~.~.~.~.~.~.~.~.~.~.~.~.~.~.~.~.~.~.~.~.~.~.\n",
            "Cadastre a 1ª idade: 32\n",
            "Cadastre a 1ª altura: 1.79\n",
            "Cadastre a 2ª idade: 33\n",
            "Cadastre a 2ª altura: 2\n",
            "Cadastre a 3ª idade: 10\n",
            "Cadastre a 3ª altura: 2\n",
            "Cadastre a 4ª idade: 30\n",
            "Cadastre a 4ª altura: 1.60\n",
            "\n",
            " ~.~.~.~.~.~.~.~.~.~.~.~.~.~.~.~.~.~.~.~.~.~.~.~.~.~.~.~.~.~.\n",
            "           APRESENTAÇÃO DOS RESULTADOS\n",
            "~.~.~.~.~.~.~.~.~.~.~.~.~.~.~.~.~.~.~.~.~.~.~.~.~.~.~.~.~.~.\n",
            "O aluno 0 possui 32 anos\n",
            "O aluno 1 possui 33 anos\n",
            "O aluno 3 possui 30 anos\n",
            "Foram encontrados 3 alunos com idade maior que 25 anos\n",
            "Média de alturas: 1.85\n"
          ]
        }
      ],
      "source": [
        "# Digite seu código aqui\n",
        "print('~.'*30)\n",
        "print('           CADASTRO DE ALTURAS E IDADES')\n",
        "print('~.'*30)\n",
        "idades = []\n",
        "alturas = []\n",
        "soma_alturas = 0\n",
        "for i in range(4):\n",
        "    idades.append(int(input(f'Cadastre a {i+1}ª idade: ')))\n",
        "    alturas.append(float(input(f'Cadastre a {i+1}ª altura: ')))\n",
        "    soma_alturas += alturas [i]\n",
        "media = soma_alturas / len(alturas) # 4 alturas\n",
        "\n",
        "print('\\n','~.'*30)\n",
        "print('           APRESENTAÇÃO DOS RESULTADOS')\n",
        "print('~.'*30)\n",
        "contador = 0\n",
        "for i in range(len(idades)):\n",
        "    if idades[i] > 25:\n",
        "        print('O aluno',i,'possui',idades[i],'anos')\n",
        "        contador += 1 #contador = contador + 1\n",
        "\n",
        "print('Foram encontrados',contador, 'alunos com idade maior que 25 anos')\n",
        "print(f'Média de alturas: {media:.2f}')"
      ]
    },
    {
      "cell_type": "markdown",
      "metadata": {
        "id": "3x_WkNYTZQeD"
      },
      "source": [
        "### 3. Faça um programa que carregue um vetor de dez elementos que contenha o nome de pessoas e outro que contenha o peso, encontre qual a pessoa mais gorda e mais magra e apresente o nome o peso das mesmas.​ Use dois vetores, um para peso e outro para nome. Não use nenhuma função pronta da linguagem Python, a não ser len() e append()."
      ]
    },
    {
      "cell_type": "code",
      "execution_count": null,
      "metadata": {
        "colab": {
          "base_uri": "https://localhost:8080/"
        },
        "id": "7VsianjuZMrf",
        "outputId": "8739741a-cce6-4071-df8b-6794c077f5da"
      },
      "outputs": [
        {
          "name": "stdout",
          "output_type": "stream",
          "text": [
            "Digite o 1º nome: paulo\n",
            "Digite o 1º peso: 120\n",
            "Digite o 2º nome: val\n",
            "Digite o 2º peso: 55\n",
            "Digite o 3º nome: mari\n",
            "Digite o 3º peso: 80\n",
            "A pessoa mais gorda(o) é paulo e pesa 120.0 kgs\n",
            "A pessoa mais magra(o) é val e pesa 55.0 kgs\n"
          ]
        }
      ],
      "source": [
        "# Digite seu código aqui\n",
        "nomes = []\n",
        "pesos = []\n",
        "for i in range(3):\n",
        "    nomes.append(str(input(f'Digite o {i+1}º nome: ')))\n",
        "    pesos.append(float(input(f'Digite o {i+1}º peso: ')))\n",
        "    if i == 0:\n",
        "        gordo = pesos[i]\n",
        "        nome_gordo = nomes[i]\n",
        "        magro = pesos[i]\n",
        "        nome_magro = nomes[i]\n",
        "    if pesos[i] >= gordo:\n",
        "        gordo = pesos[i]\n",
        "        nome_gordo = nomes[i]\n",
        "    if pesos[i] <= magro:\n",
        "        magro = pesos[i]\n",
        "        nome_magro = nomes[i]\n",
        "print('A pessoa mais gorda(o) é',nome_gordo,'e pesa',gordo,'kgs')\n",
        "print('A pessoa mais magra(o) é',nome_magro,'e pesa',magro,'kgs')"
      ]
    },
    {
      "cell_type": "markdown",
      "metadata": {
        "id": "xSpiII3mZdQV"
      },
      "source": [
        "### 4. Faça um programa que carregue um vetor com a média de dez alunos, calcule e mostre a MÉDIA DA SALA e quantos alunos estão acima e abaixo da média da sala. Não use nenhuma função pronta da linguagem Python, a não ser len() e append()."
      ]
    },
    {
      "cell_type": "code",
      "execution_count": null,
      "metadata": {
        "colab": {
          "base_uri": "https://localhost:8080/"
        },
        "id": "iWBTxDXvZUPP",
        "outputId": "c2c7ca47-615e-4e58-d9b5-d8ff1aad27d5"
      },
      "outputs": [
        {
          "name": "stdout",
          "output_type": "stream",
          "text": [
            "~.~.~.~.~.~.~.~.~.~.~.~.~.~.~.~.~.~.~.~.~.~.~.~.~.\n",
            "           CADASTRO DE MÉDIAS DA SALA\n",
            "~.~.~.~.~.~.~.~.~.~.~.~.~.~.~.~.~.~.~.~.~.~.~.~.~.\n",
            "Informe a 1ª média: 10\n",
            "Informe a 2ª média: 6\n",
            "Informe a 3ª média: 3\n",
            "Informe a 4ª média: 7.5\n",
            "Informe a 5ª média: 8\n",
            "\n",
            " ~.~.~.~.~.~.~.~.~.~.~.~.~.~.~.~.~.~.~.~.~.~.~.~.~.\n",
            "           APRESENTAÇÃO DOS RESULTADOS\n",
            "~.~.~.~.~.~.~.~.~.~.~.~.~.~.~.~.~.~.~.~.~.~.~.~.~.\n",
            "A média da sala é: 6.90\n",
            "Existem 3 alunos acima da média da sala\n",
            "Existem 2 alunos abaixo da média da sala\n"
          ]
        }
      ],
      "source": [
        "# Digite seu código aqui\n",
        "print('~.'*25)\n",
        "print('           CADASTRO DE MÉDIAS DA SALA')\n",
        "print('~.'*25)\n",
        "media_alunos = []\n",
        "soma_alunos = 0\n",
        "for i in range(5):\n",
        "    media_alunos.append(float(input(f'Informe a {i+1}ª média: ')))\n",
        "    soma_alunos += media_alunos[i]\n",
        "media = soma_alunos / len(media_alunos)\n",
        "\n",
        "print('\\n','~.'*25)\n",
        "print('           APRESENTAÇÃO DOS RESULTADOS')\n",
        "print('~.'*25)\n",
        "\n",
        "acima = 0\n",
        "abaixo = 0\n",
        "for i in range(len(media_alunos)):\n",
        "    if media_alunos[i] >= media:\n",
        "        acima += 1\n",
        "    elif media_alunos[i] < media:\n",
        "        abaixo += 1\n",
        "print(f'A média da sala é: {media:.2f}')\n",
        "print('Existem',acima,'alunos acima da média da sala')\n",
        "print('Existem',abaixo,'alunos abaixo da média da sala')"
      ]
    },
    {
      "cell_type": "markdown",
      "metadata": {
        "id": "frrtYwMAZUcL"
      },
      "source": [
        "### 5. Faça um programa que carregue um vetor de oito elementos numéricos inteiros, calcule e mostre os números pares e suas respectivas índices/posições. Não use nenhuma função pronta da linguagem Python, a não ser len() e append().\n"
      ]
    },
    {
      "cell_type": "code",
      "execution_count": null,
      "metadata": {
        "colab": {
          "base_uri": "https://localhost:8080/"
        },
        "id": "7S8zpor8Z5Hb",
        "outputId": "cb5ce297-fb2a-47d5-e5a7-fad1366b8d78"
      },
      "outputs": [
        {
          "name": "stdout",
          "output_type": "stream",
          "text": [
            "Digite o 1° número: 15\n",
            "Digite o 2° número: 10\n",
            "Digite o 3° número: 5\n",
            "Digite o 4° número: 2\n",
            "Digite o 5° número: 6\n",
            "[15, 10, 5, 2, 6]\n",
            "O número 10 é um número par e percente ao índice 1\n",
            "O número 2 é um número par e percente ao índice 3\n",
            "O número 6 é um número par e percente ao índice 4\n"
          ]
        }
      ],
      "source": [
        "# Digite seu código aqui. %\n",
        "numeros = []\n",
        "for i in range(5):\n",
        "    numeros.append(int(input(f'Digite o {i+1}° número: ')))\n",
        "print(numeros)\n",
        "\n",
        "for i in range(len(numeros)):\n",
        "    if numeros[i] % 2 == 0:\n",
        "        print('O número',numeros[i],'é um número par e percente ao índice',i)"
      ]
    },
    {
      "cell_type": "markdown",
      "metadata": {
        "id": "cml17HAsZ5Wf"
      },
      "source": [
        "### 6. Faça um programa que carregue um vetor com dez nomes e faça uma verificação se um determinado nome esta nesse vetor. Não use nenhuma função pronta da linguagem Python, a não ser len() e append()."
      ]
    },
    {
      "cell_type": "code",
      "execution_count": null,
      "metadata": {
        "colab": {
          "base_uri": "https://localhost:8080/"
        },
        "id": "Plq-_M7LkI9-",
        "outputId": "2cca4d46-996f-4926-82e9-c93f3a9ac8d8"
      },
      "outputs": [
        {
          "name": "stdout",
          "output_type": "stream",
          "text": [
            "Digite o nome: paulo\n",
            "Digite o nome: daniel\n",
            "Digite o nome: mor\n",
            "Digite o nome: val\n",
            "['paulo', 'daniel', 'mor', 'val']\n",
            "Qual nome deseja pesquisar? mor\n",
            "Aluno(a) encontrado(a)!\n"
          ]
        }
      ],
      "source": [
        "nomes = []\n",
        "for i in range(4):\n",
        "    nomes.append(str(input('Digite o nome: ')))\n",
        "print(nomes)\n",
        "\n",
        "busca = (str(input('Qual nome deseja pesquisar? ')))\n",
        "\n",
        "if busca in nomes:\n",
        "    print('Aluno(a) encontrado(a)!')\n",
        "else:\n",
        "    print('Aluno(a) não encontrado(a)!')"
      ]
    },
    {
      "cell_type": "code",
      "execution_count": null,
      "metadata": {
        "colab": {
          "base_uri": "https://localhost:8080/"
        },
        "id": "Ui8b2vvay7Y7",
        "outputId": "c6d0dc2a-6b11-4290-f522-268105f8c67a"
      },
      "outputs": [
        {
          "name": "stdout",
          "output_type": "stream",
          "text": [
            "Digite o nome: ana\n",
            "Digite o nome: bia\n",
            "Digite o nome: bel\n",
            "Digite o nome: leo\n",
            "['ana', 'bia', 'bel', 'leo']\n",
            "Qual nome deseja pesquisar? bel\n",
            "Aluno encontrado!\n"
          ]
        }
      ],
      "source": [
        "# Digite seu código aqui"
      ]
    },
    {
      "cell_type": "markdown",
      "metadata": {
        "id": "0BYcEcgYaHbl"
      },
      "source": [
        "### 7. Faça um algoritmo que calcule e apresente a média de alturas superior a 1,80 de 10 alunos. Informe também quantos e quais (índice/posição) são os alunos. Não use nenhuma função pronta da linguagem Python, a não ser len() e append().\n"
      ]
    },
    {
      "cell_type": "code",
      "execution_count": null,
      "metadata": {
        "colab": {
          "base_uri": "https://localhost:8080/"
        },
        "id": "O9gl6NU6KWz3",
        "outputId": "92093acf-4a43-487c-a35a-e36961a8a65b"
      },
      "outputs": [
        {
          "name": "stdout",
          "output_type": "stream",
          "text": [
            "Informe a 1ª altura: 1.7\n",
            "Informe a 2ª altura: 1.81\n",
            "Informe a 3ª altura: 1.6\n",
            "Informe a 4ª altura: 1.9\n",
            "[1.7, 1.81, 1.6, 1.9]\n",
            "O aluno n° 1 tem 1.81 metros\n",
            "O aluno n° 3 tem 1.9 metros\n",
            "A média da sala é 1.855 metros\n"
          ]
        }
      ],
      "source": [
        "# Digite seu código aqui #COMO PEDIDO NO EXERCÍCIO\n",
        "media_alunos = []\n",
        "soma_alunos = 0\n",
        "acima = 0\n",
        "for i in range(4):\n",
        "    media_alunos.append(float(input(f'Informe a {i+1}ª altura: ')))\n",
        "    if media_alunos[i] > 1.8:\n",
        "        soma_alunos = soma_alunos + media_alunos[i]\n",
        "        acima += 1\n",
        "media = soma_alunos / acima\n",
        "print(media_alunos)\n",
        "\n",
        "for i in range(len(media_alunos)):\n",
        "    if media_alunos[i] > 1.8:\n",
        "        print('O aluno n°', i,'tem',media_alunos[i],'metros')\n",
        "print('A média da sala é',media,'metros')"
      ]
    },
    {
      "cell_type": "code",
      "execution_count": null,
      "metadata": {
        "id": "BKEuBM7PPUax"
      },
      "outputs": [],
      "source": [
        "# Digite seu código aqui #COMO PEDIDO NO EXERCÍCIO AMS COM COMPARAÇÃO DA MÉDIA ACIMA DA MÉDIA GERAL\n",
        "media_alunos = []\n",
        "soma_alunos = 0\n",
        "acima = 0\n",
        "for i in range(5):\n",
        "    media_alunos.append(float(input(f'Informe a {i+1}ª altura: ')))\n",
        "    if media_alunos[i] > 1.8:\n",
        "        soma_alunos = soma_alunos + media_alunos[i]\n",
        "        acima += 1\n",
        "media = soma_alunos / acima\n",
        "print(media_alunos)\n",
        "\n",
        "for i in range(len(media_alunos)):\n",
        "    if media_alunos[i] > media:\n",
        "        print('O aluno n°', i,'tem',media_alunos[i],'metros')\n",
        "print('A média da sala é',media,'metros')"
      ]
    },
    {
      "cell_type": "code",
      "execution_count": null,
      "metadata": {
        "colab": {
          "base_uri": "https://localhost:8080/"
        },
        "id": "VK0dlw7exhFg",
        "outputId": "1f9377a3-80b5-4ef4-a56b-b369babc2c0e"
      },
      "outputs": [
        {
          "name": "stdout",
          "output_type": "stream",
          "text": [
            "Informe a 1ª altura: 2\n",
            "Informe a 2ª altura: 2\n",
            "Informe a 3ª altura: 2\n",
            "Informe a 4ª altura: 2\n",
            "Informe a 5ª altura: 2\n",
            "[2.0, 2.0, 2.0, 2.0, 2.0]\n",
            "A média da sala é 2.00 metros\n",
            "Existem 0 alunos acima da média da sala\n",
            "Existem 0 alunos abaixo da média da sala\n"
          ]
        }
      ],
      "source": [
        "# Digite seu código aqui #COM CONTADOR ACIMA E ABAIXO PARA TREINO PESSOAL\n",
        "media_alunos = []\n",
        "soma_alunos = 0\n",
        "acima = 0\n",
        "for i in range(5):\n",
        "    media_alunos.append(float(input(f'Informe a {i+1}ª altura: ')))\n",
        "    if media_alunos[i] > 1.8:\n",
        "        soma_alunos = soma_alunos + media_alunos[i]\n",
        "        acima += 1\n",
        "media = soma_alunos / acima\n",
        "print(media_alunos)\n",
        "\n",
        "acima2 = 0\n",
        "abaixo = 0\n",
        "for i in range(len(media_alunos)):\n",
        "    if media_alunos[i] > media:\n",
        "        acima2 += 1\n",
        "    elif media_alunos[i] < media:\n",
        "        abaixo += 1\n",
        "\n",
        "print(f'A média da sala é {media:.2f}','metros')\n",
        "print('Existem',acima2,'alunos acima da média da sala')\n",
        "print('Existem',abaixo,'alunos abaixo da média da sala')"
      ]
    },
    {
      "cell_type": "code",
      "execution_count": null,
      "metadata": {
        "colab": {
          "base_uri": "https://localhost:8080/"
        },
        "id": "wbXDmo6daU5n",
        "outputId": "f3ba44f6-0fac-4c95-c18e-814a4795a3e3"
      },
      "outputs": [
        {
          "name": "stdout",
          "output_type": "stream",
          "text": [
            "Digite a altura: 1.7\n",
            "Digite a altura: 1.81\n",
            "Digite a altura: 1.6\n",
            "Digite a altura: 1.9\n",
            "[1.7, 1.81, 1.6, 1.9]\n",
            "O aluno nº 1 tem 1.81 metros\n",
            "O aluno nº 3 tem 1.9 metros\n",
            "Média de alturas 1.855 metros\n"
          ]
        }
      ],
      "source": [
        "# Digite seu código aqui"
      ]
    },
    {
      "cell_type": "markdown",
      "metadata": {
        "id": "mFaqmOmuaVN2"
      },
      "source": [
        "### 8. Criar um algoritmo que a partir de um vetor de 10 elementos inteiros, crie outros dois vetores que receberão os elementos positivos e negativos e ao final apresente-os. Não use nenhuma função pronta da linguagem Python, a não ser len() e append().\n"
      ]
    },
    {
      "cell_type": "code",
      "execution_count": null,
      "metadata": {
        "colab": {
          "base_uri": "https://localhost:8080/"
        },
        "id": "IZ03OgA6o-cB",
        "outputId": "3218e005-a149-4a75-a15f-98398dfcccbf"
      },
      "outputs": [
        {
          "name": "stdout",
          "output_type": "stream",
          "text": [
            "Digite o número: 1\n",
            "Digite o número: -3\n",
            "Digite o número: 2\n",
            "Digite o número: -5\n",
            "Digite o número: -9\n",
            "[1, -3, 2, -5, -9]\n",
            "[1, 2]\n",
            "[-3, -5, -9]\n",
            "Apresentação dos valores positivos..........\n",
            "Índice: 0 Elemento vetor positivo: 1\n",
            "Índice: 1 Elemento vetor positivo: 2\n",
            "Apresentação dos valores negativos..........\n",
            "Índice: 0 Elemento vetor negativo: -3\n",
            "Índice: 1 Elemento vetor negativo: -5\n",
            "Índice: 2 Elemento vetor negativo: -9\n"
          ]
        }
      ],
      "source": [
        "numeros = []\n",
        "maior = []\n",
        "menor = []\n",
        "for i in range(5):\n",
        "    numeros.append(int(input('Digite o número: ')))\n",
        "print(numeros)\n",
        "for i in range(len(numeros)):\n",
        "    if numeros[i] > 0:\n",
        "        maior.append(numeros[i])\n",
        "    else:\n",
        "        menor.append(numeros[i])\n",
        "print(maior)\n",
        "print(menor)\n",
        "print('Apresentação dos valores positivos..........')\n",
        "for i in range(len(maior)):\n",
        "    print('Índice:',i,'Elemento vetor positivo:',maior[i])\n",
        "print('Apresentação dos valores negativos..........')\n",
        "for i in range(len(menor)):\n",
        "    print('Índice:',i,'Elemento vetor negativo:',menor[i])"
      ]
    },
    {
      "cell_type": "code",
      "execution_count": null,
      "metadata": {
        "colab": {
          "base_uri": "https://localhost:8080/"
        },
        "id": "Yln3xjirBwno",
        "outputId": "b6d3c5a8-eacb-4d5b-f21f-2c614395dbce"
      },
      "outputs": [
        {
          "name": "stdout",
          "output_type": "stream",
          "text": [
            "Digite o número: 1\n",
            "Digite o número: -3\n",
            "Digite o número: 2\n",
            "Digite o número: -5\n",
            "Digite o número: -9\n",
            "[1, -3, 2, -5, -9]\n",
            "[1, 2]\n",
            "[-3, -5, -9]\n",
            "Apresentação dos valores positivos..............\n",
            "Índice: 0 Elemento vetor positivo: 1\n",
            "Índice: 1 Elemento vetor positivo: 2\n",
            "Apresentação dos valores negativos..............\n",
            "Índice: 0 Elemento vetor positivo: -3\n",
            "Índice: 1 Elemento vetor positivo: -5\n",
            "Índice: 2 Elemento vetor positivo: -9\n"
          ]
        }
      ],
      "source": [
        "# Digite seu código aqui"
      ]
    },
    {
      "cell_type": "code",
      "execution_count": null,
      "metadata": {
        "colab": {
          "base_uri": "https://localhost:8080/"
        },
        "id": "6iZfRVhAyyBe",
        "outputId": "c5b916f8-5905-4951-fa2e-a0aa6e74a415"
      },
      "outputs": [
        {
          "name": "stdout",
          "output_type": "stream",
          "text": [
            "Digite o número: 10\n",
            "Digite o número: 27\n",
            "Digite o número: -90\n",
            "Digite o número: -70\n",
            "Digite o número: -43\n",
            "[10, 27]\n",
            "[-90, -70, -43]\n",
            "Apresentação dos valores positivos..........\n",
            "Índice: 0 Elemento vetor positivo: 10\n",
            "Índice: 1 Elemento vetor positivo: 27\n",
            "Apresentação dos valores negativos..........\n",
            "Índice: 0 Elemento vetor negativo: -90\n",
            "Índice: 1 Elemento vetor negativo: -70\n",
            "Índice: 2 Elemento vetor negativo: -43\n"
          ]
        }
      ],
      "source": [
        "numeros = []\n",
        "maior = []\n",
        "menor = []\n",
        "for i in range(5):\n",
        "    numeros.append(int(input('Digite o número: ')))\n",
        "for i in range(len(numeros)):\n",
        "    if numeros[i] > 0:\n",
        "        maior.append(numeros[i])\n",
        "    else:\n",
        "        menor.append(numeros[i])\n",
        "print(maior)\n",
        "print(menor)\n",
        "print('Apresentação dos valores positivos..........')\n",
        "for i in range(len(maior)):\n",
        "    print('Índice:',i,'Elemento vetor positivo:',maior[i])\n",
        "print('Apresentação dos valores negativos..........')\n",
        "for i in range(len(menor)):\n",
        "    print('Índice:',i,'Elemento vetor negativo:',menor[i])"
      ]
    },
    {
      "cell_type": "code",
      "execution_count": null,
      "metadata": {
        "colab": {
          "base_uri": "https://localhost:8080/"
        },
        "id": "A6hJ8MIdahuM",
        "outputId": "2305fdd1-d677-421f-ab46-fa02c0082381"
      },
      "outputs": [
        {
          "name": "stdout",
          "output_type": "stream",
          "text": [
            "****Programa para inserir valores positivos e negativos****\n",
            "\n",
            "Digite o número: 10\n",
            "Digite o número: 27\n",
            "Digite o número: -90\n",
            "Digite o número: -70\n",
            "Digite o número: -43\n",
            "[10, 27]\n",
            "[-90, -70, -43]\n",
            "\n",
            "Apresentação dos valores positivos..............\n",
            "Índice:  0 \tElemento do vetor positivo: 10\n",
            "Índice:  1 \tElemento do vetor positivo: 27\n",
            "\n",
            "Apresentação dos valores negativo...............\n",
            "Índice:  0 \tElemento do vetor negativo: -90\n",
            "Índice:  1 \tElemento do vetor negativo: -70\n",
            "Índice:  2 \tElemento do vetor negativo: -43\n"
          ]
        }
      ],
      "source": [
        "# Digite seu código aqui"
      ]
    },
    {
      "cell_type": "markdown",
      "metadata": {
        "id": "K5IMhYTHaiEl"
      },
      "source": [
        "### 9. Criar um algoritmo que leia dados para um vetor de 100 elementos inteiros, imprimir o maior, o menor, o percentual de números pares e a média dos elementos do vetor. Obs.: percentual = quantidade contada * 100 / quantidade total. Não use nenhuma função pronta da linguagem Python, a não ser len() e append().\n"
      ]
    },
    {
      "cell_type": "code",
      "execution_count": null,
      "metadata": {
        "colab": {
          "base_uri": "https://localhost:8080/"
        },
        "id": "X6krLAFKaumK",
        "outputId": "fd881c67-28e6-482b-bdef-567961d0f131"
      },
      "outputs": [
        {
          "name": "stdout",
          "output_type": "stream",
          "text": [
            "Informe o 1º número: 1\n",
            "Informe o 2º número: 2\n",
            "Informe o 3º número: 3\n",
            "Informe o 4º número: 4\n",
            "Informe o 5º número: 5\n",
            "O maior valor digitado é:  5\n",
            "O menor valor digitado é:  1\n",
            "O percentual de números pares é: 40.0 %\n",
            "A média dos elementos do vetor é: 3.0\n"
          ]
        }
      ],
      "source": [
        "# Digite seu código aqui.\n",
        "numeros = []\n",
        "maior = 0\n",
        "menor = 0\n",
        "soma = 0\n",
        "for i in range(5):\n",
        "    numeros.append(int(input(f'Informe o {i+1}º número: ')))\n",
        "    if i == 0:\n",
        "        maior = numeros[i]\n",
        "        menor = numeros[i]\n",
        "    if numeros[i] >= maior:\n",
        "        maior = numeros[i]\n",
        "        soma += numeros[i]\n",
        "    if numeros[i] < menor:\n",
        "        menor = numeros[i]\n",
        "        soma += numeros[i]\n",
        "\n",
        "media_elementos = soma / len(numeros)\n",
        "\n",
        "pares = 0\n",
        "\n",
        "for i in range(len(numeros)):\n",
        "    if numeros[i] % 2 == 0:\n",
        "        pares += 1\n",
        "num_pares = (pares) / len(numeros) * 100\n",
        "\n",
        "print('O maior valor digitado é: ',maior)\n",
        "print('O menor valor digitado é: ',menor)\n",
        "print('O percentual de números pares é:',num_pares,'%')\n",
        "print('A média dos elementos do vetor é:',media_elementos)"
      ]
    },
    {
      "cell_type": "markdown",
      "metadata": {
        "id": "X6C3DbCGFR71"
      },
      "source": [
        "### 10. Faça um programa que:\n",
        "\n",
        "* preencha um vetor com seis elementos numéricos inteiros.\n",
        "\n",
        "**Calcule e mostre:**\n",
        "\n",
        "* todos os números pares;\n",
        "* a quantidade de números pares;\n",
        "* todos os números ímpares;\n",
        "* a quantidade de números ímpares\n",
        "\n",
        "Não use nenhuma função pronta da linguagem Python, a não ser len() e append()."
      ]
    },
    {
      "cell_type": "code",
      "execution_count": null,
      "metadata": {
        "colab": {
          "base_uri": "https://localhost:8080/"
        },
        "id": "Q5BKNgZqpm8S",
        "outputId": "e8049ce1-d12a-4515-a490-3b1783fd88b1"
      },
      "outputs": [
        {
          "name": "stdout",
          "output_type": "stream",
          "text": [
            "Informe o 1º elemento: 1\n",
            "Informe o 2º elemento: 2\n",
            "Informe o 3º elemento: 3\n",
            "Informe o 4º elemento: 4\n",
            "Apresentação de valores pares e ímpares\n",
            "Este número 1 é ímpar\n",
            "Este número 2 é par\n",
            "Este número 3 é ímpar\n",
            "Este número 4 é par\n",
            "Quantidade de valores pares 2\n",
            "Quantidade de valores ímpares 2\n"
          ]
        }
      ],
      "source": [
        "numeros = []\n",
        "pares = 0\n",
        "impares = 0\n",
        "for i in range(4):\n",
        "    numeros.append(int(input(f'Informe o {i+1}º elemento: ')))\n",
        "    if numeros[i] % 2 == 0:\n",
        "        pares += 1\n",
        "    else:\n",
        "        impares += 1\n",
        "\n",
        "print('Apresentação de valores pares e ímpares')\n",
        "for i in range(len(numeros)):\n",
        "    if numeros[i] % 2 == 0:\n",
        "        print('Este número',numeros[i],'é par')\n",
        "    else:\n",
        "        print('Este número',numeros[i],'é ímpar')\n",
        "print('Quantidade de valores pares',pares)\n",
        "print('Quantidade de valores ímpares',impares)"
      ]
    },
    {
      "cell_type": "code",
      "execution_count": null,
      "metadata": {
        "colab": {
          "base_uri": "https://localhost:8080/"
        },
        "id": "0OjTx-RoFZUT",
        "outputId": "4309eef9-7958-4012-be37-196d75c7bb0b"
      },
      "outputs": [
        {
          "name": "stdout",
          "output_type": "stream",
          "text": [
            "Informe o número: 1\n",
            "Informe o número: 1\n",
            "Informe o número: 1\n",
            "Informe o número: 1\n",
            "Informe o número: 1\n",
            "Informe o número: 1\n",
            "\n",
            "Apresentação de valores pares e ímpares\n",
            "Este número 1 é ímpar.\n",
            "Este número 1 é ímpar.\n",
            "Este número 1 é ímpar.\n",
            "Este número 1 é ímpar.\n",
            "Este número 1 é ímpar.\n",
            "Este número 1 é ímpar.\n",
            "Percentual de valores pares 0.0 %\n",
            "\n",
            "Quantidade de valores pares 0\n",
            "Quantidade de valores ímpares 6\n"
          ]
        }
      ],
      "source": [
        "# Digite seu código aqui"
      ]
    },
    {
      "cell_type": "markdown",
      "metadata": {
        "id": "qTCb3GyDFzlm"
      },
      "source": [
        "### 11. Faça um programa que:\n",
        "\n",
        "* preencha um vetor com sete números inteiros\n",
        "\n",
        "**Calcule e mostre:**\n",
        "\n",
        "* os números múltiplos de 2;\n",
        "* os números múltiplos de 3;\n",
        "* os números múltiplos de 2 **e de** 3.\n",
        "\n",
        "Não use nenhuma função pronta da linguagem Python, a não ser len() e append()."
      ]
    },
    {
      "cell_type": "code",
      "execution_count": null,
      "metadata": {
        "colab": {
          "base_uri": "https://localhost:8080/"
        },
        "id": "OPX_rge2F3kR",
        "outputId": "57bf47ef-3820-44d5-e7e8-76f50713eac6"
      },
      "outputs": [
        {
          "name": "stdout",
          "output_type": "stream",
          "text": [
            "Informe o 1º número: 2\n",
            "Informe o 2º número: 9\n",
            "Informe o 3º número: 12\n",
            "Informe o 4º número: 24\n",
            "Informe o 5º número: 37\n",
            "[2, 9, 12, 24, 37]\n",
            "O número 2 é múltiplo por 2\n",
            "O número 9 é múltiplo por 3\n",
            "O número 12 é múltiplo por 2 e 3\n",
            "O número 24 é múltiplo por 2 e 3\n",
            "O número 37 não é multiplo de 2 e de 3\n"
          ]
        }
      ],
      "source": [
        "# Digite seu código aqui.\n",
        "numeros = []\n",
        "multiplo_dois = 0\n",
        "multiplo_tres = 0\n",
        "for i in range(5):\n",
        "    numeros.append(int(input(f'Informe o {i+1}º número: ')))\n",
        "\n",
        "print(numeros)\n",
        "\n",
        "for i in range(len(numeros)):\n",
        "    if numeros[i] % 3 == 0 and numeros[i] % 2 ==0:\n",
        "        print('O número',numeros[i],'é múltiplo por 2 e 3')\n",
        "    elif numeros[i] % 2 == 0:\n",
        "        print('O número',numeros[i],'é múltiplo por 2')\n",
        "    elif numeros[i] % 3 == 0:\n",
        "        print('O número',numeros[i],'é múltiplo por 3')\n",
        "    else:\n",
        "        print('O número',numeros[i],'não é multiplo de 2 nem de 3')\n"
      ]
    },
    {
      "cell_type": "markdown",
      "metadata": {
        "id": "sf4dSTh-F3wV"
      },
      "source": [
        "### 12. Faça um programa que:\n",
        "\n",
        "* preencha um vetor com quinze elementos inteiros\n",
        "* verifique a existência de elementos iguais a 30, mostrando os índices/posições em que apareceram.\n",
        "\n",
        "Não use nenhuma função pronta da linguagem Python, a não ser len() e append()."
      ]
    },
    {
      "cell_type": "code",
      "execution_count": null,
      "metadata": {
        "colab": {
          "base_uri": "https://localhost:8080/"
        },
        "id": "pV6slXVYF8Fm",
        "outputId": "a215e088-4f43-4dd2-de9d-3d9fc4a004b9"
      },
      "outputs": [
        {
          "name": "stdout",
          "output_type": "stream",
          "text": [
            "Informe o 1º número: 10\n",
            "Informe o 2º número: 20\n",
            "Informe o 3º número: 30\n",
            "Informe o 4º número: 40\n",
            "Informe o 5º número: 50\n",
            "[10, 20, 30, 40, 50]\n",
            "O número 30 aparece no índice 2 do vetor\n"
          ]
        }
      ],
      "source": [
        "# Digite seu código aqui.\n",
        "elementos = []\n",
        "for i in range(5):\n",
        "    elementos.append(int(input(f'Informe o {i+1}º número: ')))\n",
        "print(elementos)\n",
        "\n",
        "for i in range(len(elementos)):\n",
        "    if elementos[i] == 30:\n",
        "        print('O número 30 aparece no índice',i,'do vetor')"
      ]
    },
    {
      "cell_type": "markdown",
      "metadata": {
        "id": "9UnrFcvfF8VU"
      },
      "source": [
        "### 13. Faça um programa que:\n",
        "\n",
        "* preencha um vetor com dez números reais\n",
        "\n",
        "**Calcule e mostre:**\n",
        "\n",
        "* a quantidade de números negativos\n",
        "* a soma dos números positivos desse *vetor*\n",
        "* não use nenhuma função pronta da linguagem Python, a não ser len() e append()"
      ]
    },
    {
      "cell_type": "code",
      "execution_count": null,
      "metadata": {
        "colab": {
          "base_uri": "https://localhost:8080/"
        },
        "id": "x4hGToRMM6q8",
        "outputId": "1fe2ad27-33cb-451f-a8ff-041a8aa10fc1"
      },
      "outputs": [
        {
          "name": "stdout",
          "output_type": "stream",
          "text": [
            "Informe o 1º número: 50\n",
            "Informe o 2º número: 500\n",
            "Informe o 3º número: -33\n",
            "Informe o 4º número: -15\n",
            "Informe o 5º número: -22\n",
            "[50.0, 500.0, -33.0, -15.0, -22.0]\n",
            "A quantidade de número(s) negativo(s) desse vetor é 3\n",
            "A quantidade de número(s) positivo(s) desse vetor é 2\n",
            "A soma dos números positivos desse vetor é 550.0\n"
          ]
        }
      ],
      "source": [
        "# Digite seu código aqui.\n",
        "reais = []\n",
        "negativo = 0\n",
        "positivo = 0\n",
        "soma = 0\n",
        "for i in range(5):\n",
        "    reais.append(float(input(f'Informe o {i+1}º número: ')))\n",
        "    if reais[i] < 0:\n",
        "        negativo += 1\n",
        "    else:\n",
        "        positivo += 1\n",
        "        soma += reais[i]\n",
        "print(reais)\n",
        "print('A quantidade de número(s) negativo(s) desse vetor é',negativo)\n",
        "print('A quantidade de número(s) positivo(s) desse vetor é',positivo)\n",
        "print('A soma dos números positivos desse vetor é',soma)"
      ]
    },
    {
      "cell_type": "markdown",
      "metadata": {
        "id": "h08bQeSEM62n"
      },
      "source": [
        "### 14. Faça um programa que:\n",
        "\n",
        "* receba dez números inteiros e armazene-os em um vetor\n",
        "* classifique os números em dois vetores, um com números pares e o outra com os ímpares\n",
        "\n",
        "Não use nenhuma função pronta da linguagem Python, a não ser len() e append()."
      ]
    },
    {
      "cell_type": "code",
      "execution_count": null,
      "metadata": {
        "colab": {
          "base_uri": "https://localhost:8080/"
        },
        "id": "5Ch4maMCM-hg",
        "outputId": "20505718-700e-4e38-a831-8ca81aa86061"
      },
      "outputs": [
        {
          "name": "stdout",
          "output_type": "stream",
          "text": [
            "Informe o 1º número inteiro: 1\n",
            "Informe o 2º número inteiro: 2\n",
            "Informe o 3º número inteiro: 3\n",
            "Informe o 4º número inteiro: 4\n",
            "Informe o 5º número inteiro: 5\n",
            "Informe o 6º número inteiro: 6\n",
            "[1, 2, 3, 4, 5, 6]\n",
            "Vetor com números pares: [2, 4, 6]\n",
            "Vetor com números ímpares: [1, 3, 5]\n"
          ]
        }
      ],
      "source": [
        "# Digite seu código aqui.\n",
        "inteiros = []\n",
        "pares = []\n",
        "impares = []\n",
        "for i in range(6):\n",
        "    inteiros.append(int(input(f'Informe o {i+1}º número inteiro: ')))\n",
        "    if inteiros[i] % 2 == 0:\n",
        "        pares.append(inteiros[i])\n",
        "    else:\n",
        "        impares.append(inteiros[i])\n",
        "print(inteiros)\n",
        "print('Vetor com números pares:',pares)\n",
        "print('Vetor com números ímpares:',impares)\n"
      ]
    },
    {
      "cell_type": "markdown",
      "metadata": {
        "id": "Lzqh-l1JNNTr"
      },
      "source": [
        "### 15. Faça um programa que:\n",
        "\n",
        "* preencha um vetor com quinze números\n",
        "\n",
        "**Determine e mostre:**\n",
        "\n",
        "* o maior número e a posição por ele ocupada no vetor\n",
        "* o menor número e a posição por ele ocupada no vetor\n",
        "\n",
        "Não use nenhuma função pronta da linguagem Python, a não ser len() e append()."
      ]
    },
    {
      "cell_type": "code",
      "execution_count": null,
      "metadata": {
        "colab": {
          "base_uri": "https://localhost:8080/"
        },
        "id": "J-jy56awNIb4",
        "outputId": "08e2cf34-9641-476e-c0a5-113d41147f6b"
      },
      "outputs": [
        {
          "name": "stdout",
          "output_type": "stream",
          "text": [
            "Informe o 1º número: 1\n",
            "Informe o 2º número: 2\n",
            "Informe o 3º número: 3\n",
            "Informe o 4º número: 4\n",
            "Informe o 5º número: 5\n",
            "[1, 2, 3, 4, 5]\n",
            "Posição dos vetores: 0 1 2 3 4\n",
            "O maior número digitado é: 5 e sua posição no vetor é 4\n",
            "O menor número digitado é: 1 e sua posição no vetor é 0\n"
          ]
        }
      ],
      "source": [
        "# Digite seu código aqui.\n",
        "numeros = []\n",
        "maior = 0\n",
        "menor = 0\n",
        "for i in range(5):\n",
        "    numeros.append(int(input(f'Informe o {i+1}º número: ')))\n",
        "    if i == 0:\n",
        "        maior = numeros[i]\n",
        "        menor = numeros[i]\n",
        "    if numeros[i] >= maior:\n",
        "        maior = numeros[i]\n",
        "    if numeros[i] < menor:\n",
        "        menor = numeros[i]\n",
        "print(numeros)\n",
        "print('Posição dos vetores:',*range(len(numeros)))\n",
        "for i in range(len(numeros)):\n",
        "    if maior == numeros[i]:\n",
        "        print('O maior número digitado é:',maior,'e sua posição no vetor é',i)\n",
        "for i in range(len(numeros)):\n",
        "    if menor == numeros[i]:\n",
        "        print('O menor número digitado é:',menor,'e sua posição no vetor é',i)"
      ]
    },
    {
      "cell_type": "markdown",
      "metadata": {
        "id": "CwrnVAqjNIqA"
      },
      "source": [
        "### 16. Faça um programa que:\n",
        "\n",
        "* preencha dois vetores com dez números cada\n",
        "* preencha um terceiro vetor com os números dos dois vetores anteriores ordenados em ordem crescente\n",
        "* pesquise no slide de vetor a função sort() de vetor\n"
      ]
    },
    {
      "cell_type": "code",
      "execution_count": null,
      "metadata": {
        "colab": {
          "base_uri": "https://localhost:8080/"
        },
        "id": "JG4VQSZ0NNGP",
        "outputId": "6258e065-d9c0-460d-ec48-1145fe691f88"
      },
      "outputs": [
        {
          "name": "stdout",
          "output_type": "stream",
          "text": [
            "Informe um número: 999\n",
            "Informe um número: 1\n",
            "Informe um número: 33\n",
            "Informe um número: 714\n",
            "Informe um número: 680\n",
            "Informe um número: 115\n",
            "[999, 33, 680]\n",
            "[1, 714, 115]\n",
            "O terceiro vetor é formado por esses elementos em ordem crescente: [1, 33, 115, 680, 714, 999]\n"
          ]
        }
      ],
      "source": [
        "# Digite seu código aqui.\n",
        "vetor1 = []\n",
        "vetor2 = []\n",
        "vetor3 = []\n",
        "for i in range(3):\n",
        "    vetor1.append(int(input('Informe um número: ')))\n",
        "    vetor2.append(int(input('Informe um número: ')))\n",
        "    vetor3.append(vetor1[i])\n",
        "    vetor3.append(vetor2[i])\n",
        "    vetor3.sort()\n",
        "\n",
        "print(vetor1)\n",
        "print(vetor2)\n",
        "print('O terceiro vetor é formado por esses elementos em ordem crescente:',vetor3)"
      ]
    },
    {
      "cell_type": "code",
      "source": [
        "vetor1 = []\n",
        "vetor2 = []\n",
        "vetor3 = []\n",
        "for i in range(3):\n",
        "    vetor1.append(int(input('Informe um número: ')))\n",
        "    vetor2.append(int(input('Informe um número: ')))\n",
        "\n",
        "vetor3 = vetor1 + vetor2\n",
        "print(vetor3)\n",
        "vetor3.sort()\n",
        "\n",
        "print(vetor1)\n",
        "print(vetor2)\n",
        "print(vetor3)\n",
        "print('O terceiro vetor é formado por esses elementos em ordem crescente:',vetor3)\n",
        "vetor3.reverse()\n",
        "print('O terceiro vetor é formado por esses elementos em ordem decrescente:',vetor3)"
      ],
      "metadata": {
        "colab": {
          "base_uri": "https://localhost:8080/"
        },
        "id": "XRzE7mN0BCC8",
        "outputId": "3b1c1b84-77c0-490a-8739-3db69038bcd0"
      },
      "execution_count": null,
      "outputs": [
        {
          "output_type": "stream",
          "name": "stdout",
          "text": [
            "Informe um número: 999\n",
            "Informe um número: 1\n",
            "Informe um número: 33\n",
            "Informe um número: 714\n",
            "Informe um número: 680\n",
            "Informe um número: 115\n",
            "[999, 33, 680, 1, 714, 115]\n",
            "[999, 33, 680]\n",
            "[1, 714, 115]\n",
            "[1, 33, 115, 680, 714, 999]\n",
            "O terceiro vetor é formado por esses elementos em ordem crescente: [1, 33, 115, 680, 714, 999]\n",
            "O terceiro vetor é formado por esses elementos em ordem decrescente: [999, 714, 680, 115, 33, 1]\n"
          ]
        }
      ]
    },
    {
      "cell_type": "markdown",
      "metadata": {
        "id": "HkiTq5lrNSnY"
      },
      "source": [
        "### 17. Faça um programa que:\n",
        "\n",
        "* carregue dois vetores com 10 números cada\n",
        "* faça a multiplicação dos números na mesma posição\n",
        "* o resultado deverá ser adicionada em um terceiro vetor\n",
        "\n",
        "Não use nenhuma função pronta da linguagem Python, a não ser len() e append()."
      ]
    },
    {
      "cell_type": "code",
      "execution_count": null,
      "metadata": {
        "colab": {
          "base_uri": "https://localhost:8080/"
        },
        "id": "F1bta73yNXRe",
        "outputId": "42a0e134-04d0-4aa2-fd41-83575f316272"
      },
      "outputs": [
        {
          "name": "stdout",
          "output_type": "stream",
          "text": [
            "Informe um número: 8\n",
            "Informe um número: 3\n",
            "Informe um número: 6\n",
            "Informe um número: 2\n",
            "Informe um número: 3\n",
            "Informe um número: 9\n",
            "Informe um número: 5\n",
            "Informe um número: 2\n",
            "Primeiro vetor:  [8, 6, 3, 5]\n",
            "Segundo vetor:  [3, 2, 9, 2]\n",
            "Terceiro vetor com suas respectivas multiplicações:  [24, 12, 27, 10]\n"
          ]
        }
      ],
      "source": [
        "# Digite seu código aqui.\n",
        "\n",
        "# a [ 8, 6, 3, 5]\n",
        "# b [ 3, 2, 9, 2]\n",
        "# c [8*3, 6*2,3*9, 5*2]\n",
        "# c [24, 12, 27, 10]\n",
        "vetor1 = []\n",
        "vetor2 = []\n",
        "vetor3 = []\n",
        "for i in range(4):\n",
        "    vetor1.append(int(input('Informe um número: ')))\n",
        "    vetor2.append(int(input('Informe um número: ')))\n",
        "    multiplicacao = vetor1[i] * vetor2[i]\n",
        "    vetor3.append(multiplicacao)\n",
        "\n",
        "print('Primeiro vetor: ',vetor1)\n",
        "print('Segundo vetor: ',vetor2)\n",
        "print('Terceiro vetor com suas respectivas multiplicações: ',vetor3)"
      ]
    },
    {
      "cell_type": "markdown",
      "metadata": {
        "id": "ZAel4hPSNXdC"
      },
      "source": [
        "### 18. Faça um programa que:\n",
        "\n",
        "* leia um vetor de 10 números inteiros\n",
        "* exiba na tela os números positivos e seus respectivos índices.\n",
        "\n",
        "Não use nenhuma função pronta da linguagem Python, a não ser len() e append()."
      ]
    },
    {
      "cell_type": "code",
      "execution_count": null,
      "metadata": {
        "colab": {
          "base_uri": "https://localhost:8080/"
        },
        "id": "Wn-sojioNb99",
        "outputId": "1a178d06-2134-4bdb-df40-ad87e7e8cf62"
      },
      "outputs": [
        {
          "name": "stdout",
          "output_type": "stream",
          "text": [
            "Informe o 1º número: -55\n",
            "Informe o 2º número: 100\n",
            "Informe o 3º número: 400\n",
            "Informe o 4º número: -15\n",
            "Informe o 5º número: 99\n",
            "[-55, 100, 400, -15, 99]\n",
            "O 100 é um número positivo e seu respectivo índice no vetor é 1\n",
            "O 400 é um número positivo e seu respectivo índice no vetor é 2\n",
            "O 99 é um número positivo e seu respectivo índice no vetor é 4\n"
          ]
        }
      ],
      "source": [
        "# Digite seu código aqui.\n",
        "numeros = []\n",
        "for i in range(5):\n",
        "    numeros.append(int(input(f'Informe o {i+1}º número: ')))\n",
        "print(numeros)\n",
        "\n",
        "for i in range(len(numeros)):\n",
        "    if numeros[i] >= 0:\n",
        "        print('O',numeros[i],'é um número positivo e seu respectivo índice no vetor é',i)"
      ]
    },
    {
      "cell_type": "markdown",
      "metadata": {
        "id": "IErlUNBBNcKh"
      },
      "source": [
        "### 19. Faça um programa que:\n",
        "\n",
        "* insira dez números inteiros em um vetor\n",
        "* crie um segundo vetor, substituindo os números multiplos de 3 por \"999\"\"\n",
        "* exiba os dois vetores\n",
        "\n",
        "Não use nenhuma função pronta da linguagem Python, a não ser len() e append()."
      ]
    },
    {
      "cell_type": "code",
      "execution_count": null,
      "metadata": {
        "colab": {
          "base_uri": "https://localhost:8080/"
        },
        "id": "cjZ8u-ltZU4_",
        "outputId": "fe47b666-cf24-476c-b65f-f43c014c97c2"
      },
      "outputs": [
        {
          "output_type": "stream",
          "name": "stdout",
          "text": [
            "Informe o número: 33\n",
            "Informe o número: 5\n",
            "Informe o número: 9\n",
            "Informe o número: 32\n",
            "Vetor com números inteiros: [33, 5, 9, 32]\n",
            "Vetor com números múltiplos substituídos: [999, 5, 999, 32]\n"
          ]
        }
      ],
      "source": [
        "inteiros = []\n",
        "multiplos = []\n",
        "for i in range(4):\n",
        "    inteiros.append(int(input('Informe o número: ')))\n",
        "\n",
        "for i in range(len(inteiros)):\n",
        "    if inteiros[i] % 3 == 0:\n",
        "        multiplos.append(999)\n",
        "    else:\n",
        "        multiplos.append(inteiros[i])\n",
        "\n",
        "print('Vetor com números inteiros:',inteiros)\n",
        "print('Vetor com números múltiplos substituídos:',multiplos)"
      ]
    },
    {
      "cell_type": "code",
      "execution_count": null,
      "metadata": {
        "colab": {
          "base_uri": "https://localhost:8080/"
        },
        "id": "ABkUHan9NiRV",
        "outputId": "d685c054-7b4c-413e-84f1-3de2b07ff728"
      },
      "outputs": [
        {
          "name": "stdout",
          "output_type": "stream",
          "text": [
            "Digite o número[0]: 33\n",
            "Digite o número[1]: 5\n",
            "Digite o número[2]: 9\n",
            "Digite o número[3]: 32\n",
            "[999, 5, 999, 32]\n",
            "999\t5\t999\t32\t\n",
            " [999, 5, 999, 32]\n"
          ]
        }
      ],
      "source": [
        "# Digite seu código aqui"
      ]
    },
    {
      "cell_type": "markdown",
      "metadata": {
        "id": "ZtxMl1r8NnV7"
      },
      "source": [
        "### 20. Faça um programa que:\n",
        "\n",
        "* leia dois vetores (A e B) com cinco posições para números inteiros.\n",
        "* o programa deve, então, subtrair o primeiro elemento de A do último de B, armazenando o resultado num terceiro vetor, subtrair o segundo elemento de A do penúltimo de B, armazenando o resultado num terceiro vetor e assim por diante.\n",
        "* ao final, mostre o resultado do terceiro vetor\n",
        "\n",
        "**O índice de um dos vetores terá que ser decrementado (slide 2 de Vetor) , ou seja, você implementará ele manualmente.**\n",
        "\n",
        "Não use nenhuma função pronta da linguagem Python, a não ser len() e append()."
      ]
    },
    {
      "cell_type": "code",
      "execution_count": null,
      "metadata": {
        "colab": {
          "base_uri": "https://localhost:8080/"
        },
        "id": "TPVdojenNq37",
        "outputId": "9a028c44-3150-4e7f-e521-2ac7ff07521e"
      },
      "outputs": [
        {
          "name": "stdout",
          "output_type": "stream",
          "text": [
            "Digite o valor de a: 89\n",
            "Digite o valor de b: 68\n",
            "Digite o valor de a: 41\n",
            "Digite o valor de b: 32\n",
            "Digite o valor de a: 64\n",
            "Digite o valor de b: 79\n",
            "Digite o valor de a: 55\n",
            "Digite o valor de b: 76\n",
            "Digite o valor de a: 93\n",
            "Digite o valor de b: 38\n",
            "[89, 41, 64, 55, 93]\n",
            "[68, 32, 79, 76, 38]\n",
            "[51, -35, -15, 23, 25]\n"
          ]
        }
      ],
      "source": [
        "# Digite seu código aqui.\n",
        "# Exemplo:\n",
        "# a [89, 41, 64, 55, 93]\n",
        "# b [68, 32, 79, 76, 38]\n",
        "# c [89 - 38, 41 - 76, 64 - 79, 55 - 32, 93 - 68]\n",
        "# c [51, -35, -15, 23, 25]"
      ]
    },
    {
      "cell_type": "code",
      "execution_count": null,
      "metadata": {
        "colab": {
          "base_uri": "https://localhost:8080/"
        },
        "id": "R8rKZBNR9Zb1",
        "outputId": "d0dbef49-2e28-4ad4-edbf-9e15233bd27d"
      },
      "outputs": [
        {
          "name": "stdout",
          "output_type": "stream",
          "text": [
            "Digite valor do vetor a: 89\n",
            "Digite valor do vetor a: 41\n",
            "Digite valor do vetor a: 64\n",
            "Digite valor do vetor a: 55\n",
            "Digite valor do vetor a: 93\n",
            "Digite o valor do vetor b: 68\n",
            "Digite o valor do vetor b: 32\n",
            "Digite o valor do vetor b: 79\n",
            "Digite o valor do vetor b: 76\n",
            "Digite o valor do vetor b: 38\n",
            "Vetor A:  [89, 41, 64, 55, 93]\n",
            "Vetor B:  [68, 32, 79, 76, 38]\n",
            "Vetor C:  [51, -35, -15, 23, 25]\n"
          ]
        }
      ],
      "source": [
        "a = []\n",
        "b = []\n",
        "c = []\n",
        "for i in range(5):\n",
        "    a.append(int(input('Digite valor do vetor a: ')))\n",
        "\n",
        "for i in range(5):\n",
        "    b.append(int(input('Digite o valor do vetor b: ')))\n",
        "\n",
        "indiceb = len(b) - 1\n",
        "for i in range(len(a)):\n",
        "    c.append(a[i] - b[indiceb])\n",
        "    indiceb = indiceb - 1\n",
        "\n",
        "print('Vetor A: ',a)\n",
        "print('Vetor B: ',b)\n",
        "print('Vetor C: ',c)"
      ]
    },
    {
      "cell_type": "markdown",
      "metadata": {
        "id": "ASOIKJD7M-vh"
      },
      "source": [
        "###21. Faça um programa que:\n",
        "\n",
        "* preencha um vetor de cinco números e mostre a saída a seguir:\n",
        "* imprima a seguinte saída, exemplo (cada número e o sinal de adição e depois o resultado da soma dos números) 8 + 2 + 1 + 3 + 0 = 14\n",
        "\n",
        "Não use nenhuma função pronta da linguagem Python, a não ser len() e append()."
      ]
    },
    {
      "cell_type": "code",
      "source": [
        "# Digite seu código aqui.\n",
        "numero = []\n",
        "soma = 0\n",
        "for i in range(5):\n",
        "    numero.append(int(input('Digite o número: ')))\n",
        "    soma = soma + numero[i]\n",
        "\n",
        "mostrar = str(numero[0])\n",
        "for i in range(1,len(numero)):\n",
        "    mostrar = mostrar + ' + ' + str(numero[i])\n",
        "    print(mostrar)\n",
        "print(mostrar,'=',soma)"
      ],
      "metadata": {
        "colab": {
          "base_uri": "https://localhost:8080/"
        },
        "id": "GRywCpEYBm1M",
        "outputId": "a426b933-d757-4931-8689-59fe44f17c02"
      },
      "execution_count": null,
      "outputs": [
        {
          "output_type": "stream",
          "name": "stdout",
          "text": [
            "Digite o número: 8\n",
            "Digite o número: 2\n",
            "Digite o número: 1\n",
            "Digite o número: 3\n",
            "Digite o número: 0\n",
            "8 + 2\n",
            "8 + 2 + 1\n",
            "8 + 2 + 1 + 3\n",
            "8 + 2 + 1 + 3 + 0\n",
            "8 + 2 + 1 + 3 + 0 = 14\n"
          ]
        }
      ]
    },
    {
      "cell_type": "code",
      "source": [
        "# Digite seu código aqui.\n",
        "numeros = []\n",
        "for i in range(5):\n",
        "    numeros.append(int(input('Informe o número: ')))\n",
        "\n",
        "print(numeros)\n",
        "soma = 0\n",
        "\n",
        "for i in range(len(numeros)):\n",
        "    soma += numeros[i]\n",
        "\n",
        "for i in range(len(numeros)):\n",
        "    if numeros[i] == numeros[0]:\n",
        "        print(numeros[i],'+',end=' ')\n",
        "    elif numeros[i] == numeros[1]:\n",
        "        print(numeros[i],'+',end=' ')\n",
        "    elif numeros[i] == numeros[2]:\n",
        "        print(numeros[i],'+',end=' ')\n",
        "    elif numeros[i] == numeros[3]:\n",
        "        print(numeros[i],'+',end=' ')\n",
        "    elif numeros[i] == numeros[4]:\n",
        "        print(numeros[i],'=',soma)"
      ],
      "metadata": {
        "colab": {
          "base_uri": "https://localhost:8080/"
        },
        "id": "7yPWOFYNoJ8a",
        "outputId": "7909d402-7f60-4107-ddb5-0f532291865b"
      },
      "execution_count": null,
      "outputs": [
        {
          "output_type": "stream",
          "name": "stdout",
          "text": [
            "Informe o número: 8\n",
            "Informe o número: 2\n",
            "Informe o número: 1\n",
            "Informe o número: 3\n",
            "Informe o número: 0\n",
            "[8, 2, 1, 3, 0]\n",
            "8 + 2 + 1 + 3 + 0 = 14\n"
          ]
        }
      ]
    },
    {
      "cell_type": "markdown",
      "metadata": {
        "id": "D6GVJmfhNusA"
      },
      "source": [
        "### 22. Faça um programa que:\n",
        "* leia um vetor com quinze posições para números inteiros.\n",
        "* depois da leitura, em outro vetor, armazene a divisão de todos os  elementos pelo maior valor do vetor, para isso encontre o maior elemento\n",
        "* Mostre o vetor após os cálculos.\n",
        "\n",
        "Não use nenhuma função pronta da linguagem Python, a não ser len() e append()."
      ]
    },
    {
      "cell_type": "code",
      "execution_count": null,
      "metadata": {
        "id": "zto4otPkgPRV",
        "colab": {
          "base_uri": "https://localhost:8080/"
        },
        "outputId": "a8ec26ea-6012-420b-bf9a-be1b03c52d19"
      },
      "outputs": [
        {
          "output_type": "stream",
          "name": "stdout",
          "text": [
            "Informe o número: 1\n",
            "Informe o número: 2\n",
            "Informe o número: 3\n",
            "Informe o número: 4\n",
            "Elementos do primeiro vetor: [1, 2, 3, 4]\n",
            "Maior número inteiro do vetor: 4\n",
            "Elementos do segundo vetor após a divisão: [0.25, 0.5, 0.75, 1.0]\n"
          ]
        }
      ],
      "source": [
        "# Digite seu código aqui.\n",
        "numeros = []\n",
        "numeros2 = []\n",
        "maior = 0\n",
        "for i in range(4):\n",
        "    numeros.append(int(input('Informe o número: ')))\n",
        "    if i == 0:\n",
        "        maior = numeros[i]\n",
        "    if numeros[i] >= maior:\n",
        "        maior = numeros[i]\n",
        "for i in range(len(numeros)):\n",
        "    divisao = numeros[i] / maior\n",
        "    numeros2.append(divisao)\n",
        "print('Elementos do primeiro vetor:',numeros)\n",
        "print('Maior número inteiro do vetor:',maior)\n",
        "print('Elementos do segundo vetor após a divisão:',numeros2)"
      ]
    },
    {
      "cell_type": "markdown",
      "metadata": {
        "id": "Hwgks80Tawon"
      },
      "source": [
        "### 23. Um vetor é palíndromo se ele não se alterar quando o mesmo for invertido. Escreva um programa que verifique se um vetor é palíndromo, fazendo comparação de índice/posição por índice/posição do vetor original (vo) com o vetor invertido (vi). Não use nenhuma função pronta da linguagem Python, a não ser len() e append(). O tamanho do vetor pode ser da sua escolha. Use decremento para inverter o vetor (vi).\n",
        "Exemplo:\n",
        "vetor original    vo = {1, 3, 5, 2, 2, 5, 3, 1}  \n",
        "vetor invertido é vi = {1, 3, 5, 2, 2, 5, 3, 1}\n",
        "O vetor invertido **é palíndromo**, pois ele invertido é igual ao original\n",
        "\n",
        "vetor original    vo = {9, 7, 5, 2, 4, 5, 3, 6}  \n",
        "vetor invertido é vi = {6, 3, 5, 4, 2, 5, 7, 9}\n",
        "O vetor invertido **não é palíndromo**, pois ele invertido é igual ao original\n",
        "\n"
      ]
    },
    {
      "cell_type": "code",
      "execution_count": null,
      "metadata": {
        "id": "ua4_aIrbN0rO",
        "colab": {
          "base_uri": "https://localhost:8080/"
        },
        "outputId": "0def49a2-990f-4a1f-d8ac-5a12ce3b72c3"
      },
      "outputs": [
        {
          "output_type": "stream",
          "name": "stdout",
          "text": [
            "Inserir o número: 9\n",
            "Inserir o número: 7\n",
            "Inserir o número: 5\n",
            "Inserir o número: 2\n",
            "Inserir o número: 4\n",
            "Inserir o número: 5\n",
            "Inserir o número: 3\n",
            "Inserir o número: 6\n",
            "[9, 7, 5, 2, 4, 5, 3, 6]\n",
            "[6, 3, 5, 4, 2, 5, 7, 9]\n",
            "O vetor invertido não é palíndromo, pois ele invertido é diferente do original.\n"
          ]
        }
      ],
      "source": [
        "# Digite seu código aqui.\n",
        "vo = []\n",
        "vi = []\n",
        "for i in range(8):\n",
        "    vo.append(int(input('Inserir o número: ')))\n",
        "print(vo)\n",
        "\n",
        "vetor_invertido = vo[::-1]\n",
        "print(vetor_invertido)\n",
        "\n",
        "for i in range(len(vo)):\n",
        "    vi.append(vetor_invertido[i])\n",
        "\n",
        "if vo[i] == vi[i]:\n",
        "    print('O vetor invertido é palíndromo, pois ele invertido é igual ao original.')\n",
        "else:\n",
        "    print('O vetor invertido não é palíndromo, pois ele invertido é diferente do original.')"
      ]
    },
    {
      "cell_type": "code",
      "source": [
        "# Digite seu código aqui COM DECREMENTO\n",
        "vo = []\n",
        "vi = []\n",
        "for i in range(8):\n",
        "    vo.append(int(input('Inserir o número: ')))\n",
        "vetor_invertido = len(vo)-1\n",
        "print(vo)\n",
        "\n",
        "for i in range(len(vo)):\n",
        "    vi.append(vo[vetor_invertido])\n",
        "    vetor_invertido -= 1\n",
        "\n",
        "print(vi)\n",
        "\n",
        "if vo[i] == vi[i]:\n",
        "    print('O vetor invertido é palíndromo, pois ele invertido é igual ao original.')\n",
        "else:\n",
        "    print('O vetor invertido não é palíndromo, pois ele invertido é diferente do original.')"
      ],
      "metadata": {
        "colab": {
          "base_uri": "https://localhost:8080/"
        },
        "id": "k23shEdJUVGY",
        "outputId": "779e2ab7-67fe-45ce-af51-a8d8b28df460"
      },
      "execution_count": null,
      "outputs": [
        {
          "output_type": "stream",
          "name": "stdout",
          "text": [
            "Inserir o número: 1\n",
            "Inserir o número: 3\n",
            "Inserir o número: 5\n",
            "Inserir o número: 2\n",
            "Inserir o número: 2\n",
            "Inserir o número: 5\n",
            "Inserir o número: 3\n",
            "Inserir o número: 1\n",
            "[1, 3, 5, 2, 2, 5, 3, 1]\n",
            "[1, 3, 5, 2, 2, 5, 3, 1]\n",
            "O vetor invertido é palíndromo, pois ele invertido é igual ao original.\n"
          ]
        }
      ]
    }
  ],
  "metadata": {
    "colab": {
      "provenance": [],
      "include_colab_link": true
    },
    "kernelspec": {
      "display_name": "Python 3",
      "name": "python3"
    }
  },
  "nbformat": 4,
  "nbformat_minor": 0
}